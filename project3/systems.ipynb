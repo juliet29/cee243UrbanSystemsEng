{
 "cells": [
  {
   "cell_type": "code",
   "execution_count": 53,
   "metadata": {},
   "outputs": [],
   "source": [
    "import graphviz\n",
    "# https://graphviz.readthedocs.io/en/stable/examples.html\n",
    "# https://nbviewer.org/github/xflr6/graphviz/blob/master/examples/graphviz-notebook.ipynb\n",
    "import numpy as np"
   ]
  },
  {
   "cell_type": "code",
   "execution_count": 78,
   "metadata": {},
   "outputs": [],
   "source": [
    "f = graphviz.Digraph('Urban Systems Diagram', comment='Urban Systems Diagram')  "
   ]
  },
  {
   "cell_type": "code",
   "execution_count": 106,
   "metadata": {},
   "outputs": [],
   "source": [
    "original = [\"local natural enviro\", \"people\"]\n",
    "people_needs = [\"hospitals\", \"governance\", \"schools\", \"transportation\", \"housing\", \"agriculture\", \"water\"]\n",
    "products = [\"commerce\", \"waste\", \"crime\", \"tourism\", \"health\"]\n",
    "\n",
    "nodes = original + people_needs + products \n",
    "# nodes"
   ]
  },
  {
   "cell_type": "code",
   "execution_count": 107,
   "metadata": {},
   "outputs": [],
   "source": [
    "for i, val in zip(range(len(nodes)), nodes):\n",
    "    f.node(str(i), val)"
   ]
  },
  {
   "cell_type": "code",
   "execution_count": 81,
   "metadata": {},
   "outputs": [
    {
     "name": "stdout",
     "output_type": "stream",
     "text": [
      "// Urban Systems Diagram\n",
      "digraph \"Urban Systems Diagram\" {\n",
      "\t0 [label=\"local natural enviro\"]\n",
      "\t1 [label=people]\n",
      "\t2 [label=hospitals]\n",
      "\t3 [label=governance]\n",
      "\t4 [label=schools]\n",
      "\t5 [label=transportation]\n",
      "\t6 [label=housing]\n",
      "\t7 [label=agriculture]\n",
      "\t8 [label=water]\n",
      "\t9 [label=commerce]\n",
      "\t10 [label=waste]\n",
      "\t11 [label=crime]\n",
      "\t12 [label=tourism]\n",
      "\t13 [label=health]\n",
      "}\n",
      "\n"
     ]
    }
   ],
   "source": [
    "print(f.source) "
   ]
  },
  {
   "cell_type": "code",
   "execution_count": null,
   "metadata": {},
   "outputs": [],
   "source": [
    "# ag, gov, schools, hospitals, transportation\n",
    "commerce_inputs = []"
   ]
  },
  {
   "cell_type": "code",
   "execution_count": 108,
   "metadata": {},
   "outputs": [],
   "source": [
    "for i, val in zip(range(len(people_needs)), people_needs):\n",
    "    f.edge('1', str(i+2), label='+')\n",
    "    f.edge(str(i+2), '0', label='-')\n",
    "    if i+2 != 3: # not governance \n",
    "        f.edge(str(i+2), '9', label='+')\n",
    "    if i+2 == 3:\n",
    "        f.edge(str(i+2), '9', label='+/-')"
   ]
  },
  {
   "cell_type": "code",
   "execution_count": null,
   "metadata": {},
   "outputs": [],
   "source": []
  },
  {
   "cell_type": "code",
   "execution_count": 101,
   "metadata": {},
   "outputs": [
    {
     "data": {
      "text/plain": [
       "bytes"
      ]
     },
     "execution_count": 101,
     "metadata": {},
     "output_type": "execute_result"
    }
   ],
   "source": [
    "# node_names = f.pipe(format='dot_json')\n",
    "# type(node_names)\n",
    "# n = node_names.decode()\n",
    "# n"
   ]
  },
  {
   "cell_type": "code",
   "execution_count": 109,
   "metadata": {},
   "outputs": [
    {
     "data": {
      "text/plain": [
       "'graphs/Urban Systems Diagram.gv.pdf'"
      ]
     },
     "execution_count": 109,
     "metadata": {},
     "output_type": "execute_result"
    }
   ],
   "source": [
    "f.render(directory='graphs', view=False) "
   ]
  }
 ],
 "metadata": {
  "kernelspec": {
   "display_name": "classenv",
   "language": "python",
   "name": "python3"
  },
  "language_info": {
   "codemirror_mode": {
    "name": "ipython",
    "version": 3
   },
   "file_extension": ".py",
   "mimetype": "text/x-python",
   "name": "python",
   "nbconvert_exporter": "python",
   "pygments_lexer": "ipython3",
   "version": "3.9.15"
  },
  "orig_nbformat": 4
 },
 "nbformat": 4,
 "nbformat_minor": 2
}
