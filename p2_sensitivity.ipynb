{
 "cells": [
  {
   "cell_type": "code",
   "execution_count": 1,
   "metadata": {},
   "outputs": [],
   "source": [
    "import pickle\n",
    "import numpy as np\n",
    "import pandas as pd\n",
    "\n",
    "import plotly.graph_objects as go\n",
    "from plotly.subplots import make_subplots\n",
    "import plotly.express as px"
   ]
  },
  {
   "cell_type": "code",
   "execution_count": 2,
   "metadata": {},
   "outputs": [],
   "source": [
    "s_data = pickle.load(open(\"sensitivity.p\", \"rb\"))"
   ]
  },
  {
   "cell_type": "code",
   "execution_count": 3,
   "metadata": {},
   "outputs": [],
   "source": [
    "key_names  = [\"pol(t0)\", \"build(t0)\", \"coal(t0)\", \"solar(t0)\",\n",
    "'dels+',\n",
    " 'delb+',\n",
    " 'dels-',\n",
    " 'delc-',\n",
    " 'delb-',\n",
    " \"pol_intensity\", \"pol_threshold\", \"pol_decay_param\", \n",
    " \"urban_growth(t0)\", \"build_decom(t0)\", \"coal_extract(t0)\", \"solar_extract(t0)\", \"solar_inflow(t0)\"  ]\n",
    "keys = list(s_data.keys())"
   ]
  },
  {
   "cell_type": "code",
   "execution_count": 4,
   "metadata": {},
   "outputs": [],
   "source": [
    "def get_high_low(time_step, concern, stock_or_flux, keys=keys, key_names=key_names):\n",
    "    \"\"\"\n",
    "    time_step: 10, 25, 50, 100\n",
    "    concern: coal, pollution, buildings, solar\n",
    "    stock_or_flux: stock, flux\n",
    "     \"\"\"\n",
    "    \n",
    "    # extract the relevant data from sensitivity data \n",
    "    _dict = {}\n",
    "    _dict[\"low\"] = []\n",
    "    _dict[\"original\"] = []\n",
    "    _dict[\"high\"] = []\n",
    "    for k in keys:\n",
    "        _dict[\"low\"].append(s_data[k][0.5][time_step][stock_or_flux][concern] )\n",
    "        _dict[\"original\"].append(s_data[k][1][time_step][stock_or_flux][concern])\n",
    "        _dict[\"high\"].append(s_data[k][1.5][time_step][stock_or_flux][concern])\n",
    "\n",
    "    \n",
    "    # only look at differences \n",
    "    result = {}\n",
    "    result[\"low\"] = [np.abs(i - j) for i, j in zip(_dict[\"low\"], _dict[\"original\"])]\n",
    "\n",
    "    result[\"high\"] = [np.abs(i - j) for i, j in zip(_dict[\"low\"], _dict[\"high\"])]\n",
    "\n",
    "    result[\"low\"]  = [-1*i for i in result[\"low\"]]\n",
    "\n",
    "    return result\n"
   ]
  },
  {
   "cell_type": "code",
   "execution_count": 5,
   "metadata": {},
   "outputs": [],
   "source": [
    "def plot_value_over_time(concern, stock_or_flux, keys=keys, key_names=key_names):\n",
    "    time_steps = [10, 25, 50, 100]\n",
    "    keys = key_names\n",
    "\n",
    "    fig = make_subplots(rows=1, cols=4, shared_yaxes=True, subplot_titles=[f\"Year {t}\" for t in time_steps])\n",
    "\n",
    "    for ix, t in enumerate(time_steps):\n",
    "        result = get_high_low(t, concern, stock_or_flux)\n",
    "        fig.add_trace(go.Bar(\n",
    "            y = key_names,\n",
    "            x = result[\"low\"],\n",
    "            name = \"Low\",\n",
    "            orientation=\"h\",\n",
    "            marker_color = \"rgb( 158, 202, 225)\",\n",
    "            showlegend = False, \n",
    "        ), row = 1, col=ix+1)\n",
    "\n",
    "        fig.add_trace(go.Bar(\n",
    "            y = key_names,\n",
    "            x = result[\"high\"],\n",
    "            name = \"High\",\n",
    "            orientation=\"h\",\n",
    "            marker_color = \"Crimson\",\n",
    "            showlegend = False, \n",
    "        ), row = 1, col=ix+1)\n",
    "\n",
    "    fig.update_layout(title=f\"{concern.title()} {stock_or_flux.title()}\", barmode=\"overlay\")\n",
    "\n",
    "    return fig"
   ]
  },
  {
   "cell_type": "code",
   "execution_count": 6,
   "metadata": {},
   "outputs": [],
   "source": [
    "concerns = [\"buildings\", \"coal\", \"solar\", \"pollution\"]\n",
    "s_or_f = [\"stock\", \"flux\"]"
   ]
  },
  {
   "cell_type": "code",
   "execution_count": 12,
   "metadata": {},
   "outputs": [
    {
     "name": "stdout",
     "output_type": "stream",
     "text": [
      "buildings stock\n",
      "coal stock\n",
      "solar stock\n",
      "pollution stock\n",
      "buildings flux\n",
      "coal flux\n",
      "solar flux\n",
      "pollution flux\n"
     ]
    }
   ],
   "source": [
    "for s in s_or_f:\n",
    "    for c in concerns:\n",
    "        fig = plot_value_over_time(c, s)\n",
    "        fig.write_image(f\"figures/{c}_{s}.png\", width=1200, height=700)\n",
    "        print(c,s)\n",
    "    \n"
   ]
  },
  {
   "cell_type": "code",
   "execution_count": 8,
   "metadata": {},
   "outputs": [
    {
     "data": {
      "application/vnd.plotly.v1+json": {
       "config": {
        "plotlyServerURL": "https://plotly.com"
       },
       "data": [
        {
         "marker": {
          "color": "rgb( 158, 202, 225)"
         },
         "name": "Low",
         "orientation": "h",
         "showlegend": false,
         "type": "bar",
         "x": [
          0,
          -18.422022564744882,
          -9.55613825731934,
          0,
          0,
          -11.844045129489764,
          0,
          0,
          -13.477698930529371,
          0,
          -6.683727007617193,
          -3.8783205399462943,
          0,
          0,
          -77.56641079892583,
          0,
          0
         ],
         "xaxis": "x",
         "y": [
          "pol(t0)",
          "build(t0)",
          "coal(t0)",
          "solar(t0)",
          "dels+",
          "delb+",
          "dels-",
          "delc-",
          "delb-",
          "pol_intensity",
          "pol_threshold",
          "pol_decay_param",
          "urban_growth(t0)",
          "build_decom(t0)",
          "coal_extract(t0)",
          "solar_extract(t0)",
          "solar_inflow(t0)"
         ],
         "yaxis": "y"
        },
        {
         "marker": {
          "color": "Crimson"
         },
         "name": "High",
         "orientation": "h",
         "showlegend": false,
         "type": "bar",
         "x": [
          0,
          36.84404512948973,
          68.01027254160648,
          0,
          0,
          23.364722525625005,
          0,
          0,
          19.953588071099283,
          0,
          10.562047547563488,
          7.3872772189453215,
          0,
          0,
          70.88268379130864,
          0,
          0
         ],
         "xaxis": "x",
         "y": [
          "pol(t0)",
          "build(t0)",
          "coal(t0)",
          "solar(t0)",
          "dels+",
          "delb+",
          "dels-",
          "delc-",
          "delb-",
          "pol_intensity",
          "pol_threshold",
          "pol_decay_param",
          "urban_growth(t0)",
          "build_decom(t0)",
          "coal_extract(t0)",
          "solar_extract(t0)",
          "solar_inflow(t0)"
         ],
         "yaxis": "y"
        },
        {
         "marker": {
          "color": "rgb( 158, 202, 225)"
         },
         "name": "Low",
         "orientation": "h",
         "showlegend": false,
         "type": "bar",
         "x": [
          0,
          -8.534761496051392,
          -4.4272750488101575,
          0,
          0,
          -5.487242238108946,
          0,
          0,
          -1.0864588459659146,
          0,
          -3.0965121074109376,
          -1.796791893905553,
          0,
          0,
          -5.977692699669177,
          0,
          0
         ],
         "xaxis": "x2",
         "y": [
          "pol(t0)",
          "build(t0)",
          "coal(t0)",
          "solar(t0)",
          "dels+",
          "delb+",
          "dels-",
          "delc-",
          "delb-",
          "pol_intensity",
          "pol_threshold",
          "pol_decay_param",
          "urban_growth(t0)",
          "build_decom(t0)",
          "coal_extract(t0)",
          "solar_extract(t0)",
          "solar_inflow(t0)"
         ],
         "yaxis": "y2"
        },
        {
         "marker": {
          "color": "Crimson"
         },
         "name": "High",
         "orientation": "h",
         "showlegend": false,
         "type": "bar",
         "x": [
          0,
          17.069522992102765,
          8.209994825453427,
          0,
          0,
          10.824671041238114,
          0,
          0,
          2.5302302456578794,
          0,
          4.893304001316491,
          3.4224607502962936,
          0,
          0,
          9.074204807080115,
          0,
          0
         ],
         "xaxis": "x2",
         "y": [
          "pol(t0)",
          "build(t0)",
          "coal(t0)",
          "solar(t0)",
          "dels+",
          "delb+",
          "dels-",
          "delc-",
          "delb-",
          "pol_intensity",
          "pol_threshold",
          "pol_decay_param",
          "urban_growth(t0)",
          "build_decom(t0)",
          "coal_extract(t0)",
          "solar_extract(t0)",
          "solar_inflow(t0)"
         ],
         "yaxis": "y2"
        },
        {
         "marker": {
          "color": "rgb( 158, 202, 225)"
         },
         "name": "Low",
         "orientation": "h",
         "showlegend": false,
         "type": "bar",
         "x": [
          0,
          -2.3674538480863614,
          -12.544709023521396,
          0,
          0,
          -1.5221037820451375,
          0,
          0,
          -3.7525072449405688,
          0,
          -0.8589401716413119,
          -36.442239619179254,
          0,
          0,
          -1.658149626214735,
          0,
          0
         ],
         "xaxis": "x3",
         "y": [
          "pol(t0)",
          "build(t0)",
          "coal(t0)",
          "solar(t0)",
          "dels+",
          "delb+",
          "dels-",
          "delc-",
          "delb-",
          "pol_intensity",
          "pol_threshold",
          "pol_decay_param",
          "urban_growth(t0)",
          "build_decom(t0)",
          "coal_extract(t0)",
          "solar_extract(t0)",
          "solar_inflow(t0)"
         ],
         "yaxis": "y3"
        },
        {
         "marker": {
          "color": "Crimson"
         },
         "name": "High",
         "orientation": "h",
         "showlegend": false,
         "type": "bar",
         "x": [
          0,
          4.734907696172718,
          13.593996047603989,
          0,
          0,
          3.002650879313319,
          0,
          0,
          6.5715843722403395,
          0,
          1.3573515080805474,
          35.99129602906756,
          0,
          0,
          10.67702142844849,
          0,
          0
         ],
         "xaxis": "x3",
         "y": [
          "pol(t0)",
          "build(t0)",
          "coal(t0)",
          "solar(t0)",
          "dels+",
          "delb+",
          "dels-",
          "delc-",
          "delb-",
          "pol_intensity",
          "pol_threshold",
          "pol_decay_param",
          "urban_growth(t0)",
          "build_decom(t0)",
          "coal_extract(t0)",
          "solar_extract(t0)",
          "solar_inflow(t0)"
         ],
         "yaxis": "y3"
        },
        {
         "marker": {
          "color": "rgb( 158, 202, 225)"
         },
         "name": "Low",
         "orientation": "h",
         "showlegend": false,
         "type": "bar",
         "x": [
          0,
          -16.008890508948213,
          -67.49914424294178,
          0,
          0,
          -22.05896982507512,
          0,
          -9.958811192821306,
          -618.7144790543601,
          0,
          -16.053718227181257,
          -341.54168147563064,
          0,
          0,
          -22.550883462688834,
          0,
          0
         ],
         "xaxis": "x4",
         "y": [
          "pol(t0)",
          "build(t0)",
          "coal(t0)",
          "solar(t0)",
          "dels+",
          "delb+",
          "dels-",
          "delc-",
          "delb-",
          "pol_intensity",
          "pol_threshold",
          "pol_decay_param",
          "urban_growth(t0)",
          "build_decom(t0)",
          "coal_extract(t0)",
          "solar_extract(t0)",
          "solar_inflow(t0)"
         ],
         "yaxis": "y4"
        },
        {
         "marker": {
          "color": "Crimson"
         },
         "name": "High",
         "orientation": "h",
         "showlegend": false,
         "type": "bar",
         "x": [
          0,
          30.52137065702392,
          85.53401714600845,
          0,
          0,
          1088.4262465480838,
          0,
          12.280808016513399,
          640.7130464411093,
          0,
          26.913852081102164,
          363.93028081293295,
          0,
          0,
          49.61784270963446,
          0,
          0
         ],
         "xaxis": "x4",
         "y": [
          "pol(t0)",
          "build(t0)",
          "coal(t0)",
          "solar(t0)",
          "dels+",
          "delb+",
          "dels-",
          "delc-",
          "delb-",
          "pol_intensity",
          "pol_threshold",
          "pol_decay_param",
          "urban_growth(t0)",
          "build_decom(t0)",
          "coal_extract(t0)",
          "solar_extract(t0)",
          "solar_inflow(t0)"
         ],
         "yaxis": "y4"
        }
       ],
       "layout": {
        "annotations": [
         {
          "font": {
           "size": 16
          },
          "showarrow": false,
          "text": "Year 10",
          "x": 0.10625,
          "xanchor": "center",
          "xref": "paper",
          "y": 1,
          "yanchor": "bottom",
          "yref": "paper"
         },
         {
          "font": {
           "size": 16
          },
          "showarrow": false,
          "text": "Year 25",
          "x": 0.36875,
          "xanchor": "center",
          "xref": "paper",
          "y": 1,
          "yanchor": "bottom",
          "yref": "paper"
         },
         {
          "font": {
           "size": 16
          },
          "showarrow": false,
          "text": "Year 50",
          "x": 0.6312500000000001,
          "xanchor": "center",
          "xref": "paper",
          "y": 1,
          "yanchor": "bottom",
          "yref": "paper"
         },
         {
          "font": {
           "size": 16
          },
          "showarrow": false,
          "text": "Year 100",
          "x": 0.89375,
          "xanchor": "center",
          "xref": "paper",
          "y": 1,
          "yanchor": "bottom",
          "yref": "paper"
         }
        ],
        "barmode": "overlay",
        "template": {
         "data": {
          "bar": [
           {
            "error_x": {
             "color": "#2a3f5f"
            },
            "error_y": {
             "color": "#2a3f5f"
            },
            "marker": {
             "line": {
              "color": "#E5ECF6",
              "width": 0.5
             },
             "pattern": {
              "fillmode": "overlay",
              "size": 10,
              "solidity": 0.2
             }
            },
            "type": "bar"
           }
          ],
          "barpolar": [
           {
            "marker": {
             "line": {
              "color": "#E5ECF6",
              "width": 0.5
             },
             "pattern": {
              "fillmode": "overlay",
              "size": 10,
              "solidity": 0.2
             }
            },
            "type": "barpolar"
           }
          ],
          "carpet": [
           {
            "aaxis": {
             "endlinecolor": "#2a3f5f",
             "gridcolor": "white",
             "linecolor": "white",
             "minorgridcolor": "white",
             "startlinecolor": "#2a3f5f"
            },
            "baxis": {
             "endlinecolor": "#2a3f5f",
             "gridcolor": "white",
             "linecolor": "white",
             "minorgridcolor": "white",
             "startlinecolor": "#2a3f5f"
            },
            "type": "carpet"
           }
          ],
          "choropleth": [
           {
            "colorbar": {
             "outlinewidth": 0,
             "ticks": ""
            },
            "type": "choropleth"
           }
          ],
          "contour": [
           {
            "colorbar": {
             "outlinewidth": 0,
             "ticks": ""
            },
            "colorscale": [
             [
              0,
              "#0d0887"
             ],
             [
              0.1111111111111111,
              "#46039f"
             ],
             [
              0.2222222222222222,
              "#7201a8"
             ],
             [
              0.3333333333333333,
              "#9c179e"
             ],
             [
              0.4444444444444444,
              "#bd3786"
             ],
             [
              0.5555555555555556,
              "#d8576b"
             ],
             [
              0.6666666666666666,
              "#ed7953"
             ],
             [
              0.7777777777777778,
              "#fb9f3a"
             ],
             [
              0.8888888888888888,
              "#fdca26"
             ],
             [
              1,
              "#f0f921"
             ]
            ],
            "type": "contour"
           }
          ],
          "contourcarpet": [
           {
            "colorbar": {
             "outlinewidth": 0,
             "ticks": ""
            },
            "type": "contourcarpet"
           }
          ],
          "heatmap": [
           {
            "colorbar": {
             "outlinewidth": 0,
             "ticks": ""
            },
            "colorscale": [
             [
              0,
              "#0d0887"
             ],
             [
              0.1111111111111111,
              "#46039f"
             ],
             [
              0.2222222222222222,
              "#7201a8"
             ],
             [
              0.3333333333333333,
              "#9c179e"
             ],
             [
              0.4444444444444444,
              "#bd3786"
             ],
             [
              0.5555555555555556,
              "#d8576b"
             ],
             [
              0.6666666666666666,
              "#ed7953"
             ],
             [
              0.7777777777777778,
              "#fb9f3a"
             ],
             [
              0.8888888888888888,
              "#fdca26"
             ],
             [
              1,
              "#f0f921"
             ]
            ],
            "type": "heatmap"
           }
          ],
          "heatmapgl": [
           {
            "colorbar": {
             "outlinewidth": 0,
             "ticks": ""
            },
            "colorscale": [
             [
              0,
              "#0d0887"
             ],
             [
              0.1111111111111111,
              "#46039f"
             ],
             [
              0.2222222222222222,
              "#7201a8"
             ],
             [
              0.3333333333333333,
              "#9c179e"
             ],
             [
              0.4444444444444444,
              "#bd3786"
             ],
             [
              0.5555555555555556,
              "#d8576b"
             ],
             [
              0.6666666666666666,
              "#ed7953"
             ],
             [
              0.7777777777777778,
              "#fb9f3a"
             ],
             [
              0.8888888888888888,
              "#fdca26"
             ],
             [
              1,
              "#f0f921"
             ]
            ],
            "type": "heatmapgl"
           }
          ],
          "histogram": [
           {
            "marker": {
             "pattern": {
              "fillmode": "overlay",
              "size": 10,
              "solidity": 0.2
             }
            },
            "type": "histogram"
           }
          ],
          "histogram2d": [
           {
            "colorbar": {
             "outlinewidth": 0,
             "ticks": ""
            },
            "colorscale": [
             [
              0,
              "#0d0887"
             ],
             [
              0.1111111111111111,
              "#46039f"
             ],
             [
              0.2222222222222222,
              "#7201a8"
             ],
             [
              0.3333333333333333,
              "#9c179e"
             ],
             [
              0.4444444444444444,
              "#bd3786"
             ],
             [
              0.5555555555555556,
              "#d8576b"
             ],
             [
              0.6666666666666666,
              "#ed7953"
             ],
             [
              0.7777777777777778,
              "#fb9f3a"
             ],
             [
              0.8888888888888888,
              "#fdca26"
             ],
             [
              1,
              "#f0f921"
             ]
            ],
            "type": "histogram2d"
           }
          ],
          "histogram2dcontour": [
           {
            "colorbar": {
             "outlinewidth": 0,
             "ticks": ""
            },
            "colorscale": [
             [
              0,
              "#0d0887"
             ],
             [
              0.1111111111111111,
              "#46039f"
             ],
             [
              0.2222222222222222,
              "#7201a8"
             ],
             [
              0.3333333333333333,
              "#9c179e"
             ],
             [
              0.4444444444444444,
              "#bd3786"
             ],
             [
              0.5555555555555556,
              "#d8576b"
             ],
             [
              0.6666666666666666,
              "#ed7953"
             ],
             [
              0.7777777777777778,
              "#fb9f3a"
             ],
             [
              0.8888888888888888,
              "#fdca26"
             ],
             [
              1,
              "#f0f921"
             ]
            ],
            "type": "histogram2dcontour"
           }
          ],
          "mesh3d": [
           {
            "colorbar": {
             "outlinewidth": 0,
             "ticks": ""
            },
            "type": "mesh3d"
           }
          ],
          "parcoords": [
           {
            "line": {
             "colorbar": {
              "outlinewidth": 0,
              "ticks": ""
             }
            },
            "type": "parcoords"
           }
          ],
          "pie": [
           {
            "automargin": true,
            "type": "pie"
           }
          ],
          "scatter": [
           {
            "fillpattern": {
             "fillmode": "overlay",
             "size": 10,
             "solidity": 0.2
            },
            "type": "scatter"
           }
          ],
          "scatter3d": [
           {
            "line": {
             "colorbar": {
              "outlinewidth": 0,
              "ticks": ""
             }
            },
            "marker": {
             "colorbar": {
              "outlinewidth": 0,
              "ticks": ""
             }
            },
            "type": "scatter3d"
           }
          ],
          "scattercarpet": [
           {
            "marker": {
             "colorbar": {
              "outlinewidth": 0,
              "ticks": ""
             }
            },
            "type": "scattercarpet"
           }
          ],
          "scattergeo": [
           {
            "marker": {
             "colorbar": {
              "outlinewidth": 0,
              "ticks": ""
             }
            },
            "type": "scattergeo"
           }
          ],
          "scattergl": [
           {
            "marker": {
             "colorbar": {
              "outlinewidth": 0,
              "ticks": ""
             }
            },
            "type": "scattergl"
           }
          ],
          "scattermapbox": [
           {
            "marker": {
             "colorbar": {
              "outlinewidth": 0,
              "ticks": ""
             }
            },
            "type": "scattermapbox"
           }
          ],
          "scatterpolar": [
           {
            "marker": {
             "colorbar": {
              "outlinewidth": 0,
              "ticks": ""
             }
            },
            "type": "scatterpolar"
           }
          ],
          "scatterpolargl": [
           {
            "marker": {
             "colorbar": {
              "outlinewidth": 0,
              "ticks": ""
             }
            },
            "type": "scatterpolargl"
           }
          ],
          "scatterternary": [
           {
            "marker": {
             "colorbar": {
              "outlinewidth": 0,
              "ticks": ""
             }
            },
            "type": "scatterternary"
           }
          ],
          "surface": [
           {
            "colorbar": {
             "outlinewidth": 0,
             "ticks": ""
            },
            "colorscale": [
             [
              0,
              "#0d0887"
             ],
             [
              0.1111111111111111,
              "#46039f"
             ],
             [
              0.2222222222222222,
              "#7201a8"
             ],
             [
              0.3333333333333333,
              "#9c179e"
             ],
             [
              0.4444444444444444,
              "#bd3786"
             ],
             [
              0.5555555555555556,
              "#d8576b"
             ],
             [
              0.6666666666666666,
              "#ed7953"
             ],
             [
              0.7777777777777778,
              "#fb9f3a"
             ],
             [
              0.8888888888888888,
              "#fdca26"
             ],
             [
              1,
              "#f0f921"
             ]
            ],
            "type": "surface"
           }
          ],
          "table": [
           {
            "cells": {
             "fill": {
              "color": "#EBF0F8"
             },
             "line": {
              "color": "white"
             }
            },
            "header": {
             "fill": {
              "color": "#C8D4E3"
             },
             "line": {
              "color": "white"
             }
            },
            "type": "table"
           }
          ]
         },
         "layout": {
          "annotationdefaults": {
           "arrowcolor": "#2a3f5f",
           "arrowhead": 0,
           "arrowwidth": 1
          },
          "autotypenumbers": "strict",
          "coloraxis": {
           "colorbar": {
            "outlinewidth": 0,
            "ticks": ""
           }
          },
          "colorscale": {
           "diverging": [
            [
             0,
             "#8e0152"
            ],
            [
             0.1,
             "#c51b7d"
            ],
            [
             0.2,
             "#de77ae"
            ],
            [
             0.3,
             "#f1b6da"
            ],
            [
             0.4,
             "#fde0ef"
            ],
            [
             0.5,
             "#f7f7f7"
            ],
            [
             0.6,
             "#e6f5d0"
            ],
            [
             0.7,
             "#b8e186"
            ],
            [
             0.8,
             "#7fbc41"
            ],
            [
             0.9,
             "#4d9221"
            ],
            [
             1,
             "#276419"
            ]
           ],
           "sequential": [
            [
             0,
             "#0d0887"
            ],
            [
             0.1111111111111111,
             "#46039f"
            ],
            [
             0.2222222222222222,
             "#7201a8"
            ],
            [
             0.3333333333333333,
             "#9c179e"
            ],
            [
             0.4444444444444444,
             "#bd3786"
            ],
            [
             0.5555555555555556,
             "#d8576b"
            ],
            [
             0.6666666666666666,
             "#ed7953"
            ],
            [
             0.7777777777777778,
             "#fb9f3a"
            ],
            [
             0.8888888888888888,
             "#fdca26"
            ],
            [
             1,
             "#f0f921"
            ]
           ],
           "sequentialminus": [
            [
             0,
             "#0d0887"
            ],
            [
             0.1111111111111111,
             "#46039f"
            ],
            [
             0.2222222222222222,
             "#7201a8"
            ],
            [
             0.3333333333333333,
             "#9c179e"
            ],
            [
             0.4444444444444444,
             "#bd3786"
            ],
            [
             0.5555555555555556,
             "#d8576b"
            ],
            [
             0.6666666666666666,
             "#ed7953"
            ],
            [
             0.7777777777777778,
             "#fb9f3a"
            ],
            [
             0.8888888888888888,
             "#fdca26"
            ],
            [
             1,
             "#f0f921"
            ]
           ]
          },
          "colorway": [
           "#636efa",
           "#EF553B",
           "#00cc96",
           "#ab63fa",
           "#FFA15A",
           "#19d3f3",
           "#FF6692",
           "#B6E880",
           "#FF97FF",
           "#FECB52"
          ],
          "font": {
           "color": "#2a3f5f"
          },
          "geo": {
           "bgcolor": "white",
           "lakecolor": "white",
           "landcolor": "#E5ECF6",
           "showlakes": true,
           "showland": true,
           "subunitcolor": "white"
          },
          "hoverlabel": {
           "align": "left"
          },
          "hovermode": "closest",
          "mapbox": {
           "style": "light"
          },
          "paper_bgcolor": "white",
          "plot_bgcolor": "#E5ECF6",
          "polar": {
           "angularaxis": {
            "gridcolor": "white",
            "linecolor": "white",
            "ticks": ""
           },
           "bgcolor": "#E5ECF6",
           "radialaxis": {
            "gridcolor": "white",
            "linecolor": "white",
            "ticks": ""
           }
          },
          "scene": {
           "xaxis": {
            "backgroundcolor": "#E5ECF6",
            "gridcolor": "white",
            "gridwidth": 2,
            "linecolor": "white",
            "showbackground": true,
            "ticks": "",
            "zerolinecolor": "white"
           },
           "yaxis": {
            "backgroundcolor": "#E5ECF6",
            "gridcolor": "white",
            "gridwidth": 2,
            "linecolor": "white",
            "showbackground": true,
            "ticks": "",
            "zerolinecolor": "white"
           },
           "zaxis": {
            "backgroundcolor": "#E5ECF6",
            "gridcolor": "white",
            "gridwidth": 2,
            "linecolor": "white",
            "showbackground": true,
            "ticks": "",
            "zerolinecolor": "white"
           }
          },
          "shapedefaults": {
           "line": {
            "color": "#2a3f5f"
           }
          },
          "ternary": {
           "aaxis": {
            "gridcolor": "white",
            "linecolor": "white",
            "ticks": ""
           },
           "baxis": {
            "gridcolor": "white",
            "linecolor": "white",
            "ticks": ""
           },
           "bgcolor": "#E5ECF6",
           "caxis": {
            "gridcolor": "white",
            "linecolor": "white",
            "ticks": ""
           }
          },
          "title": {
           "x": 0.05
          },
          "xaxis": {
           "automargin": true,
           "gridcolor": "white",
           "linecolor": "white",
           "ticks": "",
           "title": {
            "standoff": 15
           },
           "zerolinecolor": "white",
           "zerolinewidth": 2
          },
          "yaxis": {
           "automargin": true,
           "gridcolor": "white",
           "linecolor": "white",
           "ticks": "",
           "title": {
            "standoff": 15
           },
           "zerolinecolor": "white",
           "zerolinewidth": 2
          }
         }
        },
        "title": {
         "text": "Buildings Flux"
        },
        "xaxis": {
         "anchor": "y",
         "domain": [
          0,
          0.2125
         ]
        },
        "xaxis2": {
         "anchor": "y2",
         "domain": [
          0.2625,
          0.475
         ]
        },
        "xaxis3": {
         "anchor": "y3",
         "domain": [
          0.525,
          0.7375
         ]
        },
        "xaxis4": {
         "anchor": "y4",
         "domain": [
          0.7875,
          1
         ]
        },
        "yaxis": {
         "anchor": "x",
         "domain": [
          0,
          1
         ]
        },
        "yaxis2": {
         "anchor": "x2",
         "domain": [
          0,
          1
         ],
         "matches": "y",
         "showticklabels": false
        },
        "yaxis3": {
         "anchor": "x3",
         "domain": [
          0,
          1
         ],
         "matches": "y",
         "showticklabels": false
        },
        "yaxis4": {
         "anchor": "x4",
         "domain": [
          0,
          1
         ],
         "matches": "y",
         "showticklabels": false
        }
       }
      }
     },
     "metadata": {},
     "output_type": "display_data"
    }
   ],
   "source": [
    "fig = plot_value_over_time(\"buildings\", \"flux\")\n",
    "fig"
   ]
  },
  {
   "cell_type": "code",
   "execution_count": 11,
   "metadata": {},
   "outputs": [],
   "source": [
    "fig.write_image(f\"figures/fig1.png\", width=1200, height=700)"
   ]
  }
 ],
 "metadata": {
  "kernelspec": {
   "display_name": "classenv",
   "language": "python",
   "name": "python3"
  },
  "language_info": {
   "codemirror_mode": {
    "name": "ipython",
    "version": 3
   },
   "file_extension": ".py",
   "mimetype": "text/x-python",
   "name": "python",
   "nbconvert_exporter": "python",
   "pygments_lexer": "ipython3",
   "version": "3.9.15"
  },
  "orig_nbformat": 4
 },
 "nbformat": 4,
 "nbformat_minor": 2
}
