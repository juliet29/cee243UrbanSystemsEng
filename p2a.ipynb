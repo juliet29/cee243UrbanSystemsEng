{
 "cells": [
  {
   "cell_type": "code",
   "execution_count": 91,
   "metadata": {},
   "outputs": [],
   "source": [
    "# import units as u\n",
    "import numpy as np\n",
    "import pylatex\n",
    "import formulas\n",
    "import pandas as pd\n",
    "\n",
    "import plotly.graph_objects as go\n",
    "from plotly.subplots import make_subplots\n",
    "import plotly.express as px\n"
   ]
  },
  {
   "cell_type": "code",
   "execution_count": 116,
   "metadata": {},
   "outputs": [],
   "source": [
    "constants = {\n",
    "    # initial values \n",
    "    \"p0\": 100, # pollution \n",
    "    \"b0\": 500, # building\n",
    "    \"c0\": 2500, # coal \n",
    "    \"s0\": 5000, # solar \n",
    "    # inflow rates \n",
    "    \"dels+\": 0.3, # solar inflow \n",
    "    \"delb+\": 0.1, # building inflow \n",
    "    # outflow rates \n",
    "    \"dels-\": 0.1, # solar outflow \n",
    "    \"delc-\": 0.2, # coal outflow \n",
    "    \"delb-\": 0.05, # building outflow \n",
    "    # other params \n",
    "    \"pi0\": 1.2, # pollution intensity \n",
    "    \"ap\": 2500, # pollution threshold \n",
    "    \"lambda\": 2, # pollution decay parameter \n",
    "    # initial values for variable rates \n",
    "    \"u0\": 0,\n",
    "    \"d0\": 0,\n",
    "    \"ec0\": 100, \n",
    "    \"es0\": 500,\n",
    "    \"r0\": 1500, \n",
    "\n",
    "}"
   ]
  },
  {
   "cell_type": "code",
   "execution_count": 93,
   "metadata": {},
   "outputs": [],
   "source": [
    "# initialize empyu dataframes with time steps \n",
    "\n",
    "def init_sim(time_steps=10):\n",
    "\n",
    "    time = np.arange(time_steps)\n",
    "    init = np.zeros(time_steps)\n",
    "\n",
    "    _stocks = {\n",
    "        \"pollution\": init,\n",
    "        \"buildings\": init,\n",
    "        \"coal\": init,\n",
    "        \"solar\": init,\n",
    "    }\n",
    "\n",
    "    _inflows = {\n",
    "        \"pollution\": init,\n",
    "        \"buildings\": init,\n",
    "        \"coal\": init,\n",
    "        \"solar\": init,\n",
    "    }\n",
    "\n",
    "    _outflows = {\n",
    "        \"pollution\": init,\n",
    "        \"buildings\": init,\n",
    "        \"coal\": init,\n",
    "        \"solar\": init,\n",
    "    }\n",
    "\n",
    "    stocks = pd.DataFrame(_stocks)\n",
    "    inflows = pd.DataFrame(_inflows)\n",
    "    outflows = pd.DataFrame(_outflows)\n",
    "\n",
    "    # initialize stocks\n",
    "    stocks[\"pollution\"][0] = constants[\"p0\"]\n",
    "    stocks[\"buildings\"][0] = constants[\"b0\"]\n",
    "    stocks[\"coal\"][0] = constants[\"c0\"]\n",
    "    stocks[\"solar\"][0] = constants[\"s0\"]\n",
    "\n",
    "\n",
    "    # initialize inflows \n",
    "    inflows[\"pollution\"][0] =  126 # 3000 when do this => constants[\"pi0\"]*constants[\"c0\"] # TODO check this, in excel, its coal_outflow(t=1), which doesnt make sense \n",
    "    inflows[\"buildings\"][0] = stocks[\"buildings\"][0] * constants[\"delb+\"]\n",
    "    inflows[\"coal\"][0] = 0\n",
    "    inflows[\"solar\"][0] = constants[\"r0\"]\n",
    "\n",
    "    # initialize outflows \n",
    "    outflows[\"pollution\"][0] = 0 \n",
    "    outflows[\"buildings\"][0] = stocks[\"buildings\"][0] * constants[\"delb-\"]\n",
    "    outflows[\"coal\"][0] = constants[\"ec0\"]\n",
    "    outflows[\"solar\"][0] =  constants[\"es0\"]\n",
    "\n",
    "    return stocks, inflows, outflows, time\n",
    "\n"
   ]
  },
  {
   "cell_type": "code",
   "execution_count": 124,
   "metadata": {},
   "outputs": [],
   "source": [
    "def step_sim(t=1, stocks=stocks, inflows=inflows, outflows=outflows):\n",
    "    concerns = [\"pollution\", \"buildings\", \"coal\", \"solar\"]\n",
    "\n",
    "    # ! stocks \n",
    "    vals = {}\n",
    "    for c in concerns:\n",
    "        vals[c] = stocks[c][t-1]  + inflows[c][t-1] - outflows[c][t-1]\n",
    "\n",
    "    stocks[\"pollution\"][t] = vals[\"pollution\"]\n",
    "    stocks[\"buildings\"][t] = vals[\"buildings\"]\n",
    "    stocks[\"coal\"][t] =  vals[\"coal\"] if vals[\"coal\"] > 0 else 0\n",
    "    stocks[\"solar\"][t] = vals[\"solar\"] if vals[\"solar\"] > 0 else 0\n",
    "\n",
    "    # used often for inflows and outflows \n",
    "    building_change = stocks[\"buildings\"][t] - stocks[\"buildings\"][t-1]\n",
    "\n",
    "    # ! inflows\n",
    "    # pollution \n",
    "    coal_change = np.abs(stocks[\"coal\"][t] - stocks[\"coal\"][t-1])\n",
    "    coal_init = stocks[\"coal\"][0]\n",
    "    inflows[\"pollution\"][t] = inflows[\"pollution\"][t-1]**(1 + coal_change/coal_init)\n",
    "\n",
    "    # buildings and coal \n",
    "    inflows[\"buildings\"][t] = stocks[\"buildings\"][t] * constants[\"delb+\"] # TODO where is the pollution if statement?\n",
    "    inflows[\"coal\"][t] = 0\n",
    "\n",
    "    # solar \n",
    "    min_buildings = 3 * stocks[\"buildings\"][0]  #TODO make 3  a constant?\n",
    "    in_solar_val = stocks[\"buildings\"][t] - min_buildings # < 0 -> original: stocks[\"buildings\"][t] < min_buildings \n",
    "    in_solar_t = constants[\"dels+\"] * (building_change) + inflows[\"solar\"][t-1]\n",
    "    in_solar_f = inflows[\"solar\"][t-1] * (1 - (in_solar_val/min_buildings))\n",
    "    inflows[\"solar\"][t] = in_solar_t if in_solar_val  < 0 else in_solar_f\n",
    "\n",
    "    # TODO if solar goes to 0, inflow should also? \n",
    "\n",
    "\n",
    "    # ! outflows\n",
    "    outflows[\"pollution\"][t] = stocks[\"pollution\"][t] * np.exp(-1 * constants[\"lambda\"])\n",
    "\n",
    "    outflows[\"buildings\"][t] =  constants[\"delb-\"] * stocks[\"buildings\"][t]\n",
    "\n",
    "    out_coal_t =  outflows[\"coal\"][t-1] + constants[\"delc-\"]*(building_change) \n",
    "    outflows[\"coal\"][t] =  out_coal_t if stocks[\"coal\"][t] > 0 else 0\n",
    "\n",
    "    outflows[\"solar\"][t] = outflows[\"solar\"][t-1] + building_change * constants[\"dels-\"] \n",
    "\n",
    "    # print(building_change, outflows[\"solar\"][t-1] )\n",
    "\n",
    "    return stocks, inflows, outflows\n",
    "    \n",
    "\n"
   ]
  },
  {
   "cell_type": "code",
   "execution_count": 102,
   "metadata": {},
   "outputs": [],
   "source": [
    "def run_sim(t=10):\n",
    "    stocks, inflows, outflows, time = init_sim(t)\n",
    "    for t in time[1:]:\n",
    "        stocks, inflows, outflows = step_sim(t, stocks, inflows, outflows)\n",
    "    return stocks, inflows, outflows, time\n",
    "\n",
    "def print_values(stocks, inflows, outflows):\n",
    "    print(f\"stocks \\n {stocks}\")\n",
    "    print(f\"in \\n {inflows}\")\n",
    "    print(f\"out \\n {outflows}\")"
   ]
  },
  {
   "cell_type": "code",
   "execution_count": 147,
   "metadata": {},
   "outputs": [],
   "source": [
    "def plot_simulation(res, log=False):\n",
    "    fig = make_subplots(rows=1, cols=3, shared_xaxes=True, subplot_titles=(\"Stocks\", \"Inflows\", \"Outflows\"))\n",
    "\n",
    "    colors = list(px.colors.qualitative.Plotly)\n",
    "\n",
    "    for ix, df in enumerate(res):\n",
    "        showlegendbool = True if ix == 0 else False\n",
    "        cnt = 0\n",
    "        for col in df:\n",
    "            fig.add_trace(go.Scatter(\n",
    "                x=time,\n",
    "                y=df[col], \n",
    "                mode='lines+markers',\n",
    "                marker_color=colors[cnt],\n",
    "                name=col,\n",
    "                showlegend=True,\n",
    "            ), row=1, col=ix+1, )\n",
    "\n",
    "            if log:\n",
    "                fig.update_yaxes(type=\"log\")\n",
    "\n",
    "            cnt+=1\n",
    "    return fig "
   ]
  },
  {
   "cell_type": "code",
   "execution_count": 142,
   "metadata": {},
   "outputs": [
    {
     "data": {
      "application/vnd.plotly.v1+json": {
       "config": {
        "plotlyServerURL": "https://plotly.com"
       },
       "data": [
        {
         "marker": {
          "color": "#636EFA"
         },
         "mode": "lines+markers",
         "name": "pollution",
         "showlegend": true,
         "type": "scatter",
         "x": [
          0,
          1,
          2,
          3,
          4,
          5,
          6,
          7,
          8,
          9,
          10
         ],
         "xaxis": "x",
         "y": [
          100,
          226,
          348.30643903485304,
          490.0237515426959,
          661.6678402422447,
          878.7059156483502,
          1164.7792172851703,
          1557.395007656808,
          2118.3552799332647,
          2953.644159205216,
          4253.065362815593
         ],
         "yaxis": "y"
        },
        {
         "marker": {
          "color": "#EF553B"
         },
         "mode": "lines+markers",
         "name": "buildings",
         "showlegend": true,
         "type": "scatter",
         "x": [
          0,
          1,
          2,
          3,
          4,
          5,
          6,
          7,
          8,
          9,
          10
         ],
         "xaxis": "x",
         "y": [
          500,
          525,
          551.25,
          578.8125,
          607.7531250000001,
          638.1407812500001,
          670.0478203125002,
          703.5502113281252,
          738.7277218945316,
          775.6641079892581,
          814.4473133887211
         ],
         "yaxis": "y"
        },
        {
         "marker": {
          "color": "#00CC96"
         },
         "mode": "lines+markers",
         "name": "coal",
         "showlegend": true,
         "type": "scatter",
         "x": [
          0,
          1,
          2,
          3,
          4,
          5,
          6,
          7,
          8,
          9,
          10
         ],
         "xaxis": "x",
         "y": [
          2500,
          2400,
          2295,
          2184.75,
          2068.9875,
          1947.436875,
          1819.80871875,
          1685.7991546875,
          1545.0891124218751,
          1397.3435680429689,
          1242.2107464451174
         ],
         "yaxis": "y"
        },
        {
         "marker": {
          "color": "#AB63FA"
         },
         "mode": "lines+markers",
         "name": "solar",
         "showlegend": true,
         "type": "scatter",
         "x": [
          0,
          1,
          2,
          3,
          4,
          5,
          6,
          7,
          8,
          9,
          10
         ],
         "xaxis": "x",
         "y": [
          5000,
          6000,
          7005,
          8015.25,
          9031.012499999999,
          10052.563124999999,
          11080.191281249998,
          12114.200845312498,
          13154.910887578122,
          14202.656431957028,
          15257.78925355488
         ],
         "yaxis": "y"
        },
        {
         "marker": {
          "color": "#636EFA"
         },
         "mode": "lines+markers",
         "name": "pollution",
         "showlegend": true,
         "type": "scatter",
         "x": [
          0,
          1,
          2,
          3,
          4,
          5,
          6,
          7,
          8,
          9,
          10
         ],
         "xaxis": "x2",
         "y": [
          126,
          152.89221304632753,
          188.85546308776068,
          237.96159190724717,
          306.5850799738476,
          404.9932156127767,
          550.2515156510462,
          771.7307667489772,
          1121.9770910774937,
          1699.1534724765816,
          2695.7439977631875
         ],
         "yaxis": "y2"
        },
        {
         "marker": {
          "color": "#EF553B"
         },
         "mode": "lines+markers",
         "name": "buildings",
         "showlegend": true,
         "type": "scatter",
         "x": [
          0,
          1,
          2,
          3,
          4,
          5,
          6,
          7,
          8,
          9,
          10
         ],
         "xaxis": "x2",
         "y": [
          50,
          52.5,
          55.125,
          57.88125,
          60.77531250000001,
          63.814078125000016,
          67.00478203125003,
          70.35502113281252,
          73.87277218945316,
          77.56641079892582,
          81.44473133887212
         ],
         "yaxis": "y2"
        },
        {
         "marker": {
          "color": "#00CC96"
         },
         "mode": "lines+markers",
         "name": "coal",
         "showlegend": true,
         "type": "scatter",
         "x": [
          0,
          1,
          2,
          3,
          4,
          5,
          6,
          7,
          8,
          9,
          10
         ],
         "xaxis": "x2",
         "y": [
          0,
          0,
          0,
          0,
          0,
          0,
          0,
          0,
          0,
          0,
          0
         ],
         "yaxis": "y2"
        },
        {
         "marker": {
          "color": "#AB63FA"
         },
         "mode": "lines+markers",
         "name": "solar",
         "showlegend": true,
         "type": "scatter",
         "x": [
          0,
          1,
          2,
          3,
          4,
          5,
          6,
          7,
          8,
          9,
          10
         ],
         "xaxis": "x2",
         "y": [
          1500,
          1507.5,
          1515.375,
          1523.64375,
          1532.3259375,
          1541.442234375,
          1551.01434609375,
          1561.0650633984374,
          1571.6183165683592,
          1582.6992323967772,
          1594.334194016616
         ],
         "yaxis": "y2"
        },
        {
         "marker": {
          "color": "#636EFA"
         },
         "mode": "lines+markers",
         "name": "pollution",
         "showlegend": true,
         "type": "scatter",
         "x": [
          0,
          1,
          2,
          3,
          4,
          5,
          6,
          7,
          8,
          9,
          10
         ],
         "xaxis": "x3",
         "y": [
          0,
          30.58577401147447,
          47.13815057991781,
          66.31750320769828,
          89.54700456774198,
          118.91991397595659,
          157.63572527940858,
          210.77049447252074,
          286.6882118055424,
          399.7322688662047,
          575.5898055004753
         ],
         "yaxis": "y3"
        },
        {
         "marker": {
          "color": "#EF553B"
         },
         "mode": "lines+markers",
         "name": "buildings",
         "showlegend": true,
         "type": "scatter",
         "x": [
          0,
          1,
          2,
          3,
          4,
          5,
          6,
          7,
          8,
          9,
          10
         ],
         "xaxis": "x3",
         "y": [
          25,
          26.25,
          27.5625,
          28.940625,
          30.387656250000006,
          31.907039062500008,
          33.502391015625015,
          35.17751056640626,
          36.93638609472658,
          38.78320539946291,
          40.72236566943606
         ],
         "yaxis": "y3"
        },
        {
         "marker": {
          "color": "#00CC96"
         },
         "mode": "lines+markers",
         "name": "coal",
         "showlegend": true,
         "type": "scatter",
         "x": [
          0,
          1,
          2,
          3,
          4,
          5,
          6,
          7,
          8,
          9,
          10
         ],
         "xaxis": "x3",
         "y": [
          100,
          105,
          110.25,
          115.7625,
          121.55062500000001,
          127.62815625000003,
          134.00956406250003,
          140.71004226562502,
          147.7455443789063,
          155.1328215978516,
          162.8894626777442
         ],
         "yaxis": "y3"
        },
        {
         "marker": {
          "color": "#AB63FA"
         },
         "mode": "lines+markers",
         "name": "solar",
         "showlegend": true,
         "type": "scatter",
         "x": [
          0,
          1,
          2,
          3,
          4,
          5,
          6,
          7,
          8,
          9,
          10
         ],
         "xaxis": "x3",
         "y": [
          500,
          502.5,
          505.125,
          507.88125,
          510.77531250000004,
          513.814078125,
          517.00478203125,
          520.3550211328125,
          523.8727721894531,
          527.5664107989257,
          531.4447313388721
         ],
         "yaxis": "y3"
        }
       ],
       "layout": {
        "annotations": [
         {
          "font": {
           "size": 16
          },
          "showarrow": false,
          "text": "Stocks",
          "x": 0.14444444444444446,
          "xanchor": "center",
          "xref": "paper",
          "y": 1,
          "yanchor": "bottom",
          "yref": "paper"
         },
         {
          "font": {
           "size": 16
          },
          "showarrow": false,
          "text": "Inflows",
          "x": 0.5,
          "xanchor": "center",
          "xref": "paper",
          "y": 1,
          "yanchor": "bottom",
          "yref": "paper"
         },
         {
          "font": {
           "size": 16
          },
          "showarrow": false,
          "text": "Outflows",
          "x": 0.8555555555555556,
          "xanchor": "center",
          "xref": "paper",
          "y": 1,
          "yanchor": "bottom",
          "yref": "paper"
         }
        ],
        "template": {
         "data": {
          "bar": [
           {
            "error_x": {
             "color": "#2a3f5f"
            },
            "error_y": {
             "color": "#2a3f5f"
            },
            "marker": {
             "line": {
              "color": "#E5ECF6",
              "width": 0.5
             },
             "pattern": {
              "fillmode": "overlay",
              "size": 10,
              "solidity": 0.2
             }
            },
            "type": "bar"
           }
          ],
          "barpolar": [
           {
            "marker": {
             "line": {
              "color": "#E5ECF6",
              "width": 0.5
             },
             "pattern": {
              "fillmode": "overlay",
              "size": 10,
              "solidity": 0.2
             }
            },
            "type": "barpolar"
           }
          ],
          "carpet": [
           {
            "aaxis": {
             "endlinecolor": "#2a3f5f",
             "gridcolor": "white",
             "linecolor": "white",
             "minorgridcolor": "white",
             "startlinecolor": "#2a3f5f"
            },
            "baxis": {
             "endlinecolor": "#2a3f5f",
             "gridcolor": "white",
             "linecolor": "white",
             "minorgridcolor": "white",
             "startlinecolor": "#2a3f5f"
            },
            "type": "carpet"
           }
          ],
          "choropleth": [
           {
            "colorbar": {
             "outlinewidth": 0,
             "ticks": ""
            },
            "type": "choropleth"
           }
          ],
          "contour": [
           {
            "colorbar": {
             "outlinewidth": 0,
             "ticks": ""
            },
            "colorscale": [
             [
              0,
              "#0d0887"
             ],
             [
              0.1111111111111111,
              "#46039f"
             ],
             [
              0.2222222222222222,
              "#7201a8"
             ],
             [
              0.3333333333333333,
              "#9c179e"
             ],
             [
              0.4444444444444444,
              "#bd3786"
             ],
             [
              0.5555555555555556,
              "#d8576b"
             ],
             [
              0.6666666666666666,
              "#ed7953"
             ],
             [
              0.7777777777777778,
              "#fb9f3a"
             ],
             [
              0.8888888888888888,
              "#fdca26"
             ],
             [
              1,
              "#f0f921"
             ]
            ],
            "type": "contour"
           }
          ],
          "contourcarpet": [
           {
            "colorbar": {
             "outlinewidth": 0,
             "ticks": ""
            },
            "type": "contourcarpet"
           }
          ],
          "heatmap": [
           {
            "colorbar": {
             "outlinewidth": 0,
             "ticks": ""
            },
            "colorscale": [
             [
              0,
              "#0d0887"
             ],
             [
              0.1111111111111111,
              "#46039f"
             ],
             [
              0.2222222222222222,
              "#7201a8"
             ],
             [
              0.3333333333333333,
              "#9c179e"
             ],
             [
              0.4444444444444444,
              "#bd3786"
             ],
             [
              0.5555555555555556,
              "#d8576b"
             ],
             [
              0.6666666666666666,
              "#ed7953"
             ],
             [
              0.7777777777777778,
              "#fb9f3a"
             ],
             [
              0.8888888888888888,
              "#fdca26"
             ],
             [
              1,
              "#f0f921"
             ]
            ],
            "type": "heatmap"
           }
          ],
          "heatmapgl": [
           {
            "colorbar": {
             "outlinewidth": 0,
             "ticks": ""
            },
            "colorscale": [
             [
              0,
              "#0d0887"
             ],
             [
              0.1111111111111111,
              "#46039f"
             ],
             [
              0.2222222222222222,
              "#7201a8"
             ],
             [
              0.3333333333333333,
              "#9c179e"
             ],
             [
              0.4444444444444444,
              "#bd3786"
             ],
             [
              0.5555555555555556,
              "#d8576b"
             ],
             [
              0.6666666666666666,
              "#ed7953"
             ],
             [
              0.7777777777777778,
              "#fb9f3a"
             ],
             [
              0.8888888888888888,
              "#fdca26"
             ],
             [
              1,
              "#f0f921"
             ]
            ],
            "type": "heatmapgl"
           }
          ],
          "histogram": [
           {
            "marker": {
             "pattern": {
              "fillmode": "overlay",
              "size": 10,
              "solidity": 0.2
             }
            },
            "type": "histogram"
           }
          ],
          "histogram2d": [
           {
            "colorbar": {
             "outlinewidth": 0,
             "ticks": ""
            },
            "colorscale": [
             [
              0,
              "#0d0887"
             ],
             [
              0.1111111111111111,
              "#46039f"
             ],
             [
              0.2222222222222222,
              "#7201a8"
             ],
             [
              0.3333333333333333,
              "#9c179e"
             ],
             [
              0.4444444444444444,
              "#bd3786"
             ],
             [
              0.5555555555555556,
              "#d8576b"
             ],
             [
              0.6666666666666666,
              "#ed7953"
             ],
             [
              0.7777777777777778,
              "#fb9f3a"
             ],
             [
              0.8888888888888888,
              "#fdca26"
             ],
             [
              1,
              "#f0f921"
             ]
            ],
            "type": "histogram2d"
           }
          ],
          "histogram2dcontour": [
           {
            "colorbar": {
             "outlinewidth": 0,
             "ticks": ""
            },
            "colorscale": [
             [
              0,
              "#0d0887"
             ],
             [
              0.1111111111111111,
              "#46039f"
             ],
             [
              0.2222222222222222,
              "#7201a8"
             ],
             [
              0.3333333333333333,
              "#9c179e"
             ],
             [
              0.4444444444444444,
              "#bd3786"
             ],
             [
              0.5555555555555556,
              "#d8576b"
             ],
             [
              0.6666666666666666,
              "#ed7953"
             ],
             [
              0.7777777777777778,
              "#fb9f3a"
             ],
             [
              0.8888888888888888,
              "#fdca26"
             ],
             [
              1,
              "#f0f921"
             ]
            ],
            "type": "histogram2dcontour"
           }
          ],
          "mesh3d": [
           {
            "colorbar": {
             "outlinewidth": 0,
             "ticks": ""
            },
            "type": "mesh3d"
           }
          ],
          "parcoords": [
           {
            "line": {
             "colorbar": {
              "outlinewidth": 0,
              "ticks": ""
             }
            },
            "type": "parcoords"
           }
          ],
          "pie": [
           {
            "automargin": true,
            "type": "pie"
           }
          ],
          "scatter": [
           {
            "fillpattern": {
             "fillmode": "overlay",
             "size": 10,
             "solidity": 0.2
            },
            "type": "scatter"
           }
          ],
          "scatter3d": [
           {
            "line": {
             "colorbar": {
              "outlinewidth": 0,
              "ticks": ""
             }
            },
            "marker": {
             "colorbar": {
              "outlinewidth": 0,
              "ticks": ""
             }
            },
            "type": "scatter3d"
           }
          ],
          "scattercarpet": [
           {
            "marker": {
             "colorbar": {
              "outlinewidth": 0,
              "ticks": ""
             }
            },
            "type": "scattercarpet"
           }
          ],
          "scattergeo": [
           {
            "marker": {
             "colorbar": {
              "outlinewidth": 0,
              "ticks": ""
             }
            },
            "type": "scattergeo"
           }
          ],
          "scattergl": [
           {
            "marker": {
             "colorbar": {
              "outlinewidth": 0,
              "ticks": ""
             }
            },
            "type": "scattergl"
           }
          ],
          "scattermapbox": [
           {
            "marker": {
             "colorbar": {
              "outlinewidth": 0,
              "ticks": ""
             }
            },
            "type": "scattermapbox"
           }
          ],
          "scatterpolar": [
           {
            "marker": {
             "colorbar": {
              "outlinewidth": 0,
              "ticks": ""
             }
            },
            "type": "scatterpolar"
           }
          ],
          "scatterpolargl": [
           {
            "marker": {
             "colorbar": {
              "outlinewidth": 0,
              "ticks": ""
             }
            },
            "type": "scatterpolargl"
           }
          ],
          "scatterternary": [
           {
            "marker": {
             "colorbar": {
              "outlinewidth": 0,
              "ticks": ""
             }
            },
            "type": "scatterternary"
           }
          ],
          "surface": [
           {
            "colorbar": {
             "outlinewidth": 0,
             "ticks": ""
            },
            "colorscale": [
             [
              0,
              "#0d0887"
             ],
             [
              0.1111111111111111,
              "#46039f"
             ],
             [
              0.2222222222222222,
              "#7201a8"
             ],
             [
              0.3333333333333333,
              "#9c179e"
             ],
             [
              0.4444444444444444,
              "#bd3786"
             ],
             [
              0.5555555555555556,
              "#d8576b"
             ],
             [
              0.6666666666666666,
              "#ed7953"
             ],
             [
              0.7777777777777778,
              "#fb9f3a"
             ],
             [
              0.8888888888888888,
              "#fdca26"
             ],
             [
              1,
              "#f0f921"
             ]
            ],
            "type": "surface"
           }
          ],
          "table": [
           {
            "cells": {
             "fill": {
              "color": "#EBF0F8"
             },
             "line": {
              "color": "white"
             }
            },
            "header": {
             "fill": {
              "color": "#C8D4E3"
             },
             "line": {
              "color": "white"
             }
            },
            "type": "table"
           }
          ]
         },
         "layout": {
          "annotationdefaults": {
           "arrowcolor": "#2a3f5f",
           "arrowhead": 0,
           "arrowwidth": 1
          },
          "autotypenumbers": "strict",
          "coloraxis": {
           "colorbar": {
            "outlinewidth": 0,
            "ticks": ""
           }
          },
          "colorscale": {
           "diverging": [
            [
             0,
             "#8e0152"
            ],
            [
             0.1,
             "#c51b7d"
            ],
            [
             0.2,
             "#de77ae"
            ],
            [
             0.3,
             "#f1b6da"
            ],
            [
             0.4,
             "#fde0ef"
            ],
            [
             0.5,
             "#f7f7f7"
            ],
            [
             0.6,
             "#e6f5d0"
            ],
            [
             0.7,
             "#b8e186"
            ],
            [
             0.8,
             "#7fbc41"
            ],
            [
             0.9,
             "#4d9221"
            ],
            [
             1,
             "#276419"
            ]
           ],
           "sequential": [
            [
             0,
             "#0d0887"
            ],
            [
             0.1111111111111111,
             "#46039f"
            ],
            [
             0.2222222222222222,
             "#7201a8"
            ],
            [
             0.3333333333333333,
             "#9c179e"
            ],
            [
             0.4444444444444444,
             "#bd3786"
            ],
            [
             0.5555555555555556,
             "#d8576b"
            ],
            [
             0.6666666666666666,
             "#ed7953"
            ],
            [
             0.7777777777777778,
             "#fb9f3a"
            ],
            [
             0.8888888888888888,
             "#fdca26"
            ],
            [
             1,
             "#f0f921"
            ]
           ],
           "sequentialminus": [
            [
             0,
             "#0d0887"
            ],
            [
             0.1111111111111111,
             "#46039f"
            ],
            [
             0.2222222222222222,
             "#7201a8"
            ],
            [
             0.3333333333333333,
             "#9c179e"
            ],
            [
             0.4444444444444444,
             "#bd3786"
            ],
            [
             0.5555555555555556,
             "#d8576b"
            ],
            [
             0.6666666666666666,
             "#ed7953"
            ],
            [
             0.7777777777777778,
             "#fb9f3a"
            ],
            [
             0.8888888888888888,
             "#fdca26"
            ],
            [
             1,
             "#f0f921"
            ]
           ]
          },
          "colorway": [
           "#636efa",
           "#EF553B",
           "#00cc96",
           "#ab63fa",
           "#FFA15A",
           "#19d3f3",
           "#FF6692",
           "#B6E880",
           "#FF97FF",
           "#FECB52"
          ],
          "font": {
           "color": "#2a3f5f"
          },
          "geo": {
           "bgcolor": "white",
           "lakecolor": "white",
           "landcolor": "#E5ECF6",
           "showlakes": true,
           "showland": true,
           "subunitcolor": "white"
          },
          "hoverlabel": {
           "align": "left"
          },
          "hovermode": "closest",
          "mapbox": {
           "style": "light"
          },
          "paper_bgcolor": "white",
          "plot_bgcolor": "#E5ECF6",
          "polar": {
           "angularaxis": {
            "gridcolor": "white",
            "linecolor": "white",
            "ticks": ""
           },
           "bgcolor": "#E5ECF6",
           "radialaxis": {
            "gridcolor": "white",
            "linecolor": "white",
            "ticks": ""
           }
          },
          "scene": {
           "xaxis": {
            "backgroundcolor": "#E5ECF6",
            "gridcolor": "white",
            "gridwidth": 2,
            "linecolor": "white",
            "showbackground": true,
            "ticks": "",
            "zerolinecolor": "white"
           },
           "yaxis": {
            "backgroundcolor": "#E5ECF6",
            "gridcolor": "white",
            "gridwidth": 2,
            "linecolor": "white",
            "showbackground": true,
            "ticks": "",
            "zerolinecolor": "white"
           },
           "zaxis": {
            "backgroundcolor": "#E5ECF6",
            "gridcolor": "white",
            "gridwidth": 2,
            "linecolor": "white",
            "showbackground": true,
            "ticks": "",
            "zerolinecolor": "white"
           }
          },
          "shapedefaults": {
           "line": {
            "color": "#2a3f5f"
           }
          },
          "ternary": {
           "aaxis": {
            "gridcolor": "white",
            "linecolor": "white",
            "ticks": ""
           },
           "baxis": {
            "gridcolor": "white",
            "linecolor": "white",
            "ticks": ""
           },
           "bgcolor": "#E5ECF6",
           "caxis": {
            "gridcolor": "white",
            "linecolor": "white",
            "ticks": ""
           }
          },
          "title": {
           "x": 0.05
          },
          "xaxis": {
           "automargin": true,
           "gridcolor": "white",
           "linecolor": "white",
           "ticks": "",
           "title": {
            "standoff": 15
           },
           "zerolinecolor": "white",
           "zerolinewidth": 2
          },
          "yaxis": {
           "automargin": true,
           "gridcolor": "white",
           "linecolor": "white",
           "ticks": "",
           "title": {
            "standoff": 15
           },
           "zerolinecolor": "white",
           "zerolinewidth": 2
          }
         }
        },
        "xaxis": {
         "anchor": "y",
         "domain": [
          0,
          0.2888888888888889
         ]
        },
        "xaxis2": {
         "anchor": "y2",
         "domain": [
          0.35555555555555557,
          0.6444444444444445
         ]
        },
        "xaxis3": {
         "anchor": "y3",
         "domain": [
          0.7111111111111111,
          1
         ]
        },
        "yaxis": {
         "anchor": "x",
         "domain": [
          0,
          1
         ]
        },
        "yaxis2": {
         "anchor": "x2",
         "domain": [
          0,
          1
         ]
        },
        "yaxis3": {
         "anchor": "x3",
         "domain": [
          0,
          1
         ]
        }
       }
      }
     },
     "metadata": {},
     "output_type": "display_data"
    }
   ],
   "source": [
    "stocks, inflows, outflows, time = run_sim(t=11)\n",
    "res = [stocks, inflows, outflows]\n",
    "plot_simulation(res)\n"
   ]
  },
  {
   "cell_type": "code",
   "execution_count": 150,
   "metadata": {},
   "outputs": [
    {
     "data": {
      "application/vnd.plotly.v1+json": {
       "config": {
        "plotlyServerURL": "https://plotly.com"
       },
       "data": [
        {
         "marker": {
          "color": "#636EFA"
         },
         "mode": "lines+markers",
         "name": "pollution",
         "showlegend": true,
         "type": "scatter",
         "x": [
          0,
          1,
          2,
          3,
          4,
          5,
          6,
          7,
          8,
          9,
          10,
          11,
          12,
          13,
          14,
          15
         ],
         "xaxis": "x",
         "y": [
          100,
          226,
          348.30643903485304,
          490.0237515426959,
          661.6678402422447,
          878.7059156483502,
          1164.7792172851703,
          1557.395007656808,
          2118.3552799332647,
          2953.644159205216,
          4253.065362815593,
          6373.219555078305,
          10021.016544364476,
          16685.377434208283,
          29726.15708072823,
          57347.22221788833
         ],
         "yaxis": "y"
        },
        {
         "marker": {
          "color": "#EF553B"
         },
         "mode": "lines+markers",
         "name": "buildings",
         "showlegend": true,
         "type": "scatter",
         "x": [
          0,
          1,
          2,
          3,
          4,
          5,
          6,
          7,
          8,
          9,
          10,
          11,
          12,
          13,
          14,
          15
         ],
         "xaxis": "x",
         "y": [
          500,
          525,
          551.25,
          578.8125,
          607.7531250000001,
          638.1407812500001,
          670.0478203125002,
          703.5502113281252,
          738.7277218945316,
          775.6641079892581,
          814.4473133887211,
          855.1696790581572,
          897.928163011065,
          942.8245711616182,
          989.9657997196991,
          1039.464089705684
         ],
         "yaxis": "y"
        },
        {
         "marker": {
          "color": "#00CC96"
         },
         "mode": "lines+markers",
         "name": "coal",
         "showlegend": true,
         "type": "scatter",
         "x": [
          0,
          1,
          2,
          3,
          4,
          5,
          6,
          7,
          8,
          9,
          10,
          11,
          12,
          13,
          14,
          15
         ],
         "xaxis": "x",
         "y": [
          2500,
          2400,
          2295,
          2184.75,
          2068.9875,
          1947.436875,
          1819.80871875,
          1685.7991546875,
          1545.0891124218751,
          1397.3435680429689,
          1242.2107464451174,
          1079.3212837673732,
          908.2873479557418,
          728.7017153535288,
          540.1368011212052,
          342.1436411772654
         ],
         "yaxis": "y"
        },
        {
         "marker": {
          "color": "#AB63FA"
         },
         "mode": "lines+markers",
         "name": "solar",
         "showlegend": true,
         "type": "scatter",
         "x": [
          0,
          1,
          2,
          3,
          4,
          5,
          6,
          7,
          8,
          9,
          10,
          11,
          12,
          13,
          14,
          15
         ],
         "xaxis": "x",
         "y": [
          5000,
          6000,
          7005,
          8015.25,
          9031.012499999999,
          10052.563124999999,
          11080.191281249998,
          12114.200845312498,
          13154.910887578122,
          14202.656431957028,
          15257.78925355488,
          16320.678716232624,
          17391.712652044254,
          18471.29828464647,
          19559.863198878793,
          20657.856358822733
         ],
         "yaxis": "y"
        },
        {
         "marker": {
          "color": "#636EFA"
         },
         "mode": "lines+markers",
         "name": "pollution",
         "showlegend": true,
         "type": "scatter",
         "x": [
          0,
          1,
          2,
          3,
          4,
          5,
          6,
          7,
          8,
          9,
          10,
          11,
          12,
          13,
          14,
          15
         ],
         "xaxis": "x2",
         "y": [
          126,
          152.89221304632753,
          188.85546308776068,
          237.96159190724717,
          306.5850799738476,
          404.9932156127767,
          550.2515156510462,
          771.7307667489772,
          1121.9770910774937,
          1699.1534724765816,
          2695.7439977631875,
          4510.318462901813,
          8020.558002194157,
          15298.89992748831,
          31644.063025216496,
          71895.7259732421
         ],
         "yaxis": "y2"
        },
        {
         "marker": {
          "color": "#EF553B"
         },
         "mode": "lines+markers",
         "name": "buildings",
         "showlegend": true,
         "type": "scatter",
         "x": [
          0,
          1,
          2,
          3,
          4,
          5,
          6,
          7,
          8,
          9,
          10,
          11,
          12,
          13,
          14,
          15
         ],
         "xaxis": "x2",
         "y": [
          50,
          52.5,
          55.125,
          57.88125,
          60.77531250000001,
          63.814078125000016,
          67.00478203125003,
          70.35502113281252,
          73.87277218945316,
          77.56641079892582,
          81.44473133887212,
          85.51696790581572,
          89.7928163011065,
          94.28245711616182,
          98.99657997196992,
          103.94640897056841
         ],
         "yaxis": "y2"
        },
        {
         "marker": {
          "color": "#00CC96"
         },
         "mode": "lines+markers",
         "name": "coal",
         "showlegend": true,
         "type": "scatter",
         "x": [
          0,
          1,
          2,
          3,
          4,
          5,
          6,
          7,
          8,
          9,
          10,
          11,
          12,
          13,
          14,
          15
         ],
         "xaxis": "x2",
         "y": [
          0,
          0,
          0,
          0,
          0,
          0,
          0,
          0,
          0,
          0,
          0,
          0,
          0,
          0,
          0,
          0
         ],
         "yaxis": "y2"
        },
        {
         "marker": {
          "color": "#AB63FA"
         },
         "mode": "lines+markers",
         "name": "solar",
         "showlegend": true,
         "type": "scatter",
         "x": [
          0,
          1,
          2,
          3,
          4,
          5,
          6,
          7,
          8,
          9,
          10,
          11,
          12,
          13,
          14,
          15
         ],
         "xaxis": "x2",
         "y": [
          1500,
          1507.5,
          1515.375,
          1523.64375,
          1532.3259375,
          1541.442234375,
          1551.01434609375,
          1561.0650633984374,
          1571.6183165683592,
          1582.6992323967772,
          1594.334194016616,
          1606.5509037174468,
          1619.3784489033192,
          1632.8473713484852,
          1646.9897399159095,
          1661.8392269117048
         ],
         "yaxis": "y2"
        },
        {
         "marker": {
          "color": "#636EFA"
         },
         "mode": "lines+markers",
         "name": "pollution",
         "showlegend": true,
         "type": "scatter",
         "x": [
          0,
          1,
          2,
          3,
          4,
          5,
          6,
          7,
          8,
          9,
          10,
          11,
          12,
          13,
          14,
          15
         ],
         "xaxis": "x3",
         "y": [
          0,
          30.58577401147447,
          47.13815057991781,
          66.31750320769828,
          89.54700456774198,
          118.91991397595659,
          157.63572527940858,
          210.77049447252074,
          286.6882118055424,
          399.7322688662047,
          575.5898055004753,
          862.5214736156413,
          1356.1971123503483,
          2258.120280968364,
          4022.9978880563954,
          7761.102561690886
         ],
         "yaxis": "y3"
        },
        {
         "marker": {
          "color": "#EF553B"
         },
         "mode": "lines+markers",
         "name": "buildings",
         "showlegend": true,
         "type": "scatter",
         "x": [
          0,
          1,
          2,
          3,
          4,
          5,
          6,
          7,
          8,
          9,
          10,
          11,
          12,
          13,
          14,
          15
         ],
         "xaxis": "x3",
         "y": [
          25,
          26.25,
          27.5625,
          28.940625,
          30.387656250000006,
          31.907039062500008,
          33.502391015625015,
          35.17751056640626,
          36.93638609472658,
          38.78320539946291,
          40.72236566943606,
          42.75848395290786,
          44.89640815055325,
          47.14122855808091,
          49.49828998598496,
          51.97320448528421
         ],
         "yaxis": "y3"
        },
        {
         "marker": {
          "color": "#00CC96"
         },
         "mode": "lines+markers",
         "name": "coal",
         "showlegend": true,
         "type": "scatter",
         "x": [
          0,
          1,
          2,
          3,
          4,
          5,
          6,
          7,
          8,
          9,
          10,
          11,
          12,
          13,
          14,
          15
         ],
         "xaxis": "x3",
         "y": [
          100,
          105,
          110.25,
          115.7625,
          121.55062500000001,
          127.62815625000003,
          134.00956406250003,
          140.71004226562502,
          147.7455443789063,
          155.1328215978516,
          162.8894626777442,
          171.0339358116314,
          179.58563260221297,
          188.56491423232362,
          197.9931599439398,
          207.89281794113677
         ],
         "yaxis": "y3"
        },
        {
         "marker": {
          "color": "#AB63FA"
         },
         "mode": "lines+markers",
         "name": "solar",
         "showlegend": true,
         "type": "scatter",
         "x": [
          0,
          1,
          2,
          3,
          4,
          5,
          6,
          7,
          8,
          9,
          10,
          11,
          12,
          13,
          14,
          15
         ],
         "xaxis": "x3",
         "y": [
          500,
          502.5,
          505.125,
          507.88125,
          510.77531250000004,
          513.814078125,
          517.00478203125,
          520.3550211328125,
          523.8727721894531,
          527.5664107989257,
          531.4447313388721,
          535.5169679058157,
          539.7928163011065,
          544.2824571161618,
          548.9965799719699,
          553.9464089705684
         ],
         "yaxis": "y3"
        }
       ],
       "layout": {
        "annotations": [
         {
          "font": {
           "size": 16
          },
          "showarrow": false,
          "text": "Stocks",
          "x": 0.14444444444444446,
          "xanchor": "center",
          "xref": "paper",
          "y": 1,
          "yanchor": "bottom",
          "yref": "paper"
         },
         {
          "font": {
           "size": 16
          },
          "showarrow": false,
          "text": "Inflows",
          "x": 0.5,
          "xanchor": "center",
          "xref": "paper",
          "y": 1,
          "yanchor": "bottom",
          "yref": "paper"
         },
         {
          "font": {
           "size": 16
          },
          "showarrow": false,
          "text": "Outflows",
          "x": 0.8555555555555556,
          "xanchor": "center",
          "xref": "paper",
          "y": 1,
          "yanchor": "bottom",
          "yref": "paper"
         }
        ],
        "template": {
         "data": {
          "bar": [
           {
            "error_x": {
             "color": "#2a3f5f"
            },
            "error_y": {
             "color": "#2a3f5f"
            },
            "marker": {
             "line": {
              "color": "#E5ECF6",
              "width": 0.5
             },
             "pattern": {
              "fillmode": "overlay",
              "size": 10,
              "solidity": 0.2
             }
            },
            "type": "bar"
           }
          ],
          "barpolar": [
           {
            "marker": {
             "line": {
              "color": "#E5ECF6",
              "width": 0.5
             },
             "pattern": {
              "fillmode": "overlay",
              "size": 10,
              "solidity": 0.2
             }
            },
            "type": "barpolar"
           }
          ],
          "carpet": [
           {
            "aaxis": {
             "endlinecolor": "#2a3f5f",
             "gridcolor": "white",
             "linecolor": "white",
             "minorgridcolor": "white",
             "startlinecolor": "#2a3f5f"
            },
            "baxis": {
             "endlinecolor": "#2a3f5f",
             "gridcolor": "white",
             "linecolor": "white",
             "minorgridcolor": "white",
             "startlinecolor": "#2a3f5f"
            },
            "type": "carpet"
           }
          ],
          "choropleth": [
           {
            "colorbar": {
             "outlinewidth": 0,
             "ticks": ""
            },
            "type": "choropleth"
           }
          ],
          "contour": [
           {
            "colorbar": {
             "outlinewidth": 0,
             "ticks": ""
            },
            "colorscale": [
             [
              0,
              "#0d0887"
             ],
             [
              0.1111111111111111,
              "#46039f"
             ],
             [
              0.2222222222222222,
              "#7201a8"
             ],
             [
              0.3333333333333333,
              "#9c179e"
             ],
             [
              0.4444444444444444,
              "#bd3786"
             ],
             [
              0.5555555555555556,
              "#d8576b"
             ],
             [
              0.6666666666666666,
              "#ed7953"
             ],
             [
              0.7777777777777778,
              "#fb9f3a"
             ],
             [
              0.8888888888888888,
              "#fdca26"
             ],
             [
              1,
              "#f0f921"
             ]
            ],
            "type": "contour"
           }
          ],
          "contourcarpet": [
           {
            "colorbar": {
             "outlinewidth": 0,
             "ticks": ""
            },
            "type": "contourcarpet"
           }
          ],
          "heatmap": [
           {
            "colorbar": {
             "outlinewidth": 0,
             "ticks": ""
            },
            "colorscale": [
             [
              0,
              "#0d0887"
             ],
             [
              0.1111111111111111,
              "#46039f"
             ],
             [
              0.2222222222222222,
              "#7201a8"
             ],
             [
              0.3333333333333333,
              "#9c179e"
             ],
             [
              0.4444444444444444,
              "#bd3786"
             ],
             [
              0.5555555555555556,
              "#d8576b"
             ],
             [
              0.6666666666666666,
              "#ed7953"
             ],
             [
              0.7777777777777778,
              "#fb9f3a"
             ],
             [
              0.8888888888888888,
              "#fdca26"
             ],
             [
              1,
              "#f0f921"
             ]
            ],
            "type": "heatmap"
           }
          ],
          "heatmapgl": [
           {
            "colorbar": {
             "outlinewidth": 0,
             "ticks": ""
            },
            "colorscale": [
             [
              0,
              "#0d0887"
             ],
             [
              0.1111111111111111,
              "#46039f"
             ],
             [
              0.2222222222222222,
              "#7201a8"
             ],
             [
              0.3333333333333333,
              "#9c179e"
             ],
             [
              0.4444444444444444,
              "#bd3786"
             ],
             [
              0.5555555555555556,
              "#d8576b"
             ],
             [
              0.6666666666666666,
              "#ed7953"
             ],
             [
              0.7777777777777778,
              "#fb9f3a"
             ],
             [
              0.8888888888888888,
              "#fdca26"
             ],
             [
              1,
              "#f0f921"
             ]
            ],
            "type": "heatmapgl"
           }
          ],
          "histogram": [
           {
            "marker": {
             "pattern": {
              "fillmode": "overlay",
              "size": 10,
              "solidity": 0.2
             }
            },
            "type": "histogram"
           }
          ],
          "histogram2d": [
           {
            "colorbar": {
             "outlinewidth": 0,
             "ticks": ""
            },
            "colorscale": [
             [
              0,
              "#0d0887"
             ],
             [
              0.1111111111111111,
              "#46039f"
             ],
             [
              0.2222222222222222,
              "#7201a8"
             ],
             [
              0.3333333333333333,
              "#9c179e"
             ],
             [
              0.4444444444444444,
              "#bd3786"
             ],
             [
              0.5555555555555556,
              "#d8576b"
             ],
             [
              0.6666666666666666,
              "#ed7953"
             ],
             [
              0.7777777777777778,
              "#fb9f3a"
             ],
             [
              0.8888888888888888,
              "#fdca26"
             ],
             [
              1,
              "#f0f921"
             ]
            ],
            "type": "histogram2d"
           }
          ],
          "histogram2dcontour": [
           {
            "colorbar": {
             "outlinewidth": 0,
             "ticks": ""
            },
            "colorscale": [
             [
              0,
              "#0d0887"
             ],
             [
              0.1111111111111111,
              "#46039f"
             ],
             [
              0.2222222222222222,
              "#7201a8"
             ],
             [
              0.3333333333333333,
              "#9c179e"
             ],
             [
              0.4444444444444444,
              "#bd3786"
             ],
             [
              0.5555555555555556,
              "#d8576b"
             ],
             [
              0.6666666666666666,
              "#ed7953"
             ],
             [
              0.7777777777777778,
              "#fb9f3a"
             ],
             [
              0.8888888888888888,
              "#fdca26"
             ],
             [
              1,
              "#f0f921"
             ]
            ],
            "type": "histogram2dcontour"
           }
          ],
          "mesh3d": [
           {
            "colorbar": {
             "outlinewidth": 0,
             "ticks": ""
            },
            "type": "mesh3d"
           }
          ],
          "parcoords": [
           {
            "line": {
             "colorbar": {
              "outlinewidth": 0,
              "ticks": ""
             }
            },
            "type": "parcoords"
           }
          ],
          "pie": [
           {
            "automargin": true,
            "type": "pie"
           }
          ],
          "scatter": [
           {
            "fillpattern": {
             "fillmode": "overlay",
             "size": 10,
             "solidity": 0.2
            },
            "type": "scatter"
           }
          ],
          "scatter3d": [
           {
            "line": {
             "colorbar": {
              "outlinewidth": 0,
              "ticks": ""
             }
            },
            "marker": {
             "colorbar": {
              "outlinewidth": 0,
              "ticks": ""
             }
            },
            "type": "scatter3d"
           }
          ],
          "scattercarpet": [
           {
            "marker": {
             "colorbar": {
              "outlinewidth": 0,
              "ticks": ""
             }
            },
            "type": "scattercarpet"
           }
          ],
          "scattergeo": [
           {
            "marker": {
             "colorbar": {
              "outlinewidth": 0,
              "ticks": ""
             }
            },
            "type": "scattergeo"
           }
          ],
          "scattergl": [
           {
            "marker": {
             "colorbar": {
              "outlinewidth": 0,
              "ticks": ""
             }
            },
            "type": "scattergl"
           }
          ],
          "scattermapbox": [
           {
            "marker": {
             "colorbar": {
              "outlinewidth": 0,
              "ticks": ""
             }
            },
            "type": "scattermapbox"
           }
          ],
          "scatterpolar": [
           {
            "marker": {
             "colorbar": {
              "outlinewidth": 0,
              "ticks": ""
             }
            },
            "type": "scatterpolar"
           }
          ],
          "scatterpolargl": [
           {
            "marker": {
             "colorbar": {
              "outlinewidth": 0,
              "ticks": ""
             }
            },
            "type": "scatterpolargl"
           }
          ],
          "scatterternary": [
           {
            "marker": {
             "colorbar": {
              "outlinewidth": 0,
              "ticks": ""
             }
            },
            "type": "scatterternary"
           }
          ],
          "surface": [
           {
            "colorbar": {
             "outlinewidth": 0,
             "ticks": ""
            },
            "colorscale": [
             [
              0,
              "#0d0887"
             ],
             [
              0.1111111111111111,
              "#46039f"
             ],
             [
              0.2222222222222222,
              "#7201a8"
             ],
             [
              0.3333333333333333,
              "#9c179e"
             ],
             [
              0.4444444444444444,
              "#bd3786"
             ],
             [
              0.5555555555555556,
              "#d8576b"
             ],
             [
              0.6666666666666666,
              "#ed7953"
             ],
             [
              0.7777777777777778,
              "#fb9f3a"
             ],
             [
              0.8888888888888888,
              "#fdca26"
             ],
             [
              1,
              "#f0f921"
             ]
            ],
            "type": "surface"
           }
          ],
          "table": [
           {
            "cells": {
             "fill": {
              "color": "#EBF0F8"
             },
             "line": {
              "color": "white"
             }
            },
            "header": {
             "fill": {
              "color": "#C8D4E3"
             },
             "line": {
              "color": "white"
             }
            },
            "type": "table"
           }
          ]
         },
         "layout": {
          "annotationdefaults": {
           "arrowcolor": "#2a3f5f",
           "arrowhead": 0,
           "arrowwidth": 1
          },
          "autotypenumbers": "strict",
          "coloraxis": {
           "colorbar": {
            "outlinewidth": 0,
            "ticks": ""
           }
          },
          "colorscale": {
           "diverging": [
            [
             0,
             "#8e0152"
            ],
            [
             0.1,
             "#c51b7d"
            ],
            [
             0.2,
             "#de77ae"
            ],
            [
             0.3,
             "#f1b6da"
            ],
            [
             0.4,
             "#fde0ef"
            ],
            [
             0.5,
             "#f7f7f7"
            ],
            [
             0.6,
             "#e6f5d0"
            ],
            [
             0.7,
             "#b8e186"
            ],
            [
             0.8,
             "#7fbc41"
            ],
            [
             0.9,
             "#4d9221"
            ],
            [
             1,
             "#276419"
            ]
           ],
           "sequential": [
            [
             0,
             "#0d0887"
            ],
            [
             0.1111111111111111,
             "#46039f"
            ],
            [
             0.2222222222222222,
             "#7201a8"
            ],
            [
             0.3333333333333333,
             "#9c179e"
            ],
            [
             0.4444444444444444,
             "#bd3786"
            ],
            [
             0.5555555555555556,
             "#d8576b"
            ],
            [
             0.6666666666666666,
             "#ed7953"
            ],
            [
             0.7777777777777778,
             "#fb9f3a"
            ],
            [
             0.8888888888888888,
             "#fdca26"
            ],
            [
             1,
             "#f0f921"
            ]
           ],
           "sequentialminus": [
            [
             0,
             "#0d0887"
            ],
            [
             0.1111111111111111,
             "#46039f"
            ],
            [
             0.2222222222222222,
             "#7201a8"
            ],
            [
             0.3333333333333333,
             "#9c179e"
            ],
            [
             0.4444444444444444,
             "#bd3786"
            ],
            [
             0.5555555555555556,
             "#d8576b"
            ],
            [
             0.6666666666666666,
             "#ed7953"
            ],
            [
             0.7777777777777778,
             "#fb9f3a"
            ],
            [
             0.8888888888888888,
             "#fdca26"
            ],
            [
             1,
             "#f0f921"
            ]
           ]
          },
          "colorway": [
           "#636efa",
           "#EF553B",
           "#00cc96",
           "#ab63fa",
           "#FFA15A",
           "#19d3f3",
           "#FF6692",
           "#B6E880",
           "#FF97FF",
           "#FECB52"
          ],
          "font": {
           "color": "#2a3f5f"
          },
          "geo": {
           "bgcolor": "white",
           "lakecolor": "white",
           "landcolor": "#E5ECF6",
           "showlakes": true,
           "showland": true,
           "subunitcolor": "white"
          },
          "hoverlabel": {
           "align": "left"
          },
          "hovermode": "closest",
          "mapbox": {
           "style": "light"
          },
          "paper_bgcolor": "white",
          "plot_bgcolor": "#E5ECF6",
          "polar": {
           "angularaxis": {
            "gridcolor": "white",
            "linecolor": "white",
            "ticks": ""
           },
           "bgcolor": "#E5ECF6",
           "radialaxis": {
            "gridcolor": "white",
            "linecolor": "white",
            "ticks": ""
           }
          },
          "scene": {
           "xaxis": {
            "backgroundcolor": "#E5ECF6",
            "gridcolor": "white",
            "gridwidth": 2,
            "linecolor": "white",
            "showbackground": true,
            "ticks": "",
            "zerolinecolor": "white"
           },
           "yaxis": {
            "backgroundcolor": "#E5ECF6",
            "gridcolor": "white",
            "gridwidth": 2,
            "linecolor": "white",
            "showbackground": true,
            "ticks": "",
            "zerolinecolor": "white"
           },
           "zaxis": {
            "backgroundcolor": "#E5ECF6",
            "gridcolor": "white",
            "gridwidth": 2,
            "linecolor": "white",
            "showbackground": true,
            "ticks": "",
            "zerolinecolor": "white"
           }
          },
          "shapedefaults": {
           "line": {
            "color": "#2a3f5f"
           }
          },
          "ternary": {
           "aaxis": {
            "gridcolor": "white",
            "linecolor": "white",
            "ticks": ""
           },
           "baxis": {
            "gridcolor": "white",
            "linecolor": "white",
            "ticks": ""
           },
           "bgcolor": "#E5ECF6",
           "caxis": {
            "gridcolor": "white",
            "linecolor": "white",
            "ticks": ""
           }
          },
          "title": {
           "x": 0.05
          },
          "xaxis": {
           "automargin": true,
           "gridcolor": "white",
           "linecolor": "white",
           "ticks": "",
           "title": {
            "standoff": 15
           },
           "zerolinecolor": "white",
           "zerolinewidth": 2
          },
          "yaxis": {
           "automargin": true,
           "gridcolor": "white",
           "linecolor": "white",
           "ticks": "",
           "title": {
            "standoff": 15
           },
           "zerolinecolor": "white",
           "zerolinewidth": 2
          }
         }
        },
        "xaxis": {
         "anchor": "y",
         "domain": [
          0,
          0.2888888888888889
         ]
        },
        "xaxis2": {
         "anchor": "y2",
         "domain": [
          0.35555555555555557,
          0.6444444444444445
         ]
        },
        "xaxis3": {
         "anchor": "y3",
         "domain": [
          0.7111111111111111,
          1
         ]
        },
        "yaxis": {
         "anchor": "x",
         "domain": [
          0,
          1
         ]
        },
        "yaxis2": {
         "anchor": "x2",
         "domain": [
          0,
          1
         ]
        },
        "yaxis3": {
         "anchor": "x3",
         "domain": [
          0,
          1
         ]
        }
       }
      }
     },
     "metadata": {},
     "output_type": "display_data"
    }
   ],
   "source": [
    "stocks, inflows, outflows, time = run_sim(t=16)\n",
    "res = [stocks, inflows, outflows]\n",
    "plot_simulation(res)\n"
   ]
  },
  {
   "cell_type": "code",
   "execution_count": 149,
   "metadata": {},
   "outputs": [
    {
     "data": {
      "application/vnd.plotly.v1+json": {
       "config": {
        "plotlyServerURL": "https://plotly.com"
       },
       "data": [
        {
         "marker": {
          "color": "#636EFA"
         },
         "mode": "lines+markers",
         "name": "pollution",
         "showlegend": true,
         "type": "scatter",
         "x": [
          0,
          1,
          2,
          3,
          4,
          5,
          6,
          7,
          8,
          9,
          10,
          11,
          12,
          13,
          14,
          15,
          16,
          17,
          18,
          19,
          20,
          21,
          22,
          23,
          24,
          25,
          26,
          27,
          28,
          29,
          30,
          31,
          32,
          33,
          34,
          35,
          36,
          37,
          38,
          39,
          40,
          41,
          42,
          43,
          44,
          45,
          46,
          47,
          48,
          49,
          50,
          51,
          52,
          53,
          54,
          55,
          56,
          57,
          58,
          59,
          60,
          61,
          62,
          63,
          64,
          65,
          66,
          67,
          68,
          69,
          70,
          71,
          72,
          73,
          74,
          75,
          76,
          77,
          78,
          79,
          80,
          81,
          82,
          83,
          84,
          85,
          86,
          87,
          88,
          89,
          90,
          91,
          92,
          93,
          94,
          95,
          96,
          97,
          98,
          99
         ],
         "xaxis": "x",
         "y": [
          100,
          226,
          348.30643903485304,
          490.0237515426959,
          661.6678402422447,
          878.7059156483502,
          1164.7792172851703,
          1557.395007656808,
          2118.3552799332647,
          2953.644159205216,
          4253.065362815593,
          6373.219555078305,
          10021.016544364476,
          16685.377434208283,
          29726.15708072823,
          57347.22221788833,
          121481.84562943953,
          287251.20846116764,
          597570.1888686873,
          865892.0621690585,
          1097900.5187477455,
          1298510.0451420667,
          1471970.0244618496,
          1621954.7483501725,
          1751641.2471499043,
          1863776.5869026093,
          1960736.0586890485,
          2044573.4928987974,
          2117064.764203939,
          2179745.4087748174,
          2233943.1505592423,
          2280806.0256084874,
          2321326.700189661,
          2356363.4977994524,
          2386658.580481019,
          2412853.669567199,
          2435503.638852493,
          2455088.2681292607,
          2472022.406055773,
          2486664.7576296334,
          2499325.482405995,
          2510272.7644087668,
          2519738.4929010225,
          2527923.174346738,
          2535000.1796107963,
          2541119.416362976,
          2546410.5044761077,
          2550985.521680819,
          2554941.377636318,
          2558361.8667056365,
          2561319.442917951,
          2563876.754715878,
          2566087.971997308,
          2567999.9335616585,
          2569653.13926616,
          2571082.607908394,
          2572318.619007054,
          2573387.3541935924,
          2574311.4518009564,
          2575110.486396889,
          2575801.3834194657,
          2576398.7776978044,
          2576915.3234522804,
          2577361.9623407694,
          2577748.1552287806,
          2578082.0825929088,
          2578370.817802632,
          2578620.476950967,
          2578836.3484077496,
          2579023.004839786,
          2579184.4000707245,
          2579323.952832371,
          2579444.6191814933,
          2579548.95511608,
          2579639.170717408,
          2579717.176964778,
          2579784.6262145657,
          2579842.9472010294,
          2579893.3753002714,
          2579936.9786984194,
          2579974.6810183288,
          2580007.2808840945,
          2580035.4688377935,
          2580059.841966795,
          2580080.916551479,
          2580099.1390012763,
          2580114.895310669,
          2580128.5192354675,
          2580140.2993625444,
          2580150.4852227867,
          2580159.292576748,
          2580166.9079849664,
          2580173.4927597567,
          2580179.1863821857,
          2580184.109456611,
          2580188.366265364,
          2580192.046977699,
          2580195.2295597875,
          2580197.981426228,
          2580200.3608680437
         ],
         "yaxis": "y"
        },
        {
         "marker": {
          "color": "#EF553B"
         },
         "mode": "lines+markers",
         "name": "buildings",
         "showlegend": true,
         "type": "scatter",
         "x": [
          0,
          1,
          2,
          3,
          4,
          5,
          6,
          7,
          8,
          9,
          10,
          11,
          12,
          13,
          14,
          15,
          16,
          17,
          18,
          19,
          20,
          21,
          22,
          23,
          24,
          25,
          26,
          27,
          28,
          29,
          30,
          31,
          32,
          33,
          34,
          35,
          36,
          37,
          38,
          39,
          40,
          41,
          42,
          43,
          44,
          45,
          46,
          47,
          48,
          49,
          50,
          51,
          52,
          53,
          54,
          55,
          56,
          57,
          58,
          59,
          60,
          61,
          62,
          63,
          64,
          65,
          66,
          67,
          68,
          69,
          70,
          71,
          72,
          73,
          74,
          75,
          76,
          77,
          78,
          79,
          80,
          81,
          82,
          83,
          84,
          85,
          86,
          87,
          88,
          89,
          90,
          91,
          92,
          93,
          94,
          95,
          96,
          97,
          98,
          99
         ],
         "xaxis": "x",
         "y": [
          500,
          525,
          551.25,
          578.8125,
          607.7531250000001,
          638.1407812500001,
          670.0478203125002,
          703.5502113281252,
          738.7277218945316,
          775.6641079892581,
          814.4473133887211,
          855.1696790581572,
          897.928163011065,
          942.8245711616182,
          989.9657997196991,
          1039.464089705684,
          1091.4372941909683,
          1146.0091589005167,
          1203.3096168455427,
          1263.47509768782,
          1326.648852572211,
          1392.9812952008215,
          1462.6303599608625,
          1535.7618779589056,
          1612.5499718568508,
          1693.1774704496934,
          1777.836343972178,
          1866.728161170787,
          1960.0645692293265,
          2058.0677976907928,
          2160.9711875753324,
          2269.019746954099,
          2382.470734301804,
          2501.5942710168943,
          2626.673984567739,
          2758.0076837961255,
          2895.908067985932,
          3040.703471385229,
          3192.73864495449,
          3352.3755772022146,
          3519.994356062325,
          3695.9940738654414,
          3880.7937775587134,
          4074.833466436649,
          4278.575139758482,
          4492.503896746405,
          4717.129091583725,
          4952.985546162912,
          5200.634823471058,
          5460.66656464461,
          5733.69989287684,
          6020.384887520681,
          6321.404131896715,
          6637.474338491551,
          6969.348055416129,
          7317.815458186936,
          7683.706231096282,
          8067.891542651097,
          8471.286119783652,
          8894.850425772835,
          9339.592947061477,
          9806.572594414552,
          10296.901224135281,
          10811.746285342044,
          11352.333599609146,
          11919.950279589602,
          12515.947793569081,
          13141.745183247536,
          13798.832442409912,
          14488.774064530407,
          15213.212767756928,
          15973.873406144776,
          16772.567076452015,
          17611.195430274613,
          18491.755201788343,
          19416.34296187776,
          20387.160109971646,
          21406.518115470226,
          22476.844021243734,
          23600.68622230592,
          24780.72053342122,
          26019.756560092283,
          27320.744388096897,
          28686.78160750174,
          30121.120687876828,
          31627.17672227067,
          33208.5355583842,
          34868.96233630341,
          36612.41045311859,
          38443.03097577451,
          40365.18252456324,
          42383.4416507914,
          44502.613733330974,
          46727.74441999752,
          49064.1316409974,
          51517.33822304728,
          54093.20513419964,
          56797.865390909625,
          59637.75866045511,
          62619.64659347786
         ],
         "yaxis": "y"
        },
        {
         "marker": {
          "color": "#00CC96"
         },
         "mode": "lines+markers",
         "name": "coal",
         "showlegend": true,
         "type": "scatter",
         "x": [
          0,
          1,
          2,
          3,
          4,
          5,
          6,
          7,
          8,
          9,
          10,
          11,
          12,
          13,
          14,
          15,
          16,
          17,
          18,
          19,
          20,
          21,
          22,
          23,
          24,
          25,
          26,
          27,
          28,
          29,
          30,
          31,
          32,
          33,
          34,
          35,
          36,
          37,
          38,
          39,
          40,
          41,
          42,
          43,
          44,
          45,
          46,
          47,
          48,
          49,
          50,
          51,
          52,
          53,
          54,
          55,
          56,
          57,
          58,
          59,
          60,
          61,
          62,
          63,
          64,
          65,
          66,
          67,
          68,
          69,
          70,
          71,
          72,
          73,
          74,
          75,
          76,
          77,
          78,
          79,
          80,
          81,
          82,
          83,
          84,
          85,
          86,
          87,
          88,
          89,
          90,
          91,
          92,
          93,
          94,
          95,
          96,
          97,
          98,
          99
         ],
         "xaxis": "x",
         "y": [
          2500,
          2400,
          2295,
          2184.75,
          2068.9875,
          1947.436875,
          1819.80871875,
          1685.7991546875,
          1545.0891124218751,
          1397.3435680429689,
          1242.2107464451174,
          1079.3212837673732,
          908.2873479557418,
          728.7017153535288,
          540.1368011212052,
          342.1436411772654,
          134.25082323612864,
          0,
          0,
          0,
          0,
          0,
          0,
          0,
          0,
          0,
          0,
          0,
          0,
          0,
          0,
          0,
          0,
          0,
          0,
          0,
          0,
          0,
          0,
          0,
          0,
          0,
          0,
          0,
          0,
          0,
          0,
          0,
          0,
          0,
          0,
          0,
          0,
          0,
          0,
          0,
          0,
          0,
          0,
          0,
          0,
          0,
          0,
          0,
          0,
          0,
          0,
          0,
          0,
          0,
          0,
          0,
          0,
          0,
          0,
          0,
          0,
          0,
          0,
          0,
          0,
          0,
          0,
          0,
          0,
          0,
          0,
          0,
          0,
          0,
          0,
          0,
          0,
          0,
          0,
          0,
          0,
          0,
          0,
          0
         ],
         "yaxis": "y"
        },
        {
         "marker": {
          "color": "#AB63FA"
         },
         "mode": "lines+markers",
         "name": "solar",
         "showlegend": true,
         "type": "scatter",
         "x": [
          0,
          1,
          2,
          3,
          4,
          5,
          6,
          7,
          8,
          9,
          10,
          11,
          12,
          13,
          14,
          15,
          16,
          17,
          18,
          19,
          20,
          21,
          22,
          23,
          24,
          25,
          26,
          27,
          28,
          29,
          30,
          31,
          32,
          33,
          34,
          35,
          36,
          37,
          38,
          39,
          40,
          41,
          42,
          43,
          44,
          45,
          46,
          47,
          48,
          49,
          50,
          51,
          52,
          53,
          54,
          55,
          56,
          57,
          58,
          59,
          60,
          61,
          62,
          63,
          64,
          65,
          66,
          67,
          68,
          69,
          70,
          71,
          72,
          73,
          74,
          75,
          76,
          77,
          78,
          79,
          80,
          81,
          82,
          83,
          84,
          85,
          86,
          87,
          88,
          89,
          90,
          91,
          92,
          93,
          94,
          95,
          96,
          97,
          98,
          99
         ],
         "xaxis": "x",
         "y": [
          5000,
          6000,
          7005,
          8015.25,
          9031.012499999999,
          10052.563124999999,
          11080.191281249998,
          12114.200845312498,
          13154.910887578122,
          14202.656431957028,
          15257.78925355488,
          16320.678716232624,
          17391.712652044254,
          18471.29828464647,
          19559.863198878793,
          20657.856358822733,
          21765.749176763868,
          22884.03663560206,
          24013.23846738216,
          25153.90039075127,
          26306.595410288835,
          27471.925180803275,
          28650.52143984344,
          29843.04751183561,
          30985.61346017858,
          31989.481766944762,
          32777.28370097048,
          33295.987089163966,
          33525.501910570354,
          33480.01492961821,
          33201.30723820296,
          32746.14145295738,
          32172.03057129256,
          31526.10116999537,
          30840.002656379223,
          30130.834794459046,
          29405.59860004752,
          28666.04697164566,
          27911.97556137597,
          27142.70183348483,
          26357.464243673927,
          25555.46481919234,
          24735.865406644003,
          23897.786031919113,
          23040.30268310358,
          22162.445170978997,
          21263.19477946234,
          20341.481872412616,
          19396.183315050883,
          18426.11983673159,
          17430.053173659733,
          16406.68319641381,
          15354.644683414577,
          14272.504323914663,
          13158.75675986876,
          12011.822298857951,
          10830.039761292303,
          9611.672234883601,
          8354.872618122194,
          7057.782168351005,
          5718.147152104908,
          4334.821705407459,
          2901.288224309311,
          1435.589772114188,
          0,
          0,
          0,
          13604.872594767889,
          0,
          743214.1639007896,
          0,
          46460578.8235426,
          0,
          3689816991.6628914,
          0,
          371200823828.4485,
          0,
          47090303108251.22,
          0,
          7503073428178831,
          0,
          1496272204874016500,
          0,
          372310839232107600000,
          0,
          1.1527642159969286e+23,
          0,
          4.430636896053253e+25,
          0,
          2.1093625092469716e+28,
          0,
          1.2415570120557194e+31,
          0,
          9.019308937745223e+33,
          0,
          8.074408353853464e+36,
          0,
          8.895867490388944e+39,
          0,
          1.2046943946169803e+43
         ],
         "yaxis": "y"
        },
        {
         "marker": {
          "color": "#636EFA"
         },
         "mode": "lines+markers",
         "name": "pollution",
         "showlegend": true,
         "type": "scatter",
         "x": [
          0,
          1,
          2,
          3,
          4,
          5,
          6,
          7,
          8,
          9,
          10,
          11,
          12,
          13,
          14,
          15,
          16,
          17,
          18,
          19,
          20,
          21,
          22,
          23,
          24,
          25,
          26,
          27,
          28,
          29,
          30,
          31,
          32,
          33,
          34,
          35,
          36,
          37,
          38,
          39,
          40,
          41,
          42,
          43,
          44,
          45,
          46,
          47,
          48,
          49,
          50,
          51,
          52,
          53,
          54,
          55,
          56,
          57,
          58,
          59,
          60,
          61,
          62,
          63,
          64,
          65,
          66,
          67,
          68,
          69,
          70,
          71,
          72,
          73,
          74,
          75,
          76,
          77,
          78,
          79,
          80,
          81,
          82,
          83,
          84,
          85,
          86,
          87,
          88,
          89,
          90,
          91,
          92,
          93,
          94,
          95,
          96,
          97,
          98,
          99
         ],
         "xaxis": "x2",
         "y": [
          126,
          152.89221304632753,
          188.85546308776068,
          237.96159190724717,
          306.5850799738476,
          404.9932156127767,
          550.2515156510462,
          771.7307667489772,
          1121.9770910774937,
          1699.1534724765816,
          2695.7439977631875,
          4510.318462901813,
          8020.558002194157,
          15298.89992748831,
          31644.063025216496,
          71895.7259732421,
          182210.14281809473,
          349194.2040646711,
          349194.2040646711,
          349194.2040646711,
          349194.2040646711,
          349194.2040646711,
          349194.2040646711,
          349194.2040646711,
          349194.2040646711,
          349194.2040646711,
          349194.2040646711,
          349194.2040646711,
          349194.2040646711,
          349194.2040646711,
          349194.2040646711,
          349194.2040646711,
          349194.2040646711,
          349194.2040646711,
          349194.2040646711,
          349194.2040646711,
          349194.2040646711,
          349194.2040646711,
          349194.2040646711,
          349194.2040646711,
          349194.2040646711,
          349194.2040646711,
          349194.2040646711,
          349194.2040646711,
          349194.2040646711,
          349194.2040646711,
          349194.2040646711,
          349194.2040646711,
          349194.2040646711,
          349194.2040646711,
          349194.2040646711,
          349194.2040646711,
          349194.2040646711,
          349194.2040646711,
          349194.2040646711,
          349194.2040646711,
          349194.2040646711,
          349194.2040646711,
          349194.2040646711,
          349194.2040646711,
          349194.2040646711,
          349194.2040646711,
          349194.2040646711,
          349194.2040646711,
          349194.2040646711,
          349194.2040646711,
          349194.2040646711,
          349194.2040646711,
          349194.2040646711,
          349194.2040646711,
          349194.2040646711,
          349194.2040646711,
          349194.2040646711,
          349194.2040646711,
          349194.2040646711,
          349194.2040646711,
          349194.2040646711,
          349194.2040646711,
          349194.2040646711,
          349194.2040646711,
          349194.2040646711,
          349194.2040646711,
          349194.2040646711,
          349194.2040646711,
          349194.2040646711,
          349194.2040646711,
          349194.2040646711,
          349194.2040646711,
          349194.2040646711,
          349194.2040646711,
          349194.2040646711,
          349194.2040646711,
          349194.2040646711,
          349194.2040646711,
          349194.2040646711,
          349194.2040646711,
          349194.2040646711,
          349194.2040646711,
          349194.2040646711,
          349194.2040646711
         ],
         "yaxis": "y2"
        },
        {
         "marker": {
          "color": "#EF553B"
         },
         "mode": "lines+markers",
         "name": "buildings",
         "showlegend": true,
         "type": "scatter",
         "x": [
          0,
          1,
          2,
          3,
          4,
          5,
          6,
          7,
          8,
          9,
          10,
          11,
          12,
          13,
          14,
          15,
          16,
          17,
          18,
          19,
          20,
          21,
          22,
          23,
          24,
          25,
          26,
          27,
          28,
          29,
          30,
          31,
          32,
          33,
          34,
          35,
          36,
          37,
          38,
          39,
          40,
          41,
          42,
          43,
          44,
          45,
          46,
          47,
          48,
          49,
          50,
          51,
          52,
          53,
          54,
          55,
          56,
          57,
          58,
          59,
          60,
          61,
          62,
          63,
          64,
          65,
          66,
          67,
          68,
          69,
          70,
          71,
          72,
          73,
          74,
          75,
          76,
          77,
          78,
          79,
          80,
          81,
          82,
          83,
          84,
          85,
          86,
          87,
          88,
          89,
          90,
          91,
          92,
          93,
          94,
          95,
          96,
          97,
          98,
          99
         ],
         "xaxis": "x2",
         "y": [
          50,
          52.5,
          55.125,
          57.88125,
          60.77531250000001,
          63.814078125000016,
          67.00478203125003,
          70.35502113281252,
          73.87277218945316,
          77.56641079892582,
          81.44473133887212,
          85.51696790581572,
          89.7928163011065,
          94.28245711616182,
          98.99657997196992,
          103.94640897056841,
          109.14372941909683,
          114.60091589005168,
          120.33096168455427,
          126.347509768782,
          132.6648852572211,
          139.29812952008214,
          146.26303599608624,
          153.57618779589058,
          161.25499718568508,
          169.31774704496934,
          177.7836343972178,
          186.6728161170787,
          196.00645692293267,
          205.8067797690793,
          216.09711875753325,
          226.9019746954099,
          238.24707343018042,
          250.15942710168943,
          262.6673984567739,
          275.8007683796126,
          289.59080679859323,
          304.0703471385229,
          319.27386449544906,
          335.2375577202215,
          351.9994356062325,
          369.59940738654416,
          388.07937775587135,
          407.4833466436649,
          427.8575139758482,
          449.25038967464053,
          471.71290915837255,
          495.29855461629126,
          520.0634823471058,
          546.0666564644611,
          573.369989287684,
          602.0384887520681,
          632.1404131896716,
          663.7474338491552,
          696.934805541613,
          731.7815458186936,
          768.3706231096282,
          806.7891542651097,
          847.1286119783653,
          889.4850425772835,
          933.9592947061478,
          980.6572594414553,
          1029.6901224135281,
          1081.1746285342044,
          1135.2333599609146,
          1191.9950279589602,
          1251.5947793569082,
          1314.1745183247538,
          1379.8832442409912,
          1448.8774064530407,
          1521.321276775693,
          1597.3873406144776,
          1677.2567076452015,
          1761.1195430274613,
          1849.1755201788344,
          1941.634296187776,
          2038.7160109971646,
          2140.6518115470226,
          2247.6844021243737,
          2360.068622230592,
          2478.072053342122,
          2601.9756560092283,
          2732.07443880969,
          2868.6781607501744,
          3012.112068787683,
          3162.717672227067,
          3320.8535558384206,
          3486.896233630341,
          3661.241045311859,
          3844.3030975774514,
          4036.5182524563243,
          4238.34416507914,
          4450.261373333097,
          4672.7744419997525,
          4906.41316409974,
          5151.733822304728,
          5409.320513419964,
          5679.786539090963,
          5963.775866045511,
          6261.964659347786
         ],
         "yaxis": "y2"
        },
        {
         "marker": {
          "color": "#00CC96"
         },
         "mode": "lines+markers",
         "name": "coal",
         "showlegend": true,
         "type": "scatter",
         "x": [
          0,
          1,
          2,
          3,
          4,
          5,
          6,
          7,
          8,
          9,
          10,
          11,
          12,
          13,
          14,
          15,
          16,
          17,
          18,
          19,
          20,
          21,
          22,
          23,
          24,
          25,
          26,
          27,
          28,
          29,
          30,
          31,
          32,
          33,
          34,
          35,
          36,
          37,
          38,
          39,
          40,
          41,
          42,
          43,
          44,
          45,
          46,
          47,
          48,
          49,
          50,
          51,
          52,
          53,
          54,
          55,
          56,
          57,
          58,
          59,
          60,
          61,
          62,
          63,
          64,
          65,
          66,
          67,
          68,
          69,
          70,
          71,
          72,
          73,
          74,
          75,
          76,
          77,
          78,
          79,
          80,
          81,
          82,
          83,
          84,
          85,
          86,
          87,
          88,
          89,
          90,
          91,
          92,
          93,
          94,
          95,
          96,
          97,
          98,
          99
         ],
         "xaxis": "x2",
         "y": [
          0,
          0,
          0,
          0,
          0,
          0,
          0,
          0,
          0,
          0,
          0,
          0,
          0,
          0,
          0,
          0,
          0,
          0,
          0,
          0,
          0,
          0,
          0,
          0,
          0,
          0,
          0,
          0,
          0,
          0,
          0,
          0,
          0,
          0,
          0,
          0,
          0,
          0,
          0,
          0,
          0,
          0,
          0,
          0,
          0,
          0,
          0,
          0,
          0,
          0,
          0,
          0,
          0,
          0,
          0,
          0,
          0,
          0,
          0,
          0,
          0,
          0,
          0,
          0,
          0,
          0,
          0,
          0,
          0,
          0,
          0,
          0,
          0,
          0,
          0,
          0,
          0,
          0,
          0,
          0,
          0,
          0,
          0,
          0,
          0,
          0,
          0,
          0,
          0,
          0,
          0,
          0,
          0,
          0,
          0,
          0,
          0,
          0,
          0,
          0
         ],
         "yaxis": "y2"
        },
        {
         "marker": {
          "color": "#AB63FA"
         },
         "mode": "lines+markers",
         "name": "solar",
         "showlegend": true,
         "type": "scatter",
         "x": [
          0,
          1,
          2,
          3,
          4,
          5,
          6,
          7,
          8,
          9,
          10,
          11,
          12,
          13,
          14,
          15,
          16,
          17,
          18,
          19,
          20,
          21,
          22,
          23,
          24,
          25,
          26,
          27,
          28,
          29,
          30,
          31,
          32,
          33,
          34,
          35,
          36,
          37,
          38,
          39,
          40,
          41,
          42,
          43,
          44,
          45,
          46,
          47,
          48,
          49,
          50,
          51,
          52,
          53,
          54,
          55,
          56,
          57,
          58,
          59,
          60,
          61,
          62,
          63,
          64,
          65,
          66,
          67,
          68,
          69,
          70,
          71,
          72,
          73,
          74,
          75,
          76,
          77,
          78,
          79,
          80,
          81,
          82,
          83,
          84,
          85,
          86,
          87,
          88,
          89,
          90,
          91,
          92,
          93,
          94,
          95,
          96,
          97,
          98,
          99
         ],
         "xaxis": "x2",
         "y": [
          1500,
          1507.5,
          1515.375,
          1523.64375,
          1532.3259375,
          1541.442234375,
          1551.01434609375,
          1561.0650633984374,
          1571.6183165683592,
          1582.6992323967772,
          1594.334194016616,
          1606.5509037174468,
          1619.3784489033192,
          1632.8473713484852,
          1646.9897399159095,
          1661.8392269117048,
          1677.4311882572902,
          1693.8027476701548,
          1710.9928850536626,
          1729.0425293063458,
          1747.994655771663,
          1767.8943885602462,
          1788.7891079882584,
          1746.1421361388611,
          1615.1233039518677,
          1407.1196810706856,
          1146.4870225907014,
          866.1876375234625,
          600.519475970796,
          377.09908835382856,
          210.9313335119584,
          102.79109303058713,
          42.31767213299561,
          14.060913485542493,
          3.4995365365968834,
          0.5645739680874431,
          0.03917839673538043,
          -0.001063131166958474,
          0.0001366043070189748,
          -0.00003209068102274653,
          0.000011124648676016373,
          -0.000005161793034894948,
          0.0000030309834574542514,
          -0.0000021718683041917946,
          0.000001851264547046027,
          -0.0000018420130335831092,
          0.000002108649444694631,
          -0.000002745441258275377,
          0.000004027809092503328,
          -0.000006607396775129659,
          0.000012041759904244483,
          -0.000024247166422621682,
          0.00005368975916192196,
          -0.00013019674746085519,
          0.00034453080423683355,
          -0.0009917469549035848,
          0.0030967009282351224,
          -0.010462496296215052,
          0.03816220717584619,
          -0.14997366881264534,
          0.6338480086997201,
          -2.876221656693168,
          13.991670218405856,
          -72.86625190290857,
          405.7354960308315,
          -2412.760300839761,
          15306.467374124797,
          -103489.52784271048,
          745044.0471450306,
          -5706428.483848399,
          46462550.14481938,
          -401866162.47036016,
          3689819118.919599,
          -35941778832.59863,
          371200826127.624,
          -4062506712962.287,
          47090303110739.94,
          -577845678180545.8,
          7503073428181529,
          -103045640931259260,
          1496272204874019300,
          -22962547935888300000,
          372310839232107600000,
          -6.375644811640558e+21,
          1.1527642159969286e+23,
          -2.200025662030258e+24,
          4.430636896053253e+25,
          -9.413320024410492e+26,
          2.1093625092469716e+28,
          -4.984146716958524e+29,
          1.2415570120557194e+31,
          -3.2597858760284895e+32,
          9.019308937745223e+33,
          -2.629293573831483e+35,
          8.074408353853464e+36,
          -2.6116586736993796e+38,
          8.895867490388944e+39,
          -3.19052454522209e+41,
          1.2046943946169803e+43,
          -4.788230270680541e+44
         ],
         "yaxis": "y2"
        },
        {
         "marker": {
          "color": "#636EFA"
         },
         "mode": "lines+markers",
         "name": "pollution",
         "showlegend": true,
         "type": "scatter",
         "x": [
          0,
          1,
          2,
          3,
          4,
          5,
          6,
          7,
          8,
          9,
          10,
          11,
          12,
          13,
          14,
          15,
          16,
          17,
          18,
          19,
          20,
          21,
          22,
          23,
          24,
          25,
          26,
          27,
          28,
          29,
          30,
          31,
          32,
          33,
          34,
          35,
          36,
          37,
          38,
          39,
          40,
          41,
          42,
          43,
          44,
          45,
          46,
          47,
          48,
          49,
          50,
          51,
          52,
          53,
          54,
          55,
          56,
          57,
          58,
          59,
          60,
          61,
          62,
          63,
          64,
          65,
          66,
          67,
          68,
          69,
          70,
          71,
          72,
          73,
          74,
          75,
          76,
          77,
          78,
          79,
          80,
          81,
          82,
          83,
          84,
          85,
          86,
          87,
          88,
          89,
          90,
          91,
          92,
          93,
          94,
          95,
          96,
          97,
          98,
          99
         ],
         "xaxis": "x3",
         "y": [
          0,
          30.58577401147447,
          47.13815057991781,
          66.31750320769828,
          89.54700456774198,
          118.91991397595659,
          157.63572527940858,
          210.77049447252074,
          286.6882118055424,
          399.7322688662047,
          575.5898055004753,
          862.5214736156413,
          1356.1971123503483,
          2258.120280968364,
          4022.9978880563954,
          7761.102561690886,
          16440.77998636666,
          38875.2236571514,
          80872.33076429994,
          117185.74748598419,
          148584.67767035015,
          175734.22474488834,
          199209.48017634815,
          219507.7052649395,
          237058.8643119658,
          252234.73227823194,
          265356.769854922,
          276702.93275952927,
          286513.55949379277,
          294996.462280246,
          302331.329015426,
          308673.52948349755,
          314157.40645487927,
          318899.1213831043,
          322999.1149784907,
          326544.2347793772,
          329609.574787903,
          332260.06613815844,
          334551.85249081085,
          336533.4792883093,
          338246.92206189904,
          339728.4755724152,
          341009.5226189555,
          342117.1988006129,
          343074.9673124912,
          343903.11595153937,
          344619.18685995985,
          345238.34810917184,
          345773.71499535255,
          346236.6278523565,
          346636.89226674393,
          346982.98678324075,
          347282.2425003208,
          347540.99836016964,
          347764.73542243673,
          347958.19296601135,
          348125.46887813206,
          348270.1064573072,
          348395.1694687381,
          348503.30704209453,
          348596.80978633225,
          348677.65831019514,
          348747.5651761818,
          348808.01117665996,
          348860.2767005429,
          348905.46885494766,
          348944.54491633596,
          348978.3326078885,
          349007.5476326348,
          349032.8088337324,
          349054.6513030245,
          349073.5377155484,
          349089.868130084,
          349103.98846334306,
          349116.1978173011,
          349126.75481488317,
          349135.88307820726,
          349143.77596542897,
          349150.600666523,
          349156.5017447614,
          349161.60419890506,
          349166.0161109719,
          349169.8309356696,
          349173.1294799864,
          349175.98161487374,
          349178.4477552783,
          349180.58013987273,
          349182.4239375941,
          349184.01820442866,
          349185.39671070955,
          349186.5886564524,
          349187.6192898807,
          349188.51044224197,
          349189.280990246,
          349189.94725591777,
          349190.523352336,
          349191.0214825824,
          349191.4521982308,
          349191.8246228549,
          349192.146645287
         ],
         "yaxis": "y3"
        },
        {
         "marker": {
          "color": "#EF553B"
         },
         "mode": "lines+markers",
         "name": "buildings",
         "showlegend": true,
         "type": "scatter",
         "x": [
          0,
          1,
          2,
          3,
          4,
          5,
          6,
          7,
          8,
          9,
          10,
          11,
          12,
          13,
          14,
          15,
          16,
          17,
          18,
          19,
          20,
          21,
          22,
          23,
          24,
          25,
          26,
          27,
          28,
          29,
          30,
          31,
          32,
          33,
          34,
          35,
          36,
          37,
          38,
          39,
          40,
          41,
          42,
          43,
          44,
          45,
          46,
          47,
          48,
          49,
          50,
          51,
          52,
          53,
          54,
          55,
          56,
          57,
          58,
          59,
          60,
          61,
          62,
          63,
          64,
          65,
          66,
          67,
          68,
          69,
          70,
          71,
          72,
          73,
          74,
          75,
          76,
          77,
          78,
          79,
          80,
          81,
          82,
          83,
          84,
          85,
          86,
          87,
          88,
          89,
          90,
          91,
          92,
          93,
          94,
          95,
          96,
          97,
          98,
          99
         ],
         "xaxis": "x3",
         "y": [
          25,
          26.25,
          27.5625,
          28.940625,
          30.387656250000006,
          31.907039062500008,
          33.502391015625015,
          35.17751056640626,
          36.93638609472658,
          38.78320539946291,
          40.72236566943606,
          42.75848395290786,
          44.89640815055325,
          47.14122855808091,
          49.49828998598496,
          51.97320448528421,
          54.571864709548414,
          57.30045794502584,
          60.165480842277134,
          63.173754884391,
          66.33244262861055,
          69.64906476004107,
          73.13151799804312,
          76.78809389794529,
          80.62749859284254,
          84.65887352248467,
          88.8918171986089,
          93.33640805853935,
          98.00322846146634,
          102.90338988453965,
          108.04855937876663,
          113.45098734770495,
          119.12353671509021,
          125.07971355084472,
          131.33369922838696,
          137.9003841898063,
          144.79540339929662,
          152.03517356926145,
          159.63693224772453,
          167.61877886011075,
          175.99971780311625,
          184.79970369327208,
          194.03968887793567,
          203.74167332183245,
          213.9287569879241,
          224.62519483732027,
          235.85645457918628,
          247.64927730814563,
          260.0317411735529,
          273.03332823223053,
          286.684994643842,
          301.01924437603407,
          316.0702065948358,
          331.8737169245776,
          348.4674027708065,
          365.8907729093468,
          384.1853115548141,
          403.39457713255484,
          423.5643059891826,
          444.74252128864174,
          466.9796473530739,
          490.32862972072763,
          514.8450612067641,
          540.5873142671022,
          567.6166799804573,
          595.9975139794801,
          625.7973896784541,
          657.0872591623769,
          689.9416221204956,
          724.4387032265204,
          760.6606383878465,
          798.6936703072388,
          838.6283538226007,
          880.5597715137307,
          924.5877600894172,
          970.817148093888,
          1019.3580054985823,
          1070.3259057735113,
          1123.8422010621869,
          1180.034311115296,
          1239.036026671061,
          1300.9878280046141,
          1366.037219404845,
          1434.3390803750872,
          1506.0560343938414,
          1581.3588361135335,
          1660.4267779192103,
          1743.4481168151706,
          1830.6205226559296,
          1922.1515487887257,
          2018.2591262281621,
          2119.17208253957,
          2225.1306866665486,
          2336.3872209998763,
          2453.20658204987,
          2575.866911152364,
          2704.660256709982,
          2839.8932695454814,
          2981.8879330227555,
          3130.982329673893
         ],
         "yaxis": "y3"
        },
        {
         "marker": {
          "color": "#00CC96"
         },
         "mode": "lines+markers",
         "name": "coal",
         "showlegend": true,
         "type": "scatter",
         "x": [
          0,
          1,
          2,
          3,
          4,
          5,
          6,
          7,
          8,
          9,
          10,
          11,
          12,
          13,
          14,
          15,
          16,
          17,
          18,
          19,
          20,
          21,
          22,
          23,
          24,
          25,
          26,
          27,
          28,
          29,
          30,
          31,
          32,
          33,
          34,
          35,
          36,
          37,
          38,
          39,
          40,
          41,
          42,
          43,
          44,
          45,
          46,
          47,
          48,
          49,
          50,
          51,
          52,
          53,
          54,
          55,
          56,
          57,
          58,
          59,
          60,
          61,
          62,
          63,
          64,
          65,
          66,
          67,
          68,
          69,
          70,
          71,
          72,
          73,
          74,
          75,
          76,
          77,
          78,
          79,
          80,
          81,
          82,
          83,
          84,
          85,
          86,
          87,
          88,
          89,
          90,
          91,
          92,
          93,
          94,
          95,
          96,
          97,
          98,
          99
         ],
         "xaxis": "x3",
         "y": [
          100,
          105,
          110.25,
          115.7625,
          121.55062500000001,
          127.62815625000003,
          134.00956406250003,
          140.71004226562502,
          147.7455443789063,
          155.1328215978516,
          162.8894626777442,
          171.0339358116314,
          179.58563260221297,
          188.56491423232362,
          197.9931599439398,
          207.89281794113677,
          218.2874588381936,
          0,
          0,
          0,
          0,
          0,
          0,
          0,
          0,
          0,
          0,
          0,
          0,
          0,
          0,
          0,
          0,
          0,
          0,
          0,
          0,
          0,
          0,
          0,
          0,
          0,
          0,
          0,
          0,
          0,
          0,
          0,
          0,
          0,
          0,
          0,
          0,
          0,
          0,
          0,
          0,
          0,
          0,
          0,
          0,
          0,
          0,
          0,
          0,
          0,
          0,
          0,
          0,
          0,
          0,
          0,
          0,
          0,
          0,
          0,
          0,
          0,
          0,
          0,
          0,
          0,
          0,
          0,
          0,
          0,
          0,
          0,
          0,
          0,
          0,
          0,
          0,
          0,
          0,
          0,
          0,
          0,
          0,
          0
         ],
         "yaxis": "y3"
        },
        {
         "marker": {
          "color": "#AB63FA"
         },
         "mode": "lines+markers",
         "name": "solar",
         "showlegend": true,
         "type": "scatter",
         "x": [
          0,
          1,
          2,
          3,
          4,
          5,
          6,
          7,
          8,
          9,
          10,
          11,
          12,
          13,
          14,
          15,
          16,
          17,
          18,
          19,
          20,
          21,
          22,
          23,
          24,
          25,
          26,
          27,
          28,
          29,
          30,
          31,
          32,
          33,
          34,
          35,
          36,
          37,
          38,
          39,
          40,
          41,
          42,
          43,
          44,
          45,
          46,
          47,
          48,
          49,
          50,
          51,
          52,
          53,
          54,
          55,
          56,
          57,
          58,
          59,
          60,
          61,
          62,
          63,
          64,
          65,
          66,
          67,
          68,
          69,
          70,
          71,
          72,
          73,
          74,
          75,
          76,
          77,
          78,
          79,
          80,
          81,
          82,
          83,
          84,
          85,
          86,
          87,
          88,
          89,
          90,
          91,
          92,
          93,
          94,
          95,
          96,
          97,
          98,
          99
         ],
         "xaxis": "x3",
         "y": [
          500,
          502.5,
          505.125,
          507.88125,
          510.77531250000004,
          513.814078125,
          517.00478203125,
          520.3550211328125,
          523.8727721894531,
          527.5664107989257,
          531.4447313388721,
          535.5169679058157,
          539.7928163011065,
          544.2824571161618,
          548.9965799719699,
          553.9464089705684,
          559.1437294190969,
          564.6009158900517,
          570.3309616845544,
          576.3475097687821,
          582.6648852572212,
          589.2981295200822,
          596.2630359960863,
          603.5761877958906,
          611.2549971856852,
          619.3177470449695,
          627.783634397218,
          636.6728161170788,
          646.0064569229328,
          655.8067797690794,
          666.0971187575334,
          676.9019746954101,
          688.2470734301806,
          700.1594271016896,
          712.6673984567741,
          725.8007683796128,
          739.5908067985935,
          754.0703471385232,
          769.2738644954493,
          785.2375577202217,
          801.9994356062327,
          819.5994073865444,
          838.0793777558716,
          857.4833466436652,
          877.8575139758485,
          899.2503896746408,
          921.7129091583728,
          945.2985546162914,
          970.063482347106,
          996.0666564644612,
          1023.3699892876841,
          1052.0384887520684,
          1082.1404131896718,
          1113.7474338491554,
          1146.9348055416133,
          1181.781545818694,
          1218.3706231096287,
          1256.7891542651103,
          1297.1286119783658,
          1339.485042577284,
          1383.9592947061483,
          1430.6572594414558,
          1479.6901224135288,
          1531.174628534205,
          1585.2333599609153,
          1641.995027958961,
          1701.5947793569087,
          1764.1745183247542,
          1829.8832442409919,
          1898.8774064530414,
          1971.3212767756934,
          2047.3873406144783,
          2127.2567076452024,
          2211.119543027462,
          2299.175520178835,
          2391.6342961877767,
          2488.7160109971655,
          2590.6518115470235,
          2697.684402124374,
          2810.068622230593,
          2928.0720533421227,
          3051.975656009229,
          3182.0744388096905,
          3318.678160750175,
          3462.1120687876837,
          3612.717672227068,
          3770.853555838421,
          3936.896233630342,
          4111.24104531186,
          4294.303097577453,
          4486.518252456326,
          4688.344165079142,
          4900.261373333099,
          5122.774441999753,
          5356.413164099741,
          5601.733822304729,
          5859.320513419965,
          6129.786539090964,
          6413.775866045512,
          6711.964659347787
         ],
         "yaxis": "y3"
        }
       ],
       "layout": {
        "annotations": [
         {
          "font": {
           "size": 16
          },
          "showarrow": false,
          "text": "Stocks",
          "x": 0.14444444444444446,
          "xanchor": "center",
          "xref": "paper",
          "y": 1,
          "yanchor": "bottom",
          "yref": "paper"
         },
         {
          "font": {
           "size": 16
          },
          "showarrow": false,
          "text": "Inflows",
          "x": 0.5,
          "xanchor": "center",
          "xref": "paper",
          "y": 1,
          "yanchor": "bottom",
          "yref": "paper"
         },
         {
          "font": {
           "size": 16
          },
          "showarrow": false,
          "text": "Outflows",
          "x": 0.8555555555555556,
          "xanchor": "center",
          "xref": "paper",
          "y": 1,
          "yanchor": "bottom",
          "yref": "paper"
         }
        ],
        "template": {
         "data": {
          "bar": [
           {
            "error_x": {
             "color": "#2a3f5f"
            },
            "error_y": {
             "color": "#2a3f5f"
            },
            "marker": {
             "line": {
              "color": "#E5ECF6",
              "width": 0.5
             },
             "pattern": {
              "fillmode": "overlay",
              "size": 10,
              "solidity": 0.2
             }
            },
            "type": "bar"
           }
          ],
          "barpolar": [
           {
            "marker": {
             "line": {
              "color": "#E5ECF6",
              "width": 0.5
             },
             "pattern": {
              "fillmode": "overlay",
              "size": 10,
              "solidity": 0.2
             }
            },
            "type": "barpolar"
           }
          ],
          "carpet": [
           {
            "aaxis": {
             "endlinecolor": "#2a3f5f",
             "gridcolor": "white",
             "linecolor": "white",
             "minorgridcolor": "white",
             "startlinecolor": "#2a3f5f"
            },
            "baxis": {
             "endlinecolor": "#2a3f5f",
             "gridcolor": "white",
             "linecolor": "white",
             "minorgridcolor": "white",
             "startlinecolor": "#2a3f5f"
            },
            "type": "carpet"
           }
          ],
          "choropleth": [
           {
            "colorbar": {
             "outlinewidth": 0,
             "ticks": ""
            },
            "type": "choropleth"
           }
          ],
          "contour": [
           {
            "colorbar": {
             "outlinewidth": 0,
             "ticks": ""
            },
            "colorscale": [
             [
              0,
              "#0d0887"
             ],
             [
              0.1111111111111111,
              "#46039f"
             ],
             [
              0.2222222222222222,
              "#7201a8"
             ],
             [
              0.3333333333333333,
              "#9c179e"
             ],
             [
              0.4444444444444444,
              "#bd3786"
             ],
             [
              0.5555555555555556,
              "#d8576b"
             ],
             [
              0.6666666666666666,
              "#ed7953"
             ],
             [
              0.7777777777777778,
              "#fb9f3a"
             ],
             [
              0.8888888888888888,
              "#fdca26"
             ],
             [
              1,
              "#f0f921"
             ]
            ],
            "type": "contour"
           }
          ],
          "contourcarpet": [
           {
            "colorbar": {
             "outlinewidth": 0,
             "ticks": ""
            },
            "type": "contourcarpet"
           }
          ],
          "heatmap": [
           {
            "colorbar": {
             "outlinewidth": 0,
             "ticks": ""
            },
            "colorscale": [
             [
              0,
              "#0d0887"
             ],
             [
              0.1111111111111111,
              "#46039f"
             ],
             [
              0.2222222222222222,
              "#7201a8"
             ],
             [
              0.3333333333333333,
              "#9c179e"
             ],
             [
              0.4444444444444444,
              "#bd3786"
             ],
             [
              0.5555555555555556,
              "#d8576b"
             ],
             [
              0.6666666666666666,
              "#ed7953"
             ],
             [
              0.7777777777777778,
              "#fb9f3a"
             ],
             [
              0.8888888888888888,
              "#fdca26"
             ],
             [
              1,
              "#f0f921"
             ]
            ],
            "type": "heatmap"
           }
          ],
          "heatmapgl": [
           {
            "colorbar": {
             "outlinewidth": 0,
             "ticks": ""
            },
            "colorscale": [
             [
              0,
              "#0d0887"
             ],
             [
              0.1111111111111111,
              "#46039f"
             ],
             [
              0.2222222222222222,
              "#7201a8"
             ],
             [
              0.3333333333333333,
              "#9c179e"
             ],
             [
              0.4444444444444444,
              "#bd3786"
             ],
             [
              0.5555555555555556,
              "#d8576b"
             ],
             [
              0.6666666666666666,
              "#ed7953"
             ],
             [
              0.7777777777777778,
              "#fb9f3a"
             ],
             [
              0.8888888888888888,
              "#fdca26"
             ],
             [
              1,
              "#f0f921"
             ]
            ],
            "type": "heatmapgl"
           }
          ],
          "histogram": [
           {
            "marker": {
             "pattern": {
              "fillmode": "overlay",
              "size": 10,
              "solidity": 0.2
             }
            },
            "type": "histogram"
           }
          ],
          "histogram2d": [
           {
            "colorbar": {
             "outlinewidth": 0,
             "ticks": ""
            },
            "colorscale": [
             [
              0,
              "#0d0887"
             ],
             [
              0.1111111111111111,
              "#46039f"
             ],
             [
              0.2222222222222222,
              "#7201a8"
             ],
             [
              0.3333333333333333,
              "#9c179e"
             ],
             [
              0.4444444444444444,
              "#bd3786"
             ],
             [
              0.5555555555555556,
              "#d8576b"
             ],
             [
              0.6666666666666666,
              "#ed7953"
             ],
             [
              0.7777777777777778,
              "#fb9f3a"
             ],
             [
              0.8888888888888888,
              "#fdca26"
             ],
             [
              1,
              "#f0f921"
             ]
            ],
            "type": "histogram2d"
           }
          ],
          "histogram2dcontour": [
           {
            "colorbar": {
             "outlinewidth": 0,
             "ticks": ""
            },
            "colorscale": [
             [
              0,
              "#0d0887"
             ],
             [
              0.1111111111111111,
              "#46039f"
             ],
             [
              0.2222222222222222,
              "#7201a8"
             ],
             [
              0.3333333333333333,
              "#9c179e"
             ],
             [
              0.4444444444444444,
              "#bd3786"
             ],
             [
              0.5555555555555556,
              "#d8576b"
             ],
             [
              0.6666666666666666,
              "#ed7953"
             ],
             [
              0.7777777777777778,
              "#fb9f3a"
             ],
             [
              0.8888888888888888,
              "#fdca26"
             ],
             [
              1,
              "#f0f921"
             ]
            ],
            "type": "histogram2dcontour"
           }
          ],
          "mesh3d": [
           {
            "colorbar": {
             "outlinewidth": 0,
             "ticks": ""
            },
            "type": "mesh3d"
           }
          ],
          "parcoords": [
           {
            "line": {
             "colorbar": {
              "outlinewidth": 0,
              "ticks": ""
             }
            },
            "type": "parcoords"
           }
          ],
          "pie": [
           {
            "automargin": true,
            "type": "pie"
           }
          ],
          "scatter": [
           {
            "fillpattern": {
             "fillmode": "overlay",
             "size": 10,
             "solidity": 0.2
            },
            "type": "scatter"
           }
          ],
          "scatter3d": [
           {
            "line": {
             "colorbar": {
              "outlinewidth": 0,
              "ticks": ""
             }
            },
            "marker": {
             "colorbar": {
              "outlinewidth": 0,
              "ticks": ""
             }
            },
            "type": "scatter3d"
           }
          ],
          "scattercarpet": [
           {
            "marker": {
             "colorbar": {
              "outlinewidth": 0,
              "ticks": ""
             }
            },
            "type": "scattercarpet"
           }
          ],
          "scattergeo": [
           {
            "marker": {
             "colorbar": {
              "outlinewidth": 0,
              "ticks": ""
             }
            },
            "type": "scattergeo"
           }
          ],
          "scattergl": [
           {
            "marker": {
             "colorbar": {
              "outlinewidth": 0,
              "ticks": ""
             }
            },
            "type": "scattergl"
           }
          ],
          "scattermapbox": [
           {
            "marker": {
             "colorbar": {
              "outlinewidth": 0,
              "ticks": ""
             }
            },
            "type": "scattermapbox"
           }
          ],
          "scatterpolar": [
           {
            "marker": {
             "colorbar": {
              "outlinewidth": 0,
              "ticks": ""
             }
            },
            "type": "scatterpolar"
           }
          ],
          "scatterpolargl": [
           {
            "marker": {
             "colorbar": {
              "outlinewidth": 0,
              "ticks": ""
             }
            },
            "type": "scatterpolargl"
           }
          ],
          "scatterternary": [
           {
            "marker": {
             "colorbar": {
              "outlinewidth": 0,
              "ticks": ""
             }
            },
            "type": "scatterternary"
           }
          ],
          "surface": [
           {
            "colorbar": {
             "outlinewidth": 0,
             "ticks": ""
            },
            "colorscale": [
             [
              0,
              "#0d0887"
             ],
             [
              0.1111111111111111,
              "#46039f"
             ],
             [
              0.2222222222222222,
              "#7201a8"
             ],
             [
              0.3333333333333333,
              "#9c179e"
             ],
             [
              0.4444444444444444,
              "#bd3786"
             ],
             [
              0.5555555555555556,
              "#d8576b"
             ],
             [
              0.6666666666666666,
              "#ed7953"
             ],
             [
              0.7777777777777778,
              "#fb9f3a"
             ],
             [
              0.8888888888888888,
              "#fdca26"
             ],
             [
              1,
              "#f0f921"
             ]
            ],
            "type": "surface"
           }
          ],
          "table": [
           {
            "cells": {
             "fill": {
              "color": "#EBF0F8"
             },
             "line": {
              "color": "white"
             }
            },
            "header": {
             "fill": {
              "color": "#C8D4E3"
             },
             "line": {
              "color": "white"
             }
            },
            "type": "table"
           }
          ]
         },
         "layout": {
          "annotationdefaults": {
           "arrowcolor": "#2a3f5f",
           "arrowhead": 0,
           "arrowwidth": 1
          },
          "autotypenumbers": "strict",
          "coloraxis": {
           "colorbar": {
            "outlinewidth": 0,
            "ticks": ""
           }
          },
          "colorscale": {
           "diverging": [
            [
             0,
             "#8e0152"
            ],
            [
             0.1,
             "#c51b7d"
            ],
            [
             0.2,
             "#de77ae"
            ],
            [
             0.3,
             "#f1b6da"
            ],
            [
             0.4,
             "#fde0ef"
            ],
            [
             0.5,
             "#f7f7f7"
            ],
            [
             0.6,
             "#e6f5d0"
            ],
            [
             0.7,
             "#b8e186"
            ],
            [
             0.8,
             "#7fbc41"
            ],
            [
             0.9,
             "#4d9221"
            ],
            [
             1,
             "#276419"
            ]
           ],
           "sequential": [
            [
             0,
             "#0d0887"
            ],
            [
             0.1111111111111111,
             "#46039f"
            ],
            [
             0.2222222222222222,
             "#7201a8"
            ],
            [
             0.3333333333333333,
             "#9c179e"
            ],
            [
             0.4444444444444444,
             "#bd3786"
            ],
            [
             0.5555555555555556,
             "#d8576b"
            ],
            [
             0.6666666666666666,
             "#ed7953"
            ],
            [
             0.7777777777777778,
             "#fb9f3a"
            ],
            [
             0.8888888888888888,
             "#fdca26"
            ],
            [
             1,
             "#f0f921"
            ]
           ],
           "sequentialminus": [
            [
             0,
             "#0d0887"
            ],
            [
             0.1111111111111111,
             "#46039f"
            ],
            [
             0.2222222222222222,
             "#7201a8"
            ],
            [
             0.3333333333333333,
             "#9c179e"
            ],
            [
             0.4444444444444444,
             "#bd3786"
            ],
            [
             0.5555555555555556,
             "#d8576b"
            ],
            [
             0.6666666666666666,
             "#ed7953"
            ],
            [
             0.7777777777777778,
             "#fb9f3a"
            ],
            [
             0.8888888888888888,
             "#fdca26"
            ],
            [
             1,
             "#f0f921"
            ]
           ]
          },
          "colorway": [
           "#636efa",
           "#EF553B",
           "#00cc96",
           "#ab63fa",
           "#FFA15A",
           "#19d3f3",
           "#FF6692",
           "#B6E880",
           "#FF97FF",
           "#FECB52"
          ],
          "font": {
           "color": "#2a3f5f"
          },
          "geo": {
           "bgcolor": "white",
           "lakecolor": "white",
           "landcolor": "#E5ECF6",
           "showlakes": true,
           "showland": true,
           "subunitcolor": "white"
          },
          "hoverlabel": {
           "align": "left"
          },
          "hovermode": "closest",
          "mapbox": {
           "style": "light"
          },
          "paper_bgcolor": "white",
          "plot_bgcolor": "#E5ECF6",
          "polar": {
           "angularaxis": {
            "gridcolor": "white",
            "linecolor": "white",
            "ticks": ""
           },
           "bgcolor": "#E5ECF6",
           "radialaxis": {
            "gridcolor": "white",
            "linecolor": "white",
            "ticks": ""
           }
          },
          "scene": {
           "xaxis": {
            "backgroundcolor": "#E5ECF6",
            "gridcolor": "white",
            "gridwidth": 2,
            "linecolor": "white",
            "showbackground": true,
            "ticks": "",
            "zerolinecolor": "white"
           },
           "yaxis": {
            "backgroundcolor": "#E5ECF6",
            "gridcolor": "white",
            "gridwidth": 2,
            "linecolor": "white",
            "showbackground": true,
            "ticks": "",
            "zerolinecolor": "white"
           },
           "zaxis": {
            "backgroundcolor": "#E5ECF6",
            "gridcolor": "white",
            "gridwidth": 2,
            "linecolor": "white",
            "showbackground": true,
            "ticks": "",
            "zerolinecolor": "white"
           }
          },
          "shapedefaults": {
           "line": {
            "color": "#2a3f5f"
           }
          },
          "ternary": {
           "aaxis": {
            "gridcolor": "white",
            "linecolor": "white",
            "ticks": ""
           },
           "baxis": {
            "gridcolor": "white",
            "linecolor": "white",
            "ticks": ""
           },
           "bgcolor": "#E5ECF6",
           "caxis": {
            "gridcolor": "white",
            "linecolor": "white",
            "ticks": ""
           }
          },
          "title": {
           "x": 0.05
          },
          "xaxis": {
           "automargin": true,
           "gridcolor": "white",
           "linecolor": "white",
           "ticks": "",
           "title": {
            "standoff": 15
           },
           "zerolinecolor": "white",
           "zerolinewidth": 2
          },
          "yaxis": {
           "automargin": true,
           "gridcolor": "white",
           "linecolor": "white",
           "ticks": "",
           "title": {
            "standoff": 15
           },
           "zerolinecolor": "white",
           "zerolinewidth": 2
          }
         }
        },
        "xaxis": {
         "anchor": "y",
         "domain": [
          0,
          0.2888888888888889
         ]
        },
        "xaxis2": {
         "anchor": "y2",
         "domain": [
          0.35555555555555557,
          0.6444444444444445
         ]
        },
        "xaxis3": {
         "anchor": "y3",
         "domain": [
          0.7111111111111111,
          1
         ]
        },
        "yaxis": {
         "anchor": "x",
         "domain": [
          0,
          1
         ]
        },
        "yaxis2": {
         "anchor": "x2",
         "domain": [
          0,
          1
         ]
        },
        "yaxis3": {
         "anchor": "x3",
         "domain": [
          0,
          1
         ]
        }
       }
      }
     },
     "metadata": {},
     "output_type": "display_data"
    }
   ],
   "source": [
    "stocks, inflows, outflows, time = run_sim(t=100)\n",
    "res = [stocks, inflows, outflows]\n",
    "plot_simulation(res, log=False)"
   ]
  },
  {
   "cell_type": "code",
   "execution_count": 148,
   "metadata": {},
   "outputs": [
    {
     "data": {
      "application/vnd.plotly.v1+json": {
       "config": {
        "plotlyServerURL": "https://plotly.com"
       },
       "data": [
        {
         "marker": {
          "color": "#636EFA"
         },
         "mode": "lines+markers",
         "name": "pollution",
         "showlegend": true,
         "type": "scatter",
         "x": [
          0,
          1,
          2,
          3,
          4,
          5,
          6,
          7,
          8,
          9,
          10,
          11,
          12,
          13,
          14,
          15,
          16,
          17,
          18,
          19,
          20,
          21,
          22,
          23,
          24,
          25,
          26,
          27,
          28,
          29,
          30,
          31,
          32,
          33,
          34,
          35,
          36,
          37,
          38,
          39,
          40,
          41,
          42,
          43,
          44,
          45,
          46,
          47,
          48,
          49,
          50,
          51,
          52,
          53,
          54,
          55,
          56,
          57,
          58,
          59,
          60,
          61,
          62,
          63,
          64,
          65,
          66,
          67,
          68,
          69,
          70,
          71,
          72,
          73,
          74,
          75,
          76,
          77,
          78,
          79,
          80,
          81,
          82,
          83,
          84,
          85,
          86,
          87,
          88,
          89,
          90,
          91,
          92,
          93,
          94,
          95,
          96,
          97,
          98,
          99
         ],
         "xaxis": "x",
         "y": [
          100,
          226,
          348.30643903485304,
          490.0237515426959,
          661.6678402422447,
          878.7059156483502,
          1164.7792172851703,
          1557.395007656808,
          2118.3552799332647,
          2953.644159205216,
          4253.065362815593,
          6373.219555078305,
          10021.016544364476,
          16685.377434208283,
          29726.15708072823,
          57347.22221788833,
          121481.84562943953,
          287251.20846116764,
          597570.1888686873,
          865892.0621690585,
          1097900.5187477455,
          1298510.0451420667,
          1471970.0244618496,
          1621954.7483501725,
          1751641.2471499043,
          1863776.5869026093,
          1960736.0586890485,
          2044573.4928987974,
          2117064.764203939,
          2179745.4087748174,
          2233943.1505592423,
          2280806.0256084874,
          2321326.700189661,
          2356363.4977994524,
          2386658.580481019,
          2412853.669567199,
          2435503.638852493,
          2455088.2681292607,
          2472022.406055773,
          2486664.7576296334,
          2499325.482405995,
          2510272.7644087668,
          2519738.4929010225,
          2527923.174346738,
          2535000.1796107963,
          2541119.416362976,
          2546410.5044761077,
          2550985.521680819,
          2554941.377636318,
          2558361.8667056365,
          2561319.442917951,
          2563876.754715878,
          2566087.971997308,
          2567999.9335616585,
          2569653.13926616,
          2571082.607908394,
          2572318.619007054,
          2573387.3541935924,
          2574311.4518009564,
          2575110.486396889,
          2575801.3834194657,
          2576398.7776978044,
          2576915.3234522804,
          2577361.9623407694,
          2577748.1552287806,
          2578082.0825929088,
          2578370.817802632,
          2578620.476950967,
          2578836.3484077496,
          2579023.004839786,
          2579184.4000707245,
          2579323.952832371,
          2579444.6191814933,
          2579548.95511608,
          2579639.170717408,
          2579717.176964778,
          2579784.6262145657,
          2579842.9472010294,
          2579893.3753002714,
          2579936.9786984194,
          2579974.6810183288,
          2580007.2808840945,
          2580035.4688377935,
          2580059.841966795,
          2580080.916551479,
          2580099.1390012763,
          2580114.895310669,
          2580128.5192354675,
          2580140.2993625444,
          2580150.4852227867,
          2580159.292576748,
          2580166.9079849664,
          2580173.4927597567,
          2580179.1863821857,
          2580184.109456611,
          2580188.366265364,
          2580192.046977699,
          2580195.2295597875,
          2580197.981426228,
          2580200.3608680437
         ],
         "yaxis": "y"
        },
        {
         "marker": {
          "color": "#EF553B"
         },
         "mode": "lines+markers",
         "name": "buildings",
         "showlegend": true,
         "type": "scatter",
         "x": [
          0,
          1,
          2,
          3,
          4,
          5,
          6,
          7,
          8,
          9,
          10,
          11,
          12,
          13,
          14,
          15,
          16,
          17,
          18,
          19,
          20,
          21,
          22,
          23,
          24,
          25,
          26,
          27,
          28,
          29,
          30,
          31,
          32,
          33,
          34,
          35,
          36,
          37,
          38,
          39,
          40,
          41,
          42,
          43,
          44,
          45,
          46,
          47,
          48,
          49,
          50,
          51,
          52,
          53,
          54,
          55,
          56,
          57,
          58,
          59,
          60,
          61,
          62,
          63,
          64,
          65,
          66,
          67,
          68,
          69,
          70,
          71,
          72,
          73,
          74,
          75,
          76,
          77,
          78,
          79,
          80,
          81,
          82,
          83,
          84,
          85,
          86,
          87,
          88,
          89,
          90,
          91,
          92,
          93,
          94,
          95,
          96,
          97,
          98,
          99
         ],
         "xaxis": "x",
         "y": [
          500,
          525,
          551.25,
          578.8125,
          607.7531250000001,
          638.1407812500001,
          670.0478203125002,
          703.5502113281252,
          738.7277218945316,
          775.6641079892581,
          814.4473133887211,
          855.1696790581572,
          897.928163011065,
          942.8245711616182,
          989.9657997196991,
          1039.464089705684,
          1091.4372941909683,
          1146.0091589005167,
          1203.3096168455427,
          1263.47509768782,
          1326.648852572211,
          1392.9812952008215,
          1462.6303599608625,
          1535.7618779589056,
          1612.5499718568508,
          1693.1774704496934,
          1777.836343972178,
          1866.728161170787,
          1960.0645692293265,
          2058.0677976907928,
          2160.9711875753324,
          2269.019746954099,
          2382.470734301804,
          2501.5942710168943,
          2626.673984567739,
          2758.0076837961255,
          2895.908067985932,
          3040.703471385229,
          3192.73864495449,
          3352.3755772022146,
          3519.994356062325,
          3695.9940738654414,
          3880.7937775587134,
          4074.833466436649,
          4278.575139758482,
          4492.503896746405,
          4717.129091583725,
          4952.985546162912,
          5200.634823471058,
          5460.66656464461,
          5733.69989287684,
          6020.384887520681,
          6321.404131896715,
          6637.474338491551,
          6969.348055416129,
          7317.815458186936,
          7683.706231096282,
          8067.891542651097,
          8471.286119783652,
          8894.850425772835,
          9339.592947061477,
          9806.572594414552,
          10296.901224135281,
          10811.746285342044,
          11352.333599609146,
          11919.950279589602,
          12515.947793569081,
          13141.745183247536,
          13798.832442409912,
          14488.774064530407,
          15213.212767756928,
          15973.873406144776,
          16772.567076452015,
          17611.195430274613,
          18491.755201788343,
          19416.34296187776,
          20387.160109971646,
          21406.518115470226,
          22476.844021243734,
          23600.68622230592,
          24780.72053342122,
          26019.756560092283,
          27320.744388096897,
          28686.78160750174,
          30121.120687876828,
          31627.17672227067,
          33208.5355583842,
          34868.96233630341,
          36612.41045311859,
          38443.03097577451,
          40365.18252456324,
          42383.4416507914,
          44502.613733330974,
          46727.74441999752,
          49064.1316409974,
          51517.33822304728,
          54093.20513419964,
          56797.865390909625,
          59637.75866045511,
          62619.64659347786
         ],
         "yaxis": "y"
        },
        {
         "marker": {
          "color": "#00CC96"
         },
         "mode": "lines+markers",
         "name": "coal",
         "showlegend": true,
         "type": "scatter",
         "x": [
          0,
          1,
          2,
          3,
          4,
          5,
          6,
          7,
          8,
          9,
          10,
          11,
          12,
          13,
          14,
          15,
          16,
          17,
          18,
          19,
          20,
          21,
          22,
          23,
          24,
          25,
          26,
          27,
          28,
          29,
          30,
          31,
          32,
          33,
          34,
          35,
          36,
          37,
          38,
          39,
          40,
          41,
          42,
          43,
          44,
          45,
          46,
          47,
          48,
          49,
          50,
          51,
          52,
          53,
          54,
          55,
          56,
          57,
          58,
          59,
          60,
          61,
          62,
          63,
          64,
          65,
          66,
          67,
          68,
          69,
          70,
          71,
          72,
          73,
          74,
          75,
          76,
          77,
          78,
          79,
          80,
          81,
          82,
          83,
          84,
          85,
          86,
          87,
          88,
          89,
          90,
          91,
          92,
          93,
          94,
          95,
          96,
          97,
          98,
          99
         ],
         "xaxis": "x",
         "y": [
          2500,
          2400,
          2295,
          2184.75,
          2068.9875,
          1947.436875,
          1819.80871875,
          1685.7991546875,
          1545.0891124218751,
          1397.3435680429689,
          1242.2107464451174,
          1079.3212837673732,
          908.2873479557418,
          728.7017153535288,
          540.1368011212052,
          342.1436411772654,
          134.25082323612864,
          0,
          0,
          0,
          0,
          0,
          0,
          0,
          0,
          0,
          0,
          0,
          0,
          0,
          0,
          0,
          0,
          0,
          0,
          0,
          0,
          0,
          0,
          0,
          0,
          0,
          0,
          0,
          0,
          0,
          0,
          0,
          0,
          0,
          0,
          0,
          0,
          0,
          0,
          0,
          0,
          0,
          0,
          0,
          0,
          0,
          0,
          0,
          0,
          0,
          0,
          0,
          0,
          0,
          0,
          0,
          0,
          0,
          0,
          0,
          0,
          0,
          0,
          0,
          0,
          0,
          0,
          0,
          0,
          0,
          0,
          0,
          0,
          0,
          0,
          0,
          0,
          0,
          0,
          0,
          0,
          0,
          0,
          0
         ],
         "yaxis": "y"
        },
        {
         "marker": {
          "color": "#AB63FA"
         },
         "mode": "lines+markers",
         "name": "solar",
         "showlegend": true,
         "type": "scatter",
         "x": [
          0,
          1,
          2,
          3,
          4,
          5,
          6,
          7,
          8,
          9,
          10,
          11,
          12,
          13,
          14,
          15,
          16,
          17,
          18,
          19,
          20,
          21,
          22,
          23,
          24,
          25,
          26,
          27,
          28,
          29,
          30,
          31,
          32,
          33,
          34,
          35,
          36,
          37,
          38,
          39,
          40,
          41,
          42,
          43,
          44,
          45,
          46,
          47,
          48,
          49,
          50,
          51,
          52,
          53,
          54,
          55,
          56,
          57,
          58,
          59,
          60,
          61,
          62,
          63,
          64,
          65,
          66,
          67,
          68,
          69,
          70,
          71,
          72,
          73,
          74,
          75,
          76,
          77,
          78,
          79,
          80,
          81,
          82,
          83,
          84,
          85,
          86,
          87,
          88,
          89,
          90,
          91,
          92,
          93,
          94,
          95,
          96,
          97,
          98,
          99
         ],
         "xaxis": "x",
         "y": [
          5000,
          6000,
          7005,
          8015.25,
          9031.012499999999,
          10052.563124999999,
          11080.191281249998,
          12114.200845312498,
          13154.910887578122,
          14202.656431957028,
          15257.78925355488,
          16320.678716232624,
          17391.712652044254,
          18471.29828464647,
          19559.863198878793,
          20657.856358822733,
          21765.749176763868,
          22884.03663560206,
          24013.23846738216,
          25153.90039075127,
          26306.595410288835,
          27471.925180803275,
          28650.52143984344,
          29843.04751183561,
          30985.61346017858,
          31989.481766944762,
          32777.28370097048,
          33295.987089163966,
          33525.501910570354,
          33480.01492961821,
          33201.30723820296,
          32746.14145295738,
          32172.03057129256,
          31526.10116999537,
          30840.002656379223,
          30130.834794459046,
          29405.59860004752,
          28666.04697164566,
          27911.97556137597,
          27142.70183348483,
          26357.464243673927,
          25555.46481919234,
          24735.865406644003,
          23897.786031919113,
          23040.30268310358,
          22162.445170978997,
          21263.19477946234,
          20341.481872412616,
          19396.183315050883,
          18426.11983673159,
          17430.053173659733,
          16406.68319641381,
          15354.644683414577,
          14272.504323914663,
          13158.75675986876,
          12011.822298857951,
          10830.039761292303,
          9611.672234883601,
          8354.872618122194,
          7057.782168351005,
          5718.147152104908,
          4334.821705407459,
          2901.288224309311,
          1435.589772114188,
          0,
          0,
          0,
          13604.872594767889,
          0,
          743214.1639007896,
          0,
          46460578.8235426,
          0,
          3689816991.6628914,
          0,
          371200823828.4485,
          0,
          47090303108251.22,
          0,
          7503073428178831,
          0,
          1496272204874016500,
          0,
          372310839232107600000,
          0,
          1.1527642159969286e+23,
          0,
          4.430636896053253e+25,
          0,
          2.1093625092469716e+28,
          0,
          1.2415570120557194e+31,
          0,
          9.019308937745223e+33,
          0,
          8.074408353853464e+36,
          0,
          8.895867490388944e+39,
          0,
          1.2046943946169803e+43
         ],
         "yaxis": "y"
        },
        {
         "marker": {
          "color": "#636EFA"
         },
         "mode": "lines+markers",
         "name": "pollution",
         "showlegend": true,
         "type": "scatter",
         "x": [
          0,
          1,
          2,
          3,
          4,
          5,
          6,
          7,
          8,
          9,
          10,
          11,
          12,
          13,
          14,
          15,
          16,
          17,
          18,
          19,
          20,
          21,
          22,
          23,
          24,
          25,
          26,
          27,
          28,
          29,
          30,
          31,
          32,
          33,
          34,
          35,
          36,
          37,
          38,
          39,
          40,
          41,
          42,
          43,
          44,
          45,
          46,
          47,
          48,
          49,
          50,
          51,
          52,
          53,
          54,
          55,
          56,
          57,
          58,
          59,
          60,
          61,
          62,
          63,
          64,
          65,
          66,
          67,
          68,
          69,
          70,
          71,
          72,
          73,
          74,
          75,
          76,
          77,
          78,
          79,
          80,
          81,
          82,
          83,
          84,
          85,
          86,
          87,
          88,
          89,
          90,
          91,
          92,
          93,
          94,
          95,
          96,
          97,
          98,
          99
         ],
         "xaxis": "x2",
         "y": [
          126,
          152.89221304632753,
          188.85546308776068,
          237.96159190724717,
          306.5850799738476,
          404.9932156127767,
          550.2515156510462,
          771.7307667489772,
          1121.9770910774937,
          1699.1534724765816,
          2695.7439977631875,
          4510.318462901813,
          8020.558002194157,
          15298.89992748831,
          31644.063025216496,
          71895.7259732421,
          182210.14281809473,
          349194.2040646711,
          349194.2040646711,
          349194.2040646711,
          349194.2040646711,
          349194.2040646711,
          349194.2040646711,
          349194.2040646711,
          349194.2040646711,
          349194.2040646711,
          349194.2040646711,
          349194.2040646711,
          349194.2040646711,
          349194.2040646711,
          349194.2040646711,
          349194.2040646711,
          349194.2040646711,
          349194.2040646711,
          349194.2040646711,
          349194.2040646711,
          349194.2040646711,
          349194.2040646711,
          349194.2040646711,
          349194.2040646711,
          349194.2040646711,
          349194.2040646711,
          349194.2040646711,
          349194.2040646711,
          349194.2040646711,
          349194.2040646711,
          349194.2040646711,
          349194.2040646711,
          349194.2040646711,
          349194.2040646711,
          349194.2040646711,
          349194.2040646711,
          349194.2040646711,
          349194.2040646711,
          349194.2040646711,
          349194.2040646711,
          349194.2040646711,
          349194.2040646711,
          349194.2040646711,
          349194.2040646711,
          349194.2040646711,
          349194.2040646711,
          349194.2040646711,
          349194.2040646711,
          349194.2040646711,
          349194.2040646711,
          349194.2040646711,
          349194.2040646711,
          349194.2040646711,
          349194.2040646711,
          349194.2040646711,
          349194.2040646711,
          349194.2040646711,
          349194.2040646711,
          349194.2040646711,
          349194.2040646711,
          349194.2040646711,
          349194.2040646711,
          349194.2040646711,
          349194.2040646711,
          349194.2040646711,
          349194.2040646711,
          349194.2040646711,
          349194.2040646711,
          349194.2040646711,
          349194.2040646711,
          349194.2040646711,
          349194.2040646711,
          349194.2040646711,
          349194.2040646711,
          349194.2040646711,
          349194.2040646711,
          349194.2040646711,
          349194.2040646711,
          349194.2040646711,
          349194.2040646711,
          349194.2040646711,
          349194.2040646711,
          349194.2040646711,
          349194.2040646711
         ],
         "yaxis": "y2"
        },
        {
         "marker": {
          "color": "#EF553B"
         },
         "mode": "lines+markers",
         "name": "buildings",
         "showlegend": true,
         "type": "scatter",
         "x": [
          0,
          1,
          2,
          3,
          4,
          5,
          6,
          7,
          8,
          9,
          10,
          11,
          12,
          13,
          14,
          15,
          16,
          17,
          18,
          19,
          20,
          21,
          22,
          23,
          24,
          25,
          26,
          27,
          28,
          29,
          30,
          31,
          32,
          33,
          34,
          35,
          36,
          37,
          38,
          39,
          40,
          41,
          42,
          43,
          44,
          45,
          46,
          47,
          48,
          49,
          50,
          51,
          52,
          53,
          54,
          55,
          56,
          57,
          58,
          59,
          60,
          61,
          62,
          63,
          64,
          65,
          66,
          67,
          68,
          69,
          70,
          71,
          72,
          73,
          74,
          75,
          76,
          77,
          78,
          79,
          80,
          81,
          82,
          83,
          84,
          85,
          86,
          87,
          88,
          89,
          90,
          91,
          92,
          93,
          94,
          95,
          96,
          97,
          98,
          99
         ],
         "xaxis": "x2",
         "y": [
          50,
          52.5,
          55.125,
          57.88125,
          60.77531250000001,
          63.814078125000016,
          67.00478203125003,
          70.35502113281252,
          73.87277218945316,
          77.56641079892582,
          81.44473133887212,
          85.51696790581572,
          89.7928163011065,
          94.28245711616182,
          98.99657997196992,
          103.94640897056841,
          109.14372941909683,
          114.60091589005168,
          120.33096168455427,
          126.347509768782,
          132.6648852572211,
          139.29812952008214,
          146.26303599608624,
          153.57618779589058,
          161.25499718568508,
          169.31774704496934,
          177.7836343972178,
          186.6728161170787,
          196.00645692293267,
          205.8067797690793,
          216.09711875753325,
          226.9019746954099,
          238.24707343018042,
          250.15942710168943,
          262.6673984567739,
          275.8007683796126,
          289.59080679859323,
          304.0703471385229,
          319.27386449544906,
          335.2375577202215,
          351.9994356062325,
          369.59940738654416,
          388.07937775587135,
          407.4833466436649,
          427.8575139758482,
          449.25038967464053,
          471.71290915837255,
          495.29855461629126,
          520.0634823471058,
          546.0666564644611,
          573.369989287684,
          602.0384887520681,
          632.1404131896716,
          663.7474338491552,
          696.934805541613,
          731.7815458186936,
          768.3706231096282,
          806.7891542651097,
          847.1286119783653,
          889.4850425772835,
          933.9592947061478,
          980.6572594414553,
          1029.6901224135281,
          1081.1746285342044,
          1135.2333599609146,
          1191.9950279589602,
          1251.5947793569082,
          1314.1745183247538,
          1379.8832442409912,
          1448.8774064530407,
          1521.321276775693,
          1597.3873406144776,
          1677.2567076452015,
          1761.1195430274613,
          1849.1755201788344,
          1941.634296187776,
          2038.7160109971646,
          2140.6518115470226,
          2247.6844021243737,
          2360.068622230592,
          2478.072053342122,
          2601.9756560092283,
          2732.07443880969,
          2868.6781607501744,
          3012.112068787683,
          3162.717672227067,
          3320.8535558384206,
          3486.896233630341,
          3661.241045311859,
          3844.3030975774514,
          4036.5182524563243,
          4238.34416507914,
          4450.261373333097,
          4672.7744419997525,
          4906.41316409974,
          5151.733822304728,
          5409.320513419964,
          5679.786539090963,
          5963.775866045511,
          6261.964659347786
         ],
         "yaxis": "y2"
        },
        {
         "marker": {
          "color": "#00CC96"
         },
         "mode": "lines+markers",
         "name": "coal",
         "showlegend": true,
         "type": "scatter",
         "x": [
          0,
          1,
          2,
          3,
          4,
          5,
          6,
          7,
          8,
          9,
          10,
          11,
          12,
          13,
          14,
          15,
          16,
          17,
          18,
          19,
          20,
          21,
          22,
          23,
          24,
          25,
          26,
          27,
          28,
          29,
          30,
          31,
          32,
          33,
          34,
          35,
          36,
          37,
          38,
          39,
          40,
          41,
          42,
          43,
          44,
          45,
          46,
          47,
          48,
          49,
          50,
          51,
          52,
          53,
          54,
          55,
          56,
          57,
          58,
          59,
          60,
          61,
          62,
          63,
          64,
          65,
          66,
          67,
          68,
          69,
          70,
          71,
          72,
          73,
          74,
          75,
          76,
          77,
          78,
          79,
          80,
          81,
          82,
          83,
          84,
          85,
          86,
          87,
          88,
          89,
          90,
          91,
          92,
          93,
          94,
          95,
          96,
          97,
          98,
          99
         ],
         "xaxis": "x2",
         "y": [
          0,
          0,
          0,
          0,
          0,
          0,
          0,
          0,
          0,
          0,
          0,
          0,
          0,
          0,
          0,
          0,
          0,
          0,
          0,
          0,
          0,
          0,
          0,
          0,
          0,
          0,
          0,
          0,
          0,
          0,
          0,
          0,
          0,
          0,
          0,
          0,
          0,
          0,
          0,
          0,
          0,
          0,
          0,
          0,
          0,
          0,
          0,
          0,
          0,
          0,
          0,
          0,
          0,
          0,
          0,
          0,
          0,
          0,
          0,
          0,
          0,
          0,
          0,
          0,
          0,
          0,
          0,
          0,
          0,
          0,
          0,
          0,
          0,
          0,
          0,
          0,
          0,
          0,
          0,
          0,
          0,
          0,
          0,
          0,
          0,
          0,
          0,
          0,
          0,
          0,
          0,
          0,
          0,
          0,
          0,
          0,
          0,
          0,
          0,
          0
         ],
         "yaxis": "y2"
        },
        {
         "marker": {
          "color": "#AB63FA"
         },
         "mode": "lines+markers",
         "name": "solar",
         "showlegend": true,
         "type": "scatter",
         "x": [
          0,
          1,
          2,
          3,
          4,
          5,
          6,
          7,
          8,
          9,
          10,
          11,
          12,
          13,
          14,
          15,
          16,
          17,
          18,
          19,
          20,
          21,
          22,
          23,
          24,
          25,
          26,
          27,
          28,
          29,
          30,
          31,
          32,
          33,
          34,
          35,
          36,
          37,
          38,
          39,
          40,
          41,
          42,
          43,
          44,
          45,
          46,
          47,
          48,
          49,
          50,
          51,
          52,
          53,
          54,
          55,
          56,
          57,
          58,
          59,
          60,
          61,
          62,
          63,
          64,
          65,
          66,
          67,
          68,
          69,
          70,
          71,
          72,
          73,
          74,
          75,
          76,
          77,
          78,
          79,
          80,
          81,
          82,
          83,
          84,
          85,
          86,
          87,
          88,
          89,
          90,
          91,
          92,
          93,
          94,
          95,
          96,
          97,
          98,
          99
         ],
         "xaxis": "x2",
         "y": [
          1500,
          1507.5,
          1515.375,
          1523.64375,
          1532.3259375,
          1541.442234375,
          1551.01434609375,
          1561.0650633984374,
          1571.6183165683592,
          1582.6992323967772,
          1594.334194016616,
          1606.5509037174468,
          1619.3784489033192,
          1632.8473713484852,
          1646.9897399159095,
          1661.8392269117048,
          1677.4311882572902,
          1693.8027476701548,
          1710.9928850536626,
          1729.0425293063458,
          1747.994655771663,
          1767.8943885602462,
          1788.7891079882584,
          1746.1421361388611,
          1615.1233039518677,
          1407.1196810706856,
          1146.4870225907014,
          866.1876375234625,
          600.519475970796,
          377.09908835382856,
          210.9313335119584,
          102.79109303058713,
          42.31767213299561,
          14.060913485542493,
          3.4995365365968834,
          0.5645739680874431,
          0.03917839673538043,
          -0.001063131166958474,
          0.0001366043070189748,
          -0.00003209068102274653,
          0.000011124648676016373,
          -0.000005161793034894948,
          0.0000030309834574542514,
          -0.0000021718683041917946,
          0.000001851264547046027,
          -0.0000018420130335831092,
          0.000002108649444694631,
          -0.000002745441258275377,
          0.000004027809092503328,
          -0.000006607396775129659,
          0.000012041759904244483,
          -0.000024247166422621682,
          0.00005368975916192196,
          -0.00013019674746085519,
          0.00034453080423683355,
          -0.0009917469549035848,
          0.0030967009282351224,
          -0.010462496296215052,
          0.03816220717584619,
          -0.14997366881264534,
          0.6338480086997201,
          -2.876221656693168,
          13.991670218405856,
          -72.86625190290857,
          405.7354960308315,
          -2412.760300839761,
          15306.467374124797,
          -103489.52784271048,
          745044.0471450306,
          -5706428.483848399,
          46462550.14481938,
          -401866162.47036016,
          3689819118.919599,
          -35941778832.59863,
          371200826127.624,
          -4062506712962.287,
          47090303110739.94,
          -577845678180545.8,
          7503073428181529,
          -103045640931259260,
          1496272204874019300,
          -22962547935888300000,
          372310839232107600000,
          -6.375644811640558e+21,
          1.1527642159969286e+23,
          -2.200025662030258e+24,
          4.430636896053253e+25,
          -9.413320024410492e+26,
          2.1093625092469716e+28,
          -4.984146716958524e+29,
          1.2415570120557194e+31,
          -3.2597858760284895e+32,
          9.019308937745223e+33,
          -2.629293573831483e+35,
          8.074408353853464e+36,
          -2.6116586736993796e+38,
          8.895867490388944e+39,
          -3.19052454522209e+41,
          1.2046943946169803e+43,
          -4.788230270680541e+44
         ],
         "yaxis": "y2"
        },
        {
         "marker": {
          "color": "#636EFA"
         },
         "mode": "lines+markers",
         "name": "pollution",
         "showlegend": true,
         "type": "scatter",
         "x": [
          0,
          1,
          2,
          3,
          4,
          5,
          6,
          7,
          8,
          9,
          10,
          11,
          12,
          13,
          14,
          15,
          16,
          17,
          18,
          19,
          20,
          21,
          22,
          23,
          24,
          25,
          26,
          27,
          28,
          29,
          30,
          31,
          32,
          33,
          34,
          35,
          36,
          37,
          38,
          39,
          40,
          41,
          42,
          43,
          44,
          45,
          46,
          47,
          48,
          49,
          50,
          51,
          52,
          53,
          54,
          55,
          56,
          57,
          58,
          59,
          60,
          61,
          62,
          63,
          64,
          65,
          66,
          67,
          68,
          69,
          70,
          71,
          72,
          73,
          74,
          75,
          76,
          77,
          78,
          79,
          80,
          81,
          82,
          83,
          84,
          85,
          86,
          87,
          88,
          89,
          90,
          91,
          92,
          93,
          94,
          95,
          96,
          97,
          98,
          99
         ],
         "xaxis": "x3",
         "y": [
          0,
          30.58577401147447,
          47.13815057991781,
          66.31750320769828,
          89.54700456774198,
          118.91991397595659,
          157.63572527940858,
          210.77049447252074,
          286.6882118055424,
          399.7322688662047,
          575.5898055004753,
          862.5214736156413,
          1356.1971123503483,
          2258.120280968364,
          4022.9978880563954,
          7761.102561690886,
          16440.77998636666,
          38875.2236571514,
          80872.33076429994,
          117185.74748598419,
          148584.67767035015,
          175734.22474488834,
          199209.48017634815,
          219507.7052649395,
          237058.8643119658,
          252234.73227823194,
          265356.769854922,
          276702.93275952927,
          286513.55949379277,
          294996.462280246,
          302331.329015426,
          308673.52948349755,
          314157.40645487927,
          318899.1213831043,
          322999.1149784907,
          326544.2347793772,
          329609.574787903,
          332260.06613815844,
          334551.85249081085,
          336533.4792883093,
          338246.92206189904,
          339728.4755724152,
          341009.5226189555,
          342117.1988006129,
          343074.9673124912,
          343903.11595153937,
          344619.18685995985,
          345238.34810917184,
          345773.71499535255,
          346236.6278523565,
          346636.89226674393,
          346982.98678324075,
          347282.2425003208,
          347540.99836016964,
          347764.73542243673,
          347958.19296601135,
          348125.46887813206,
          348270.1064573072,
          348395.1694687381,
          348503.30704209453,
          348596.80978633225,
          348677.65831019514,
          348747.5651761818,
          348808.01117665996,
          348860.2767005429,
          348905.46885494766,
          348944.54491633596,
          348978.3326078885,
          349007.5476326348,
          349032.8088337324,
          349054.6513030245,
          349073.5377155484,
          349089.868130084,
          349103.98846334306,
          349116.1978173011,
          349126.75481488317,
          349135.88307820726,
          349143.77596542897,
          349150.600666523,
          349156.5017447614,
          349161.60419890506,
          349166.0161109719,
          349169.8309356696,
          349173.1294799864,
          349175.98161487374,
          349178.4477552783,
          349180.58013987273,
          349182.4239375941,
          349184.01820442866,
          349185.39671070955,
          349186.5886564524,
          349187.6192898807,
          349188.51044224197,
          349189.280990246,
          349189.94725591777,
          349190.523352336,
          349191.0214825824,
          349191.4521982308,
          349191.8246228549,
          349192.146645287
         ],
         "yaxis": "y3"
        },
        {
         "marker": {
          "color": "#EF553B"
         },
         "mode": "lines+markers",
         "name": "buildings",
         "showlegend": true,
         "type": "scatter",
         "x": [
          0,
          1,
          2,
          3,
          4,
          5,
          6,
          7,
          8,
          9,
          10,
          11,
          12,
          13,
          14,
          15,
          16,
          17,
          18,
          19,
          20,
          21,
          22,
          23,
          24,
          25,
          26,
          27,
          28,
          29,
          30,
          31,
          32,
          33,
          34,
          35,
          36,
          37,
          38,
          39,
          40,
          41,
          42,
          43,
          44,
          45,
          46,
          47,
          48,
          49,
          50,
          51,
          52,
          53,
          54,
          55,
          56,
          57,
          58,
          59,
          60,
          61,
          62,
          63,
          64,
          65,
          66,
          67,
          68,
          69,
          70,
          71,
          72,
          73,
          74,
          75,
          76,
          77,
          78,
          79,
          80,
          81,
          82,
          83,
          84,
          85,
          86,
          87,
          88,
          89,
          90,
          91,
          92,
          93,
          94,
          95,
          96,
          97,
          98,
          99
         ],
         "xaxis": "x3",
         "y": [
          25,
          26.25,
          27.5625,
          28.940625,
          30.387656250000006,
          31.907039062500008,
          33.502391015625015,
          35.17751056640626,
          36.93638609472658,
          38.78320539946291,
          40.72236566943606,
          42.75848395290786,
          44.89640815055325,
          47.14122855808091,
          49.49828998598496,
          51.97320448528421,
          54.571864709548414,
          57.30045794502584,
          60.165480842277134,
          63.173754884391,
          66.33244262861055,
          69.64906476004107,
          73.13151799804312,
          76.78809389794529,
          80.62749859284254,
          84.65887352248467,
          88.8918171986089,
          93.33640805853935,
          98.00322846146634,
          102.90338988453965,
          108.04855937876663,
          113.45098734770495,
          119.12353671509021,
          125.07971355084472,
          131.33369922838696,
          137.9003841898063,
          144.79540339929662,
          152.03517356926145,
          159.63693224772453,
          167.61877886011075,
          175.99971780311625,
          184.79970369327208,
          194.03968887793567,
          203.74167332183245,
          213.9287569879241,
          224.62519483732027,
          235.85645457918628,
          247.64927730814563,
          260.0317411735529,
          273.03332823223053,
          286.684994643842,
          301.01924437603407,
          316.0702065948358,
          331.8737169245776,
          348.4674027708065,
          365.8907729093468,
          384.1853115548141,
          403.39457713255484,
          423.5643059891826,
          444.74252128864174,
          466.9796473530739,
          490.32862972072763,
          514.8450612067641,
          540.5873142671022,
          567.6166799804573,
          595.9975139794801,
          625.7973896784541,
          657.0872591623769,
          689.9416221204956,
          724.4387032265204,
          760.6606383878465,
          798.6936703072388,
          838.6283538226007,
          880.5597715137307,
          924.5877600894172,
          970.817148093888,
          1019.3580054985823,
          1070.3259057735113,
          1123.8422010621869,
          1180.034311115296,
          1239.036026671061,
          1300.9878280046141,
          1366.037219404845,
          1434.3390803750872,
          1506.0560343938414,
          1581.3588361135335,
          1660.4267779192103,
          1743.4481168151706,
          1830.6205226559296,
          1922.1515487887257,
          2018.2591262281621,
          2119.17208253957,
          2225.1306866665486,
          2336.3872209998763,
          2453.20658204987,
          2575.866911152364,
          2704.660256709982,
          2839.8932695454814,
          2981.8879330227555,
          3130.982329673893
         ],
         "yaxis": "y3"
        },
        {
         "marker": {
          "color": "#00CC96"
         },
         "mode": "lines+markers",
         "name": "coal",
         "showlegend": true,
         "type": "scatter",
         "x": [
          0,
          1,
          2,
          3,
          4,
          5,
          6,
          7,
          8,
          9,
          10,
          11,
          12,
          13,
          14,
          15,
          16,
          17,
          18,
          19,
          20,
          21,
          22,
          23,
          24,
          25,
          26,
          27,
          28,
          29,
          30,
          31,
          32,
          33,
          34,
          35,
          36,
          37,
          38,
          39,
          40,
          41,
          42,
          43,
          44,
          45,
          46,
          47,
          48,
          49,
          50,
          51,
          52,
          53,
          54,
          55,
          56,
          57,
          58,
          59,
          60,
          61,
          62,
          63,
          64,
          65,
          66,
          67,
          68,
          69,
          70,
          71,
          72,
          73,
          74,
          75,
          76,
          77,
          78,
          79,
          80,
          81,
          82,
          83,
          84,
          85,
          86,
          87,
          88,
          89,
          90,
          91,
          92,
          93,
          94,
          95,
          96,
          97,
          98,
          99
         ],
         "xaxis": "x3",
         "y": [
          100,
          105,
          110.25,
          115.7625,
          121.55062500000001,
          127.62815625000003,
          134.00956406250003,
          140.71004226562502,
          147.7455443789063,
          155.1328215978516,
          162.8894626777442,
          171.0339358116314,
          179.58563260221297,
          188.56491423232362,
          197.9931599439398,
          207.89281794113677,
          218.2874588381936,
          0,
          0,
          0,
          0,
          0,
          0,
          0,
          0,
          0,
          0,
          0,
          0,
          0,
          0,
          0,
          0,
          0,
          0,
          0,
          0,
          0,
          0,
          0,
          0,
          0,
          0,
          0,
          0,
          0,
          0,
          0,
          0,
          0,
          0,
          0,
          0,
          0,
          0,
          0,
          0,
          0,
          0,
          0,
          0,
          0,
          0,
          0,
          0,
          0,
          0,
          0,
          0,
          0,
          0,
          0,
          0,
          0,
          0,
          0,
          0,
          0,
          0,
          0,
          0,
          0,
          0,
          0,
          0,
          0,
          0,
          0,
          0,
          0,
          0,
          0,
          0,
          0,
          0,
          0,
          0,
          0,
          0,
          0
         ],
         "yaxis": "y3"
        },
        {
         "marker": {
          "color": "#AB63FA"
         },
         "mode": "lines+markers",
         "name": "solar",
         "showlegend": true,
         "type": "scatter",
         "x": [
          0,
          1,
          2,
          3,
          4,
          5,
          6,
          7,
          8,
          9,
          10,
          11,
          12,
          13,
          14,
          15,
          16,
          17,
          18,
          19,
          20,
          21,
          22,
          23,
          24,
          25,
          26,
          27,
          28,
          29,
          30,
          31,
          32,
          33,
          34,
          35,
          36,
          37,
          38,
          39,
          40,
          41,
          42,
          43,
          44,
          45,
          46,
          47,
          48,
          49,
          50,
          51,
          52,
          53,
          54,
          55,
          56,
          57,
          58,
          59,
          60,
          61,
          62,
          63,
          64,
          65,
          66,
          67,
          68,
          69,
          70,
          71,
          72,
          73,
          74,
          75,
          76,
          77,
          78,
          79,
          80,
          81,
          82,
          83,
          84,
          85,
          86,
          87,
          88,
          89,
          90,
          91,
          92,
          93,
          94,
          95,
          96,
          97,
          98,
          99
         ],
         "xaxis": "x3",
         "y": [
          500,
          502.5,
          505.125,
          507.88125,
          510.77531250000004,
          513.814078125,
          517.00478203125,
          520.3550211328125,
          523.8727721894531,
          527.5664107989257,
          531.4447313388721,
          535.5169679058157,
          539.7928163011065,
          544.2824571161618,
          548.9965799719699,
          553.9464089705684,
          559.1437294190969,
          564.6009158900517,
          570.3309616845544,
          576.3475097687821,
          582.6648852572212,
          589.2981295200822,
          596.2630359960863,
          603.5761877958906,
          611.2549971856852,
          619.3177470449695,
          627.783634397218,
          636.6728161170788,
          646.0064569229328,
          655.8067797690794,
          666.0971187575334,
          676.9019746954101,
          688.2470734301806,
          700.1594271016896,
          712.6673984567741,
          725.8007683796128,
          739.5908067985935,
          754.0703471385232,
          769.2738644954493,
          785.2375577202217,
          801.9994356062327,
          819.5994073865444,
          838.0793777558716,
          857.4833466436652,
          877.8575139758485,
          899.2503896746408,
          921.7129091583728,
          945.2985546162914,
          970.063482347106,
          996.0666564644612,
          1023.3699892876841,
          1052.0384887520684,
          1082.1404131896718,
          1113.7474338491554,
          1146.9348055416133,
          1181.781545818694,
          1218.3706231096287,
          1256.7891542651103,
          1297.1286119783658,
          1339.485042577284,
          1383.9592947061483,
          1430.6572594414558,
          1479.6901224135288,
          1531.174628534205,
          1585.2333599609153,
          1641.995027958961,
          1701.5947793569087,
          1764.1745183247542,
          1829.8832442409919,
          1898.8774064530414,
          1971.3212767756934,
          2047.3873406144783,
          2127.2567076452024,
          2211.119543027462,
          2299.175520178835,
          2391.6342961877767,
          2488.7160109971655,
          2590.6518115470235,
          2697.684402124374,
          2810.068622230593,
          2928.0720533421227,
          3051.975656009229,
          3182.0744388096905,
          3318.678160750175,
          3462.1120687876837,
          3612.717672227068,
          3770.853555838421,
          3936.896233630342,
          4111.24104531186,
          4294.303097577453,
          4486.518252456326,
          4688.344165079142,
          4900.261373333099,
          5122.774441999753,
          5356.413164099741,
          5601.733822304729,
          5859.320513419965,
          6129.786539090964,
          6413.775866045512,
          6711.964659347787
         ],
         "yaxis": "y3"
        }
       ],
       "layout": {
        "annotations": [
         {
          "font": {
           "size": 16
          },
          "showarrow": false,
          "text": "Stocks",
          "x": 0.14444444444444446,
          "xanchor": "center",
          "xref": "paper",
          "y": 1,
          "yanchor": "bottom",
          "yref": "paper"
         },
         {
          "font": {
           "size": 16
          },
          "showarrow": false,
          "text": "Inflows",
          "x": 0.5,
          "xanchor": "center",
          "xref": "paper",
          "y": 1,
          "yanchor": "bottom",
          "yref": "paper"
         },
         {
          "font": {
           "size": 16
          },
          "showarrow": false,
          "text": "Outflows",
          "x": 0.8555555555555556,
          "xanchor": "center",
          "xref": "paper",
          "y": 1,
          "yanchor": "bottom",
          "yref": "paper"
         }
        ],
        "template": {
         "data": {
          "bar": [
           {
            "error_x": {
             "color": "#2a3f5f"
            },
            "error_y": {
             "color": "#2a3f5f"
            },
            "marker": {
             "line": {
              "color": "#E5ECF6",
              "width": 0.5
             },
             "pattern": {
              "fillmode": "overlay",
              "size": 10,
              "solidity": 0.2
             }
            },
            "type": "bar"
           }
          ],
          "barpolar": [
           {
            "marker": {
             "line": {
              "color": "#E5ECF6",
              "width": 0.5
             },
             "pattern": {
              "fillmode": "overlay",
              "size": 10,
              "solidity": 0.2
             }
            },
            "type": "barpolar"
           }
          ],
          "carpet": [
           {
            "aaxis": {
             "endlinecolor": "#2a3f5f",
             "gridcolor": "white",
             "linecolor": "white",
             "minorgridcolor": "white",
             "startlinecolor": "#2a3f5f"
            },
            "baxis": {
             "endlinecolor": "#2a3f5f",
             "gridcolor": "white",
             "linecolor": "white",
             "minorgridcolor": "white",
             "startlinecolor": "#2a3f5f"
            },
            "type": "carpet"
           }
          ],
          "choropleth": [
           {
            "colorbar": {
             "outlinewidth": 0,
             "ticks": ""
            },
            "type": "choropleth"
           }
          ],
          "contour": [
           {
            "colorbar": {
             "outlinewidth": 0,
             "ticks": ""
            },
            "colorscale": [
             [
              0,
              "#0d0887"
             ],
             [
              0.1111111111111111,
              "#46039f"
             ],
             [
              0.2222222222222222,
              "#7201a8"
             ],
             [
              0.3333333333333333,
              "#9c179e"
             ],
             [
              0.4444444444444444,
              "#bd3786"
             ],
             [
              0.5555555555555556,
              "#d8576b"
             ],
             [
              0.6666666666666666,
              "#ed7953"
             ],
             [
              0.7777777777777778,
              "#fb9f3a"
             ],
             [
              0.8888888888888888,
              "#fdca26"
             ],
             [
              1,
              "#f0f921"
             ]
            ],
            "type": "contour"
           }
          ],
          "contourcarpet": [
           {
            "colorbar": {
             "outlinewidth": 0,
             "ticks": ""
            },
            "type": "contourcarpet"
           }
          ],
          "heatmap": [
           {
            "colorbar": {
             "outlinewidth": 0,
             "ticks": ""
            },
            "colorscale": [
             [
              0,
              "#0d0887"
             ],
             [
              0.1111111111111111,
              "#46039f"
             ],
             [
              0.2222222222222222,
              "#7201a8"
             ],
             [
              0.3333333333333333,
              "#9c179e"
             ],
             [
              0.4444444444444444,
              "#bd3786"
             ],
             [
              0.5555555555555556,
              "#d8576b"
             ],
             [
              0.6666666666666666,
              "#ed7953"
             ],
             [
              0.7777777777777778,
              "#fb9f3a"
             ],
             [
              0.8888888888888888,
              "#fdca26"
             ],
             [
              1,
              "#f0f921"
             ]
            ],
            "type": "heatmap"
           }
          ],
          "heatmapgl": [
           {
            "colorbar": {
             "outlinewidth": 0,
             "ticks": ""
            },
            "colorscale": [
             [
              0,
              "#0d0887"
             ],
             [
              0.1111111111111111,
              "#46039f"
             ],
             [
              0.2222222222222222,
              "#7201a8"
             ],
             [
              0.3333333333333333,
              "#9c179e"
             ],
             [
              0.4444444444444444,
              "#bd3786"
             ],
             [
              0.5555555555555556,
              "#d8576b"
             ],
             [
              0.6666666666666666,
              "#ed7953"
             ],
             [
              0.7777777777777778,
              "#fb9f3a"
             ],
             [
              0.8888888888888888,
              "#fdca26"
             ],
             [
              1,
              "#f0f921"
             ]
            ],
            "type": "heatmapgl"
           }
          ],
          "histogram": [
           {
            "marker": {
             "pattern": {
              "fillmode": "overlay",
              "size": 10,
              "solidity": 0.2
             }
            },
            "type": "histogram"
           }
          ],
          "histogram2d": [
           {
            "colorbar": {
             "outlinewidth": 0,
             "ticks": ""
            },
            "colorscale": [
             [
              0,
              "#0d0887"
             ],
             [
              0.1111111111111111,
              "#46039f"
             ],
             [
              0.2222222222222222,
              "#7201a8"
             ],
             [
              0.3333333333333333,
              "#9c179e"
             ],
             [
              0.4444444444444444,
              "#bd3786"
             ],
             [
              0.5555555555555556,
              "#d8576b"
             ],
             [
              0.6666666666666666,
              "#ed7953"
             ],
             [
              0.7777777777777778,
              "#fb9f3a"
             ],
             [
              0.8888888888888888,
              "#fdca26"
             ],
             [
              1,
              "#f0f921"
             ]
            ],
            "type": "histogram2d"
           }
          ],
          "histogram2dcontour": [
           {
            "colorbar": {
             "outlinewidth": 0,
             "ticks": ""
            },
            "colorscale": [
             [
              0,
              "#0d0887"
             ],
             [
              0.1111111111111111,
              "#46039f"
             ],
             [
              0.2222222222222222,
              "#7201a8"
             ],
             [
              0.3333333333333333,
              "#9c179e"
             ],
             [
              0.4444444444444444,
              "#bd3786"
             ],
             [
              0.5555555555555556,
              "#d8576b"
             ],
             [
              0.6666666666666666,
              "#ed7953"
             ],
             [
              0.7777777777777778,
              "#fb9f3a"
             ],
             [
              0.8888888888888888,
              "#fdca26"
             ],
             [
              1,
              "#f0f921"
             ]
            ],
            "type": "histogram2dcontour"
           }
          ],
          "mesh3d": [
           {
            "colorbar": {
             "outlinewidth": 0,
             "ticks": ""
            },
            "type": "mesh3d"
           }
          ],
          "parcoords": [
           {
            "line": {
             "colorbar": {
              "outlinewidth": 0,
              "ticks": ""
             }
            },
            "type": "parcoords"
           }
          ],
          "pie": [
           {
            "automargin": true,
            "type": "pie"
           }
          ],
          "scatter": [
           {
            "fillpattern": {
             "fillmode": "overlay",
             "size": 10,
             "solidity": 0.2
            },
            "type": "scatter"
           }
          ],
          "scatter3d": [
           {
            "line": {
             "colorbar": {
              "outlinewidth": 0,
              "ticks": ""
             }
            },
            "marker": {
             "colorbar": {
              "outlinewidth": 0,
              "ticks": ""
             }
            },
            "type": "scatter3d"
           }
          ],
          "scattercarpet": [
           {
            "marker": {
             "colorbar": {
              "outlinewidth": 0,
              "ticks": ""
             }
            },
            "type": "scattercarpet"
           }
          ],
          "scattergeo": [
           {
            "marker": {
             "colorbar": {
              "outlinewidth": 0,
              "ticks": ""
             }
            },
            "type": "scattergeo"
           }
          ],
          "scattergl": [
           {
            "marker": {
             "colorbar": {
              "outlinewidth": 0,
              "ticks": ""
             }
            },
            "type": "scattergl"
           }
          ],
          "scattermapbox": [
           {
            "marker": {
             "colorbar": {
              "outlinewidth": 0,
              "ticks": ""
             }
            },
            "type": "scattermapbox"
           }
          ],
          "scatterpolar": [
           {
            "marker": {
             "colorbar": {
              "outlinewidth": 0,
              "ticks": ""
             }
            },
            "type": "scatterpolar"
           }
          ],
          "scatterpolargl": [
           {
            "marker": {
             "colorbar": {
              "outlinewidth": 0,
              "ticks": ""
             }
            },
            "type": "scatterpolargl"
           }
          ],
          "scatterternary": [
           {
            "marker": {
             "colorbar": {
              "outlinewidth": 0,
              "ticks": ""
             }
            },
            "type": "scatterternary"
           }
          ],
          "surface": [
           {
            "colorbar": {
             "outlinewidth": 0,
             "ticks": ""
            },
            "colorscale": [
             [
              0,
              "#0d0887"
             ],
             [
              0.1111111111111111,
              "#46039f"
             ],
             [
              0.2222222222222222,
              "#7201a8"
             ],
             [
              0.3333333333333333,
              "#9c179e"
             ],
             [
              0.4444444444444444,
              "#bd3786"
             ],
             [
              0.5555555555555556,
              "#d8576b"
             ],
             [
              0.6666666666666666,
              "#ed7953"
             ],
             [
              0.7777777777777778,
              "#fb9f3a"
             ],
             [
              0.8888888888888888,
              "#fdca26"
             ],
             [
              1,
              "#f0f921"
             ]
            ],
            "type": "surface"
           }
          ],
          "table": [
           {
            "cells": {
             "fill": {
              "color": "#EBF0F8"
             },
             "line": {
              "color": "white"
             }
            },
            "header": {
             "fill": {
              "color": "#C8D4E3"
             },
             "line": {
              "color": "white"
             }
            },
            "type": "table"
           }
          ]
         },
         "layout": {
          "annotationdefaults": {
           "arrowcolor": "#2a3f5f",
           "arrowhead": 0,
           "arrowwidth": 1
          },
          "autotypenumbers": "strict",
          "coloraxis": {
           "colorbar": {
            "outlinewidth": 0,
            "ticks": ""
           }
          },
          "colorscale": {
           "diverging": [
            [
             0,
             "#8e0152"
            ],
            [
             0.1,
             "#c51b7d"
            ],
            [
             0.2,
             "#de77ae"
            ],
            [
             0.3,
             "#f1b6da"
            ],
            [
             0.4,
             "#fde0ef"
            ],
            [
             0.5,
             "#f7f7f7"
            ],
            [
             0.6,
             "#e6f5d0"
            ],
            [
             0.7,
             "#b8e186"
            ],
            [
             0.8,
             "#7fbc41"
            ],
            [
             0.9,
             "#4d9221"
            ],
            [
             1,
             "#276419"
            ]
           ],
           "sequential": [
            [
             0,
             "#0d0887"
            ],
            [
             0.1111111111111111,
             "#46039f"
            ],
            [
             0.2222222222222222,
             "#7201a8"
            ],
            [
             0.3333333333333333,
             "#9c179e"
            ],
            [
             0.4444444444444444,
             "#bd3786"
            ],
            [
             0.5555555555555556,
             "#d8576b"
            ],
            [
             0.6666666666666666,
             "#ed7953"
            ],
            [
             0.7777777777777778,
             "#fb9f3a"
            ],
            [
             0.8888888888888888,
             "#fdca26"
            ],
            [
             1,
             "#f0f921"
            ]
           ],
           "sequentialminus": [
            [
             0,
             "#0d0887"
            ],
            [
             0.1111111111111111,
             "#46039f"
            ],
            [
             0.2222222222222222,
             "#7201a8"
            ],
            [
             0.3333333333333333,
             "#9c179e"
            ],
            [
             0.4444444444444444,
             "#bd3786"
            ],
            [
             0.5555555555555556,
             "#d8576b"
            ],
            [
             0.6666666666666666,
             "#ed7953"
            ],
            [
             0.7777777777777778,
             "#fb9f3a"
            ],
            [
             0.8888888888888888,
             "#fdca26"
            ],
            [
             1,
             "#f0f921"
            ]
           ]
          },
          "colorway": [
           "#636efa",
           "#EF553B",
           "#00cc96",
           "#ab63fa",
           "#FFA15A",
           "#19d3f3",
           "#FF6692",
           "#B6E880",
           "#FF97FF",
           "#FECB52"
          ],
          "font": {
           "color": "#2a3f5f"
          },
          "geo": {
           "bgcolor": "white",
           "lakecolor": "white",
           "landcolor": "#E5ECF6",
           "showlakes": true,
           "showland": true,
           "subunitcolor": "white"
          },
          "hoverlabel": {
           "align": "left"
          },
          "hovermode": "closest",
          "mapbox": {
           "style": "light"
          },
          "paper_bgcolor": "white",
          "plot_bgcolor": "#E5ECF6",
          "polar": {
           "angularaxis": {
            "gridcolor": "white",
            "linecolor": "white",
            "ticks": ""
           },
           "bgcolor": "#E5ECF6",
           "radialaxis": {
            "gridcolor": "white",
            "linecolor": "white",
            "ticks": ""
           }
          },
          "scene": {
           "xaxis": {
            "backgroundcolor": "#E5ECF6",
            "gridcolor": "white",
            "gridwidth": 2,
            "linecolor": "white",
            "showbackground": true,
            "ticks": "",
            "zerolinecolor": "white"
           },
           "yaxis": {
            "backgroundcolor": "#E5ECF6",
            "gridcolor": "white",
            "gridwidth": 2,
            "linecolor": "white",
            "showbackground": true,
            "ticks": "",
            "zerolinecolor": "white"
           },
           "zaxis": {
            "backgroundcolor": "#E5ECF6",
            "gridcolor": "white",
            "gridwidth": 2,
            "linecolor": "white",
            "showbackground": true,
            "ticks": "",
            "zerolinecolor": "white"
           }
          },
          "shapedefaults": {
           "line": {
            "color": "#2a3f5f"
           }
          },
          "ternary": {
           "aaxis": {
            "gridcolor": "white",
            "linecolor": "white",
            "ticks": ""
           },
           "baxis": {
            "gridcolor": "white",
            "linecolor": "white",
            "ticks": ""
           },
           "bgcolor": "#E5ECF6",
           "caxis": {
            "gridcolor": "white",
            "linecolor": "white",
            "ticks": ""
           }
          },
          "title": {
           "x": 0.05
          },
          "xaxis": {
           "automargin": true,
           "gridcolor": "white",
           "linecolor": "white",
           "ticks": "",
           "title": {
            "standoff": 15
           },
           "zerolinecolor": "white",
           "zerolinewidth": 2
          },
          "yaxis": {
           "automargin": true,
           "gridcolor": "white",
           "linecolor": "white",
           "ticks": "",
           "title": {
            "standoff": 15
           },
           "zerolinecolor": "white",
           "zerolinewidth": 2
          }
         }
        },
        "xaxis": {
         "anchor": "y",
         "domain": [
          0,
          0.2888888888888889
         ]
        },
        "xaxis2": {
         "anchor": "y2",
         "domain": [
          0.35555555555555557,
          0.6444444444444445
         ]
        },
        "xaxis3": {
         "anchor": "y3",
         "domain": [
          0.7111111111111111,
          1
         ]
        },
        "yaxis": {
         "anchor": "x",
         "domain": [
          0,
          1
         ],
         "type": "log"
        },
        "yaxis2": {
         "anchor": "x2",
         "domain": [
          0,
          1
         ],
         "type": "log"
        },
        "yaxis3": {
         "anchor": "x3",
         "domain": [
          0,
          1
         ],
         "type": "log"
        }
       }
      }
     },
     "metadata": {},
     "output_type": "display_data"
    }
   ],
   "source": [
    "stocks, inflows, outflows, time = run_sim(t=100)\n",
    "res = [stocks, inflows, outflows]\n",
    "plot_simulation(res, log=True)"
   ]
  }
 ],
 "metadata": {
  "kernelspec": {
   "display_name": "classenv",
   "language": "python",
   "name": "python3"
  },
  "language_info": {
   "codemirror_mode": {
    "name": "ipython",
    "version": 3
   },
   "file_extension": ".py",
   "mimetype": "text/x-python",
   "name": "python",
   "nbconvert_exporter": "python",
   "pygments_lexer": "ipython3",
   "version": "3.9.15"
  },
  "orig_nbformat": 4
 },
 "nbformat": 4,
 "nbformat_minor": 2
}
